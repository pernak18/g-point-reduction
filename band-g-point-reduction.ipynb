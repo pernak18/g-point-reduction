{
 "cells": [
  {
   "cell_type": "markdown",
   "metadata": {},
   "source": [
    "# By-Band _g_-Point Reduction"
   ]
  },
  {
   "cell_type": "markdown",
   "metadata": {},
   "source": [
    "# Dependencies\n",
    "\n",
    "`numpy` is installed in the Python environment at NERSC (`module load python`), but `xarray` is not, so the user must install the package on their own. `PIPPATH` is the assumed location. This notebook depends heavily on `xarray`."
   ]
  },
  {
   "cell_type": "code",
   "execution_count": 1,
   "metadata": {},
   "outputs": [],
   "source": [
    "import os, sys, shutil, glob\n",
    "\n",
    "# \"standard\" install\n",
    "import numpy as np\n",
    "\n",
    "from multiprocessing import Pool\n",
    "\n",
    "# directory in which libraries installed with conda are saved\n",
    "PIPPATH = '{}/.local/'.format(os.path.expanduser('~')) + \\\n",
    "    'cori/3.7-anaconda-2019.10/lib/python3.7/site-packages'\n",
    "PATHS = ['common', PIPPATH]\n",
    "for path in PATHS: sys.path.append(path)\n",
    "\n",
    "# needed at AER unless i update `pandas`\n",
    "import warnings\n",
    "#warnings.simplefilter(action='ignore', category=FutureWarning)\n",
    "warnings.simplefilter(action='ignore', category=Warning)\n",
    "\n",
    "# user must do `pip install xarray` on cori (or other NERSC machines)\n",
    "import xarray as xa\n",
    "\n",
    "# local module\n",
    "import by_band_lib as BYBAND"
   ]
  },
  {
   "cell_type": "markdown",
   "metadata": {},
   "source": [
    "# Static Inputs"
   ]
  },
  {
   "cell_type": "code",
   "execution_count": 2,
   "metadata": {},
   "outputs": [],
   "source": [
    "# only do one domain or the other\n",
    "DOLW = True\n",
    "DOSW = not DOLW\n",
    "DOMAIN = 'LW' if DOLW else 'SW'\n",
    "NBANDS = 16 if DOLW else 14\n",
    "\n",
    "# forcing scenario (0 is no forcing...need a more comprehensive list)\n",
    "IFORCING = 0\n",
    "\n",
    "# does band-splitting need to be done, or are there existing files \n",
    "# that have divided up the full k-distribution?\n",
    "BANDSPLIT = False\n",
    "\n",
    "# remove the netCDFs that are generated for all of the combinations \n",
    "# and iterations of combinations in bandOptimize()\n",
    "CLEANUP = True\n",
    "\n",
    "# cost function variables\n",
    "CFCOMPS = ['flux_net', 'heating_rate', 'band_flux_net']\n",
    "CFLEVS = [0, 10000, 102000] # pressure levels of interest in Pa\n",
    "CFWGT = [1., 1., 1., .5]"
   ]
  },
  {
   "cell_type": "markdown",
   "metadata": {},
   "source": [
    "# Paths"
   ]
  },
  {
   "cell_type": "code",
   "execution_count": 3,
   "metadata": {},
   "outputs": [],
   "source": [
    "PROJECT = '/project/projectdirs/e3sm/pernak18/reference_netCDF/g-point-reduce'\n",
    "KFULLNC = '{}/rrtmgp-data-lw-g256-2018-12-04.nc'.format(PROJECT)\n",
    "EXE = 'garand_atmos/rrtmgp_garand_atmos'\n",
    "GARAND = '{}/multi_garand_template_single_band.nc'.format(PROJECT)\n",
    "\n",
    "# test (RRTMGP) and reference (LBL) flux netCDF files\n",
    "TESTNC = '{}/rrtmgp-lw-flux-inputs-outputs-garandANDpreind.nc'.format(PROJECT)\n",
    "REFNC = '{}/lblrtm-lw-flux-inputs-outputs-garandANDpreind.nc'.format(PROJECT)\n",
    "PATHS = [KFULLNC, EXE, TESTNC, REFNC, GARAND]\n",
    "\n",
    "BANDSPLITDIR = 'band_k_dist'\n",
    "FULLBANDFLUXDIR = 'full_band_flux'\n",
    "\n",
    "for PATH in PATHS: BYBAND.pathCheck(PATH)\n",
    "\n",
    "CWD = os.getcwd()"
   ]
  },
  {
   "cell_type": "markdown",
   "metadata": {},
   "source": [
    "# Band Splitting\n",
    "\n",
    "Break up full _k_-distribution file into separate distributions for each band, then calculate the corresponding fluxes. This should only need to be run once.\n",
    "\n",
    "After some clarifications from Robert (30-Nov-2020), I believe the plan of action is:\n",
    "\n",
    "1. Perform _g_-point combination for 1 band at a time\n",
    "2. Combine condensed _k_-distribution for a given band with the full distributions from the rest of the bands\n",
    "3. Run RRTMGP on output from item 2\n",
    "4. Compute cost function for broadband fluxes, not by-band\n",
    "\n",
    "Original Plan of Action:\n",
    "\n",
    "- [] We would create Nbands k-distribution files\n",
    "- [] We’d use Python to drive the Fortran executable Nbands times to produce Nbands flux results\n",
    "- [] The trial g-point combinations then loop over bands and the possible g-point combinations within each band, creating k-distribution and band-wise flux files for each possible combination\n",
    "- [] The Python code assembles broadband fluxes from the band-wise flux files in order to compute the cost functions"
   ]
  },
  {
   "cell_type": "code",
   "execution_count": 4,
   "metadata": {},
   "outputs": [],
   "source": [
    "if BANDSPLIT:\n",
    "    print('Band splitting commenced')\n",
    "    BYBAND.pathCheck(BANDSPLITDIR, mkdir=True)\n",
    "    BYBAND.pathCheck(FULLBANDFLUXDIR, mkdir=True)\n",
    "    kFiles, fullBandFluxes = [], []\n",
    "    for iBand in range(NBANDS):\n",
    "        # divide full k-distribution into subsets for each band\n",
    "        kObj = BYBAND.gCombine_kDist(KFULLNC, iBand, DOLW, \n",
    "            fullBandKDir=BANDSPLITDIR, fullBandFluxDir=FULLBANDFLUXDIR, \n",
    "            cleanup=CLEANUP)\n",
    "        kFiles.append(kObj.kBandNC)\n",
    "        kObj.kDistBand()\n",
    "\n",
    "        # quick, non-parallelized flux calculations (because the \n",
    "        # executable is run in one directory)\n",
    "        kObj.fluxCompute(kObj.kBandNC)\n",
    "        fullBandFluxes.append(kObj.fluxBandNC)\n",
    "    # end band loop\n",
    "    print('Band splitting completed')\n",
    "else:\n",
    "    kFiles = sorted(glob.glob('{}/coefficients_{}_band??.nc'.format(\n",
    "        BANDSPLITDIR, DOMAIN)))\n",
    "    fullBandFluxes = sorted(glob.glob('{}/flux_{}_band??.nc'.format(\n",
    "        FULLBANDFLUXDIR, DOMAIN)))\n",
    "\n",
    "    if len(kFiles) == 0 or len(fullBandFluxes) == 0:\n",
    "        print('WARNING: set `BANDSPLIT` to `True` and run this cell again')\n",
    "# endif BANDSPLIT\n"
   ]
  },
  {
   "cell_type": "markdown",
   "metadata": {},
   "source": [
    "# _g_-Point Combining\n",
    "\n",
    "Combine _g_-point reduced for bands with full-band fluxes from other bands, find optimal _g_-point combination for given iteration, proceed to next iteration."
   ]
  },
  {
   "cell_type": "code",
   "execution_count": 5,
   "metadata": {},
   "outputs": [
    {
     "name": "stdout",
     "output_type": "stream",
     "text": [
      "Band 1 complete\n",
      "Band 2 complete\n",
      "Band 3 complete\n",
      "Band 4 complete\n",
      "Band 5 complete\n",
      "Band 6 complete\n",
      "Band 7 complete\n",
      "Band 8 complete\n",
      "Band 9 complete\n",
      "Band 10 complete\n",
      "Band 11 complete\n",
      "Band 12 complete\n",
      "Band 13 complete\n",
      "Band 14 complete\n",
      "Band 15 complete\n",
      "Band 16 complete\n"
     ]
    }
   ],
   "source": [
    "kBandDict = {}\n",
    "for iBand, kFile in enumerate(kFiles):\n",
    "    #if iBand != 3: continue\n",
    "    band = iBand + 1\n",
    "    iterBand = 1\n",
    "    kObj = BYBAND.gCombine_kDist(kFile, iBand, DOLW, \n",
    "        exeRRTMGP=EXE, fullBandKDir=BANDSPLITDIR, \n",
    "        fullBandFluxDir=FULLBANDFLUXDIR, cleanup=CLEANUP)\n",
    "    kObj.gPointCombine()\n",
    "    kBandDict['band{:02d}'.format(band)] = kObj\n",
    "\n",
    "    print('Band {} complete'.format(band))\n",
    "# end kFile loop\n",
    "\n",
    "\"\"\"\n",
    "BYBAND.gCombine_Cost(kBandDict, REFNC, TESTNC, \n",
    "            iForce, iterBand, profilesNC=GARAND, exeRRTMGP=EXE, \n",
    "            fullBandKDir=BANDSPLITDIR, fullBandFluxDir=FULLBANDFLUXDIR, \n",
    "            costFuncComp=['flux_net', 'band_flux_net'], \n",
    "            cleanup=CLEANUP)\n",
    "\"\"\"\n",
    "\n",
    "def optCostFunc(kBandFile, iBand, doLW, iForce, fluxFiles, cleanup=False):\n",
    "    \"\"\"\n",
    "    needs a lot of work -- just spitballin\n",
    "\n",
    "    single-band optimization, to be combined with broadband fluxes \n",
    "    from other bands before cost function optimization \n",
    "    \"\"\"\n",
    "\n",
    "    band = iBand + 1\n",
    "    iterBand = 1\n",
    "    while True:\n",
    "        print('Starting Band {}, iteration {}'.format(band, iterBand))\n",
    "        # start with `kFile` with no g-point combinations for a given band\n",
    "        kObj = BYBAND.kDistOptBand(kBandFile, REFNC, TESTNC, \n",
    "            iBand, doLW, iForce, iterBand, profilesNC=GARAND, exeRRTMGP=EXE, \n",
    "            fullBandKDir=BANDSPLITDIR, fullBandFluxDir=FULLBANDFLUXDIR, \n",
    "            costFuncComp=['flux_net', 'band_flux_net'], \n",
    "            cleanup=CLEANUP)\n",
    "\n",
    "        # combine g-points in band and generate corresponding netCDF\n",
    "        print('\\tCombining g-points and writing associated netCDF files')\n",
    "        kObj.gPointCombine()\n",
    "        break\n",
    "# end band"
   ]
  },
  {
   "cell_type": "code",
   "execution_count": null,
   "metadata": {},
   "outputs": [],
   "source": []
  }
 ],
 "metadata": {
  "kernelspec": {
   "display_name": "Python 3",
   "language": "python",
   "name": "python3"
  },
  "language_info": {
   "codemirror_mode": {
    "name": "ipython",
    "version": 3
   },
   "file_extension": ".py",
   "mimetype": "text/x-python",
   "name": "python",
   "nbconvert_exporter": "python",
   "pygments_lexer": "ipython3",
   "version": "3.7.4"
  }
 },
 "nbformat": 4,
 "nbformat_minor": 4
}
