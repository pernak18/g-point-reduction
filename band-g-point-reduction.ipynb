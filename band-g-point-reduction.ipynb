{
 "cells": [
  {
   "cell_type": "markdown",
   "metadata": {},
   "source": [
    "# By-Band _g_-Point Reduction"
   ]
  },
  {
   "cell_type": "markdown",
   "metadata": {},
   "source": [
    "# Dependencies\n",
    "\n",
    "`numpy` is installed in the Python environment at NERSC (`module load python`), but `xarray` is not, so the user must install the package on their own. `PIPPATH` is the assumed location. This notebook depends heavily on `xarray`."
   ]
  },
  {
   "cell_type": "code",
   "execution_count": 1,
   "metadata": {},
   "outputs": [],
   "source": [
    "import os, sys, shutil, glob\n",
    "\n",
    "# \"standard\" install\n",
    "import numpy as np\n",
    "\n",
    "# directory in which libraries installed with conda are saved\n",
    "PIPPATH = '{}/.local/'.format(os.path.expanduser('~')) + \\\n",
    "    'cori/3.7-anaconda-2019.10/lib/python3.7/site-packages'\n",
    "PATHS = ['common', PIPPATH]\n",
    "for path in PATHS: sys.path.append(path)\n",
    "\n",
    "# user must do `pip install xarray` on cori (or other NERSC machines)\n",
    "import xarray as xa\n",
    "\n",
    "# local module\n",
    "import by_band_lib as BYBAND"
   ]
  },
  {
   "cell_type": "markdown",
   "metadata": {},
   "source": [
    "# Static Inputs"
   ]
  },
  {
   "cell_type": "code",
   "execution_count": 2,
   "metadata": {},
   "outputs": [],
   "source": [
    "# only do one domain or the other\n",
    "DOLW = True\n",
    "DOSW = not DOLW\n",
    "DOMAIN = 'lw' if DOLW else 'sw'\n",
    "NBANDS = 16 if DOLW else 14\n",
    "\n",
    "# forcing scenario (0 is no forcing...need a more comprehensive list)\n",
    "IFORCING = 0\n",
    "\n",
    "# does band-splitting need to be done, or are there existing files \n",
    "# that have divided up the full k-distribution?\n",
    "BANDSPLIT = False\n",
    "\n",
    "# remove the netCDFs that are generated for all of the combinations \n",
    "# and iterations of combinations in bandOptimize()\n",
    "CLEANUP = False"
   ]
  },
  {
   "cell_type": "markdown",
   "metadata": {},
   "source": [
    "# Paths"
   ]
  },
  {
   "cell_type": "code",
   "execution_count": 3,
   "metadata": {},
   "outputs": [],
   "source": [
    "PROJECT = '/global/project/projectdirs/e3sm/pernak18/'\n",
    "KFULLNC = '{}/reference_netCDF/g-point-reduce/'.format(PROJECT) + \\\n",
    "  'rrtmgp-data-lw-g256-2018-12-04.nc'\n",
    "EXE = '{}/g-point-reduction/garand_atmos/rrtmgp_garand_atmos'.format(\n",
    "    PROJECT)\n",
    "GARAND = '{}/reference_netCDF/g-point-reduce/'.format(PROJECT) + \\\n",
    "  'multi_garand_template.nc'\n",
    "PATHS = [KFULLNC, EXE]\n",
    "\n",
    "BANDSPLITDIR = 'band_k_dist'\n",
    "FULLBANDFLUXDIR = 'full_band_flux'\n",
    "if not BANDSPLIT: PATHS += [BANDSPLITDIR, FULLBANDFLUXDIR]\n",
    "\n",
    "for PATH in PATHS: BYBAND.pathCheck(PATH)\n",
    "\n",
    "CWD = os.getcwd()"
   ]
  },
  {
   "cell_type": "markdown",
   "metadata": {},
   "source": [
    "# Band Splitting\n",
    "\n",
    "Break up full _k_-distribution file into separate distributions for each band, then calculate the corresponding fluxes. This should only need to be run once.\n",
    "\n",
    "After some clarifications from Robert (30-Nov-2020), I believe the plan of action is:\n",
    "\n",
    "1. Perform _g_-point combination for 1 band at a time\n",
    "2. Combine condensed _k_-distribution for a given band with the full distributions from the rest of the bands\n",
    "3. Run RRTMGP on output from item 2\n",
    "4. Compute cost function for broadband fluxes, not by-band\n",
    "\n",
    "Original Plan of Action:\n",
    "\n",
    "- [] We would create Nbands k-distribution files\n",
    "- [] We’d use Python to drive the Fortran executable Nbands times to produce Nbands flux results\n",
    "- [] The trial g-point combinations then loop over bands and the possible g-point combinations within each band, creating k-distribution and band-wise flux files for each possible combination\n",
    "- [] The Python code assembles broadband fluxes from the band-wise flux files in order to compute the cost functions"
   ]
  },
  {
   "cell_type": "code",
   "execution_count": 4,
   "metadata": {},
   "outputs": [],
   "source": [
    "if BANDSPLIT:\n",
    "    # divide full k-distribution into subsets for each band\n",
    "    print('Band splitting commenced')\n",
    "    kFiles = BYBAND.kDistBandSplit(KFULLNC, \n",
    "        outDir=BANDSPLITDIR, domain=DOMAIN)\n",
    "    print('Band splitting completed')\n",
    "\n",
    "    # quick, non-parallelized flux calculations (because the \n",
    "    # executable is run in one directory)\n",
    "    print('Full band flux calculations commenced')\n",
    "    BYBAND.pathCheck(FULLBANDFLUXDIR, mkdir=True)\n",
    "    fullBandFluxes = []\n",
    "    for kFile in kFiles:\n",
    "        BYBAND.fluxCompute(kFile, \n",
    "            fluxDir=FULLBANDFLUXDIR, atmSpecFile=GARAND)\n",
    "        fullBandFluxes.append(outFile)\n",
    "    # end kFile loop\n",
    "    print('Full band flux calculations completed')\n",
    "else:\n",
    "    kFiles = sorted(glob.glob('{}/coefficients_{}_band??.nc'.format(\n",
    "        BANDSPLITDIR, DOMAIN)))\n",
    "    fullBandFluxes = sorted(glob.glob('{}/flux_{}_band??.nc'.format(\n",
    "        FULLBANDFLUXDIR, DOMAIN)))\n",
    "# endif BANDSPLIT\n"
   ]
  },
  {
   "cell_type": "markdown",
   "metadata": {},
   "source": [
    "# _g_-Point Combining\n",
    "\n",
    "Loop over bands and combine their respective _g_-points. For each combination in a band, compute fluxes, then concatenate these fluxes with the full-band fluxes from other bands, then compute broadband fluxes and corresponding cost function."
   ]
  },
  {
   "cell_type": "code",
   "execution_count": 5,
   "metadata": {},
   "outputs": [
    {
     "name": "stdout",
     "output_type": "stream",
     "text": [
      "Starting Band 1, iteration 1\n",
      "Starting Band 1, iteration 2\n",
      "Starting Band 1, iteration 3\n",
      "Starting Band 1, iteration 4\n",
      "Starting Band 1, iteration 5\n",
      "Starting Band 1, iteration 6\n",
      "Starting Band 1, iteration 7\n",
      "Starting Band 1, iteration 8\n",
      "Starting Band 1, iteration 9\n",
      "Starting Band 1, iteration 10\n",
      "Starting Band 1, iteration 11\n",
      "Starting Band 1, iteration 12\n",
      "Starting Band 1, iteration 13\n",
      "Starting Band 1, iteration 14\n",
      "Starting Band 1, iteration 15\n",
      "Starting Band 1, iteration 16\n",
      "Band 1 complete\n"
     ]
    }
   ],
   "source": [
    "# loop over bands and instantiate a band optimization object\n",
    "\n",
    "# leave `bands` empty if all bands should be processed\n",
    "bands = [1]\n",
    "if not bands: bands = range(1, NBANDS+1)\n",
    "\n",
    "# loop over bands and instantiate a band optimization object\n",
    "# optimizing each band\n",
    "for iBand, kFile in enumerate(kFiles):\n",
    "    band = iBand + 1\n",
    "    if band not in bands: continue\n",
    "\n",
    "    BYBAND.bandOptimize(kFile, band, DOLW, IFORCING, fullBandFluxes, \n",
    "                        cleanup=CLEANUP)\n",
    "    print('Band {} complete'.format(band))\n",
    "# end kFile loop\n"
   ]
  },
  {
   "cell_type": "code",
   "execution_count": null,
   "metadata": {},
   "outputs": [],
   "source": []
  }
 ],
 "metadata": {
  "kernelspec": {
   "display_name": "Python 3",
   "language": "python",
   "name": "python3"
  },
  "language_info": {
   "codemirror_mode": {
    "name": "ipython",
    "version": 3
   },
   "file_extension": ".py",
   "mimetype": "text/x-python",
   "name": "python",
   "nbconvert_exporter": "python",
   "pygments_lexer": "ipython3",
   "version": "3.7.4"
  }
 },
 "nbformat": 4,
 "nbformat_minor": 4
}
