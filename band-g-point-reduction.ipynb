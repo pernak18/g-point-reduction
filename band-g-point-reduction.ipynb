{
 "cells": [
  {
   "cell_type": "markdown",
   "metadata": {},
   "source": [
    "# By-Band _g_-Point Reduction"
   ]
  },
  {
   "cell_type": "code",
   "execution_count": 1,
   "metadata": {},
   "outputs": [],
   "source": [
    "%load_ext autoreload\n",
    "%autoreload 2"
   ]
  },
  {
   "cell_type": "markdown",
   "metadata": {},
   "source": [
    "# Dependencies\n",
    "\n",
    "`numpy` is installed in the Python environment at NERSC (`module load python`), but `xarray` is not, so the user must install the package on their own. `PIPPATH` is the assumed location. This notebook depends heavily on `xarray`."
   ]
  },
  {
   "cell_type": "code",
   "execution_count": 2,
   "metadata": {},
   "outputs": [],
   "source": [
    "# standard libraries\n",
    "import os, sys, shutil, glob, pickle\n",
    "from multiprocessing import Pool\n",
    "\n",
    "# \"standard\" conda install (NERSC already provides this without user \n",
    "# having to install it)\n",
    "import numpy as np\n",
    "\n",
    "# conda installs\n",
    "from tqdm import tqdm\n",
    "\n",
    "# directory in which libraries installed with conda are saved\n",
    "PIPPATH = '{}/.local/'.format(os.path.expanduser('~')) + \\\n",
    "    'cori/3.7-anaconda-2019.10/lib/python3.7/site-packages'\n",
    "PIPPATH = '/global/homes/e/emlawer/.local/cori/3.8-anaconda-2020.11/' + \\\n",
    "     'lib/python3.8/site-packages'\n",
    "PIPPATH = '/global/homes/p/pernak18/.local/cori/3.9-anaconda-2021.11/lib/python3.9/site-packages'\n",
    "PIPPATH = '/global/common/software/nersc/cori-2022q1/sw/python/3.9-anaconda-2021.11'\n",
    "PATHS = ['common']\n",
    "for path in PATHS: sys.path.append(path)\n",
    "\n",
    "# needed at AER unless i update `pandas`\n",
    "import warnings\n",
    "#warnings.simplefilter(action='ignore', category=FutureWarning)\n",
    "warnings.simplefilter(action='ignore', category=Warning)\n",
    "\n",
    "# user must do `pip install xarray` on cori (or other NERSC machines)\n",
    "import xarray as xa\n",
    "\n",
    "# local modules\n",
    "import g_point_reduction as REDUX\n",
    "import modified_reduction as MODRED\n",
    "from rrtmgp_cost_compute import flux_cost_compute as FCC"
   ]
  },
  {
   "cell_type": "markdown",
   "metadata": {},
   "source": [
    "# Static Inputs"
   ]
  },
  {
   "cell_type": "code",
   "execution_count": 3,
   "metadata": {},
   "outputs": [],
   "source": [
    "# only do one domain or the other\n",
    "DOLW = True\n",
    "DOMAIN = 'LW' if DOLW else 'SW'\n",
    "NBANDS = 16 if DOLW else 14\n",
    "\n",
    "# does band-splitting need to be done, or are there existing files \n",
    "# that have divided up the full k-distribution?\n",
    "BANDSPLIT = False"
   ]
  },
  {
   "cell_type": "markdown",
   "metadata": {},
   "source": [
    "# Paths"
   ]
  },
  {
   "cell_type": "code",
   "execution_count": 4,
   "metadata": {},
   "outputs": [],
   "source": [
    "PROJECT = '/global/project/projectdirs/e3sm/pernak18/'\n",
    "EXE = '{}/g-point-reduction/garand_atmos/rrtmgp_garand_atmos'.format(\n",
    "    PROJECT)\n",
    "REFDIR = '{}/reference_netCDF/g-point-reduce'.format(PROJECT)\n",
    "\n",
    "# test (RRTMGP) and reference (LBL) flux netCDF files, full k-distributions, \n",
    "# and by-band Garand input file\n",
    "fluxSuffix = 'flux-inputs-outputs-garandANDpreind.nc'\n",
    "if DOLW:\n",
    "    GARAND = '{}/multi_garand_template_single_band.nc'.format(REFDIR)\n",
    "    KFULLNC = '{}/rrtmgp-data-lw-g256-2018-12-04.nc'.format(REFDIR)\n",
    "    KFULLNC = '{}/rrtmgp-data-lw-g256-jen-xs.nc'.format(REFDIR)\n",
    "    REFNC = '{}/lblrtm-lw-{}'.format(REFDIR, fluxSuffix)\n",
    "    TESTNC = '{}/rrtmgp-lw-{}'.format(REFDIR, fluxSuffix)\n",
    "    #TESTNC = 'rrtmgp-lw-flux-inputs-outputs-garand-all.nc'\n",
    "else:\n",
    "    GARAND = '{}/charts_multi_garand_template_single_band.nc'.format(REFDIR)\n",
    "    KFULLNC = '{}/rrtmgp-data-sw-g224-2018-12-04.nc'.format(REFDIR)\n",
    "    REFNC = '{}/charts-sw-{}'.format(REFDIR, fluxSuffix)\n",
    "    TESTNC = '{}/rrtmgp-sw-{}'.format(REFDIR, fluxSuffix)\n",
    "# endif LW\n",
    "\n",
    "BANDSPLITDIR = 'band_k_dist'\n",
    "FULLBANDFLUXDIR = 'full_band_flux'\n",
    "\n",
    "for PATH in PATHS: FCC.pathCheck(PATH)\n",
    "\n",
    "CWD = os.getcwd()\n",
    "\n",
    "KPICKLE = '{}_k-dist.pickle'.format(DOMAIN)\n",
    "pickleCost = '{}_cost-optimize.pickle'.format(DOMAIN)"
   ]
  },
  {
   "cell_type": "markdown",
   "metadata": {},
   "source": [
    "# Band Splitting\n",
    "\n",
    "Break up full _k_-distribution file into separate distributions for each band, then calculate the corresponding fluxes. This should only need to be run once.\n",
    "\n",
    "After some clarifications from Robert (30-Nov-2020), I believe the plan of action is:\n",
    "\n",
    "1. create Nbands k-distribution files\n",
    "2. drive the Fortran executable Nbands times to produce Nbands flux results\n",
    "3. the trial g-point combinations then loop over bands and the possible g-point combinations within each band, creating k-distribution and band-wise flux files for each possible combination\n",
    "4. The Python code assembles broadband fluxes from the band-wise flux files in order to compute the cost functions"
   ]
  },
  {
   "cell_type": "code",
   "execution_count": 5,
   "metadata": {},
   "outputs": [],
   "source": [
    "if BANDSPLIT:\n",
    "    print('Band splitting commenced')\n",
    "    FCC.pathCheck(BANDSPLITDIR, mkdir=True)\n",
    "    FCC.pathCheck(FULLBANDFLUXDIR, mkdir=True)\n",
    "    kFiles, fullBandFluxes = [], []\n",
    "    for iBand in tqdm(range(NBANDS)):\n",
    "        # divide full k-distribution into subsets for each band\n",
    "        kObj = REDUX.gCombine_kDist(KFULLNC, iBand, DOLW, 1, \n",
    "            fullBandKDir=BANDSPLITDIR, fullBandFluxDir=FULLBANDFLUXDIR, \n",
    "            profilesNC=GARAND)\n",
    "        kFiles.append(kObj.kBandNC)\n",
    "        kObj.kDistBand()\n",
    "\n",
    "        # quick, non-parallelized flux calculations (because the \n",
    "        # executable is run in one directory)\n",
    "        FCC.fluxCompute(kObj.kBandNC, kObj.profiles, kObj.exe, \n",
    "                           kObj.fullBandFluxDir, kObj.fluxBandNC)\n",
    "        fullBandFluxes.append(kObj.fluxBandNC)\n",
    "    # end band loop\n",
    "    print('Band splitting completed')\n",
    "else:\n",
    "    kFiles = sorted(glob.glob('{}/coefficients_{}_band??.nc'.format(\n",
    "        BANDSPLITDIR, DOMAIN)))\n",
    "    fullBandFluxes = sorted(glob.glob('{}/flux_{}_band??.nc'.format(\n",
    "        FULLBANDFLUXDIR, DOMAIN)))\n",
    "\n",
    "    if len(kFiles) == 0 or len(fullBandFluxes) == 0:\n",
    "        print('WARNING: set `BANDSPLIT` to `True` and run this cell again')\n",
    "# endif BANDSPLIT\n"
   ]
  },
  {
   "cell_type": "markdown",
   "metadata": {},
   "source": [
    "# Pressure Levels for Cost Function\n",
    "\n",
    "Pressure levels [Pa] for the Garand atmospheres are printed to standard output with indices that can be used in the cost function:"
   ]
  },
  {
   "cell_type": "code",
   "execution_count": null,
   "metadata": {},
   "outputs": [],
   "source": [
    "with xa.open_dataset(REFNC) as refDS:\n",
    "    pLev = refDS['p_lev'].isel(record=0)\n",
    "for iLev, pLev in enumerate(pLev.isel(col=0).values): print(iLev, pLev)"
   ]
  },
  {
   "cell_type": "markdown",
   "metadata": {},
   "source": [
    "# _g_-Point Combining\n",
    "\n",
    "Combine _g_-point reduced for bands with full-band fluxes from other bands, find optimal _g_-point combination for given iteration, proceed to next iteration.\n",
    "\n",
    "First, find all _g_-point combinations for each band. Store the band object in a dictionary for use in flux computation. This cell only needs to be run once, and to save time in development, the dictionary is saved in a `pickle` file and can be loaded in the next cell."
   ]
  },
  {
   "cell_type": "code",
   "execution_count": null,
   "metadata": {},
   "outputs": [],
   "source": [
    "# this should be parallelized; also is part of preprocessing so we \n",
    "# shouldn't have to run it multiple times\n",
    "kBandDict = {}\n",
    "for iBand, kFile in tqdm(enumerate(kFiles)):\n",
    "    #if iBand != 0: continue\n",
    "    band = iBand + 1\n",
    "    kObj = REDUX.gCombine_kDist(kFile, iBand, DOLW, 1, \n",
    "        fullBandKDir=BANDSPLITDIR, \n",
    "        fullBandFluxDir=FULLBANDFLUXDIR)\n",
    "    kObj.gPointCombine()\n",
    "    kBandDict['band{:02d}'.format(band)] = kObj\n",
    "\n",
    "    print('Band {} complete'.format(band))\n",
    "# end kFile loop\n",
    "\n",
    "import pickle\n",
    "with open(KPICKLE, 'wb') as fp: pickle.dump(kBandDict, fp)"
   ]
  },
  {
   "cell_type": "markdown",
   "metadata": {},
   "source": [
    "Now compute fluxes in parallel for every _g_-point combination -- merging occurs in each band, and these combinations in a given band are used with broadband fluxes from other bands. These concatenations each have an associated `xarray` dataset assigned to it. Cost function components are then calculated based for each dataset, and the one that minimizes the error in the cost function will have its associated netCDF saved to disk.\n",
    "\n",
    "Uncomment pickling block to restore dictionary from previous cell."
   ]
  },
  {
   "cell_type": "markdown",
   "metadata": {},
   "source": [
    "# Reduction and Optimization\n",
    "\n",
    "Test and reference netCDF files have flux and heating rate arrays of dimension `record` x `col` x `lay`/`lev` and `band` if the array is broken down by band. `record` represents atmospheric specifications that can be used in [forcing scenarios](https://github.com/pernak18/g-point-reduction/wiki/LW-Forcing-Number-Convention#g-point-reduction-convention-).\n",
    "\n",
    "Alternatively, the atmospheric specifications from any scenario can also be used. \"Bare\" parameters like `heating_rate` and `flux_net` will be treated as PD specifications, so the user will have to specify explicitly if they want the fluxes or heating rates from other scenarios by using the `flux_*_N` and `heating_rate_N` convention, where `N` is the scenario index as listed in the above list. The same convention applies to band fluxes and HRs. `N` = 0 will work just like `heating_rate` and `flux_net`.\n",
    "\n",
    "Forcing for this exercise is defined as PI subtracted from scenario (2-6). The convention for these quantities is `*_forcing_N`, where `*` is the typical flux or heating rate (band or broadband) string, and `N` again is the forcing scenario (`N` of 2 would be forcing due to doubling methane).\n",
    "\n",
    "First, let's define the cost function (component names, levels/layers, and weights):"
   ]
  },
  {
   "cell_type": "code",
   "execution_count": null,
   "metadata": {},
   "outputs": [],
   "source": [
    "# pickling for developement purposes so this dictionary doesn't need \n",
    "# to be regenerated for every code change.\n",
    "with open(KPICKLE, 'rb') as fp: kBandDict = pickle.load(fp)\n",
    "\n",
    "# components used in cost function computation\n",
    "# variable names in RRTMGP and LBL flux netCDF file, except for \n",
    "# forcing, which has to be specifed with \"_forcing\" appended to \n",
    "# the appropriate array. e.g., \"flux_net_forcing\" for net flux forcing\n",
    "# netCDF arrays ('heating_rate', 'flux_net', 'band_flux_net', etc.)\n",
    "# or forcing scenarios: convention is  ('flux_net_forcing_3') for \n",
    "#CFCOMPS = ['flux_dif_net', 'flux_dir_dn', 'heating_rate']\n",
    "CFCOMPS = ['flux_net','band_flux_net','heating_rate','heating_rate_7',\n",
    "           'flux_net_forcing_5','flux_net_forcing_6','flux_net_forcing_7',\n",
    "           'flux_net_forcing_9','flux_net_forcing_10','flux_net_forcing_11',\n",
    "           'flux_net_forcing_12','flux_net_forcing_13','flux_net_forcing_14',\n",
    "           'flux_net_forcing_15','flux_net_forcing_16','flux_net_forcing_17',\n",
    "           'flux_net_forcing_18']\n",
    "# level indices for each component \n",
    "# (e.g., 0 for surface, 41 for Garand TOA)\n",
    "# one dictionary key per component so each component\n",
    "# can have its own set of level indices\n",
    "CFLEVS = {}\n",
    "CFLEVS['flux_net'] = [0, 26, 42]\n",
    "CFLEVS['band_flux_net'] = [42]\n",
    "CFLEVS['heating_rate'] = range(42)\n",
    "CFLEVS['heating_rate_7'] = range(42)\n",
    "CFLEVS['flux_net_forcing_5'] = [0, 26, 42]\n",
    "CFLEVS['flux_net_forcing_6'] = [0, 26, 42]\n",
    "CFLEVS['flux_net_forcing_7'] = [0, 26, 42]\n",
    "CFLEVS['flux_net_forcing_9'] = [0, 26, 42]\n",
    "CFLEVS['flux_net_forcing_10'] = [0, 26, 42]\n",
    "CFLEVS['flux_net_forcing_11'] = [0, 26, 42]\n",
    "CFLEVS['flux_net_forcing_12'] = [0, 26, 42]\n",
    "CFLEVS['flux_net_forcing_13'] = [0, 26, 42]\n",
    "CFLEVS['flux_net_forcing_14'] = [0, 26, 42]\n",
    "CFLEVS['flux_net_forcing_15'] = [0, 26, 42]\n",
    "CFLEVS['flux_net_forcing_16'] = [0, 26, 42]\n",
    "CFLEVS['flux_net_forcing_17'] = [0, 26, 42]\n",
    "CFLEVS['flux_net_forcing_18'] = [0, 26, 42]\n",
    "\n",
    "# weights for each cost function component\n",
    "CFWGT = [0.6, 0.04, 0.12, 0.12,\n",
    "         0.01, 0.02, 0.04,\n",
    "        0.005, 0.005, 0.005,\n",
    "        0.005, 0.005, 0.005, \n",
    "        0.005, 0.005, 0.005,\n",
    "        0.005]\n",
    "\n",
    "# directory under which to store k-distribution files that optimize \n",
    "# the cost function for each iteration and diagnistics (if necessary)\n",
    "CFDIR = 'fullCF_top-layer_redo_abs_parabola'\n",
    "FCC.pathCheck(CFDIR, mkdir=True)"
   ]
  },
  {
   "cell_type": "markdown",
   "metadata": {},
   "source": [
    "Now we starting combining _g_-points and calculating costs for all combinations, then select the trial that minimizes the cost for a given iteration. Rinse and repeat."
   ]
  },
  {
   "cell_type": "code",
   "execution_count": null,
   "metadata": {},
   "outputs": [],
   "source": [
    "### write diagnostic netCDFs with cost function components\n",
    "DIAGNOSTICS = True\n",
    "\n",
    "RESTORE = True\n",
    "\n",
    "if RESTORE:\n",
    "    assert os.path.exists(pickleCost), 'Cannot find {}'.format(pickleCost)\n",
    "    print('Restoring {}'.format(pickleCost))\n",
    "    with open(pickleCost, 'rb') as fp: coObj = pickle.load(fp)\n",
    "else:\n",
    "    # instantiate object for computing cost\n",
    "    coObj = REDUX.gCombine_Cost(\n",
    "        kBandDict, fullBandFluxes, REFNC, TESTNC, 1, \n",
    "        DOLW, profilesNC=GARAND, exeRRTMGP=EXE, \n",
    "        costFuncComp=CFCOMPS, costFuncLevs=CFLEVS, \n",
    "        costWeights=CFWGT, optDir='./{}'.format(CFDIR))\n",
    "# endif RESTORE\n",
    "\n",
    "# number of iterations for the optimization\n",
    "NITER = 94\n",
    "\n",
    "COSTCUT = 0.1\n",
    "\n",
    "for i in range(coObj.iCombine, NITER+1):\n",
    "    print('Iteration {}'.format(i))\n",
    "    coObj.kMap()\n",
    "    coObj.fluxComputePool()\n",
    "    coObj.fluxCombine()\n",
    "    if i == 1: coObj.costFuncComp(init=True)\n",
    "    coObj.costFuncComp()\n",
    "    coObj.findOptimal()\n",
    "    if coObj.optimized: break\n",
    "    if DIAGNOSTICS: coObj.costDiagnostics()\n",
    "\n",
    "    # Start of special g-point combination branch\n",
    "    dCostIter = np.abs(coObj.totalCost[coObj.iOpt]-coObj.winnerCost)\n",
    "    if dCostIter > COSTCUT: break\n",
    "\n",
    "    # coObj = REDUX.modCombine(coObj, i, coObj.optBand, \n",
    "    #     diagnostics=DIAGNOSTICS, \n",
    "    #     kDirIn=BANDSPLITDIR, fluxDirIn=FULLBANDFLUXDIR)\n",
    "\n",
    "    coObj.setupNextIter()\n",
    "    with open(pickleCost, 'wb') as fp: pickle.dump(coObj, fp)\n",
    "    if i in [90, 93, 100, 114]:\n",
    "        with open('LW_cost-optimize_iter{:03d}.pickle'.format(i), 'wb') as fp: pickle.dump(coObj, fp)\n",
    "    coObj.calcOptFlux(\n",
    "        fluxOutNC='optimized_{}_fluxes_iter{:03d}.nc'.format(DOMAIN, i))\n",
    "# end iteration loop\n",
    "\n",
    "KOUTNC = 'rrtmgp-data-{}-g-red.nc'.format(DOMAIN)\n",
    "\n",
    "# TO DO: getting this error:\n",
    "# `Using a DataArray object to construct a variable is ambiguous, please extract the data using the .data property.`\n",
    "# but not sure how to fix -- downgrading xarray didn't work\n",
    "# it's not vital, though, for now -- we have all the information to RESTORE then try building this \n",
    "# again when we think we have a fix, as long as the files are not deleted\n",
    "# coObj.kDistOpt(KFULLNC, kOutNC=KOUTNC)\n",
    "\n",
    "coObj.calcOptFlux(fluxOutNC='optimized_{}_fluxes.nc'.format(DOMAIN))\n",
    "with open('LW_cost-optimize_iter{:03d}.pickle'.format(i), 'wb') as fp: pickle.dump(coObj, fp)"
   ]
  },
  {
   "cell_type": "markdown",
   "metadata": {},
   "source": [
    "# Modified _g_-Point Combining\n",
    "\n",
    "At this point, we have reached large enough delta-costs -- i.e., the cost difference with respect to the **previous** iteration -- such that we would like to implement the modified _g_-point combining [described](https://github.com/pernak18/g-point-reduction/wiki/Modified-g-Point-Combining) by Eli. [Issue 19](https://github.com/pernak18/g-point-reduction/issues/19) details the refinements on this modified combination approach, namely:\n",
    "\n",
    "- parabolas are not necessary used in finding the zero crossing anymore; Eli found that the trends of scaling the weights and their associated delta-costs were approximately linear\n",
    "- we need to focus on all remaining trials, not just the \"winner\" of a given iteration as we did in Karen's implementation of the modified combining (methods with `sgl` in their names)\n",
    "\n",
    "The latter item is the stickler because we have to calculate fluxes and associated costs for all remaining trials over a few more \"weight scales\" that are the abscissa to go along with their delta-cost ordinates, which will be used in determining zero crossings and thus the scale weight that minimizes the delta-cost. Currently, we scale the _g_-point weights with `iniWgt` scaled with 0 (\"init\"), 1 (\"plus\"), and 2 (\"2plus\"), which is the naming convention used by Karen. We may revisit how many data points we use, given that a) the flux and cost computations are expensive (time), and b) delta-costs are linear with weight. \n",
    "\n",
    "First, we define some variables that are exclusive to modified combining:"
   ]
  },
  {
   "cell_type": "code",
   "execution_count": null,
   "metadata": {},
   "outputs": [],
   "source": [
    "with open('LW_cost-optimize_iter094.pickle', 'rb') as fp: coObj = pickle.load(fp)\n",
    "\n",
    "iniWgt = 0.05\n",
    "kModPickle = 'LW_mod-k-dist.pickle'\n",
    "costModPickle = 'LW_mod-cost-optimize.pickle'\n",
    "kBand = coObj.distBands"
   ]
  },
  {
   "cell_type": "markdown",
   "metadata": {},
   "source": [
    "Then we have to apply the modified combinations and generate their corresponding _k_-distribution file:"
   ]
  },
  {
   "cell_type": "code",
   "execution_count": null,
   "metadata": {},
   "outputs": [],
   "source": [
    "kBandDict = MODRED.kModInit(coObj.distBands, coObj.iCombine, doLW=DOLW, \n",
    "    weight=iniWgt, kDir=BANDSPLITDIR, fluxDir=FULLBANDFLUXDIR)\n",
    "\n",
    "with open(kModPickle, 'wb') as fp: pickle.dump(kBandDict, fp)\n",
    "print('Wrote modified k-dist objects to {}'.format(kModPickle))"
   ]
  },
  {
   "cell_type": "markdown",
   "metadata": {},
   "source": [
    "Now, we continue with those _k_-distributions in flux and cost computation, which is done exactly like we did with the original combinations. Note for diagnostics, we need to sync the modified cost optimization object (`coObjMod`) with original cost-optimization object (`coObj`) up to the current iteration where modification is first applied. Then we save the delta-costs for all trials in all weight scales to be used in the zero-crossing calculation."
   ]
  },
  {
   "cell_type": "code",
   "execution_count": null,
   "metadata": {},
   "outputs": [],
   "source": [
    "dCostMod, coObjMod = MODRED.costModInit(coObj, kBandDict)\n",
    "with open(costModPickle, 'wb') as fp: pickle.dump(coObjMod, fp)"
   ]
  },
  {
   "cell_type": "code",
   "execution_count": null,
   "metadata": {},
   "outputs": [],
   "source": [
    "newScales, cross = MODRED.scaleWeightRegress(dCostMod)"
   ]
  },
  {
   "cell_type": "markdown",
   "metadata": {},
   "source": [
    "Another round of _k_-distribution modifications to create the netCDFs with the zero-crossing scale weights that were found in the linear regression:"
   ]
  },
  {
   "cell_type": "code",
   "execution_count": null,
   "metadata": {},
   "outputs": [],
   "source": [
    "coObjMod = MODRED.whereRecompute(kBand, coObjMod, cross, newScales, weight=iniWgt)\n",
    "coObjRep = MODRED.recompute(coObj, coObjMod, np.where(cross)[0])"
   ]
  },
  {
   "cell_type": "markdown",
   "metadata": {},
   "source": [
    "Now we need to consolidate the reprocessed costs with modified-but-not-reprocessed (i.e., no zero crossing) trials. Then we can find the optimal solution after the full suite of _g_-point modification has been applied."
   ]
  },
  {
   "cell_type": "code",
   "execution_count": null,
   "metadata": {},
   "outputs": [],
   "source": [
    "coObjMod = MODRED.trialConsolidate(coObjMod, coObjRep, np.where(cross)[0], coObj.winnerCost)\n",
    "\n",
    "# save modified object WITH reprocessed results\n",
    "costRepPickle = costModPickle.replace('mod', 'rep')\n",
    "with open(costRepPickle, 'wb') as fp: pickle.dump(coObjMod, fp)"
   ]
  },
  {
   "cell_type": "markdown",
   "metadata": {},
   "source": [
    "Now that one iteration with modified combining is complete, we can proceed similarly to more iterations. This has the potentially to be **very** time consuming, even parallelized on a supercomputer (because of I/O? Python parallelization overhead? unsure why...), so from here on out, we'll try to use the _k_-distribution and cost optimization objects we've already taken the time to generate and only replace trials for the band that contained the winner in the previous iteration. While we're doing this only with modified combining, there is no reason this logic cannot be applied to iterations where the modified combining is not applied.\n",
    "\n",
    "While code snippets that follow work, they are poorly organized. In the future, one task may be to streamline the snippets a little more."
   ]
  },
  {
   "cell_type": "markdown",
   "metadata": {},
   "source": [
    "A note on the number of _g_-points that should exist at this point: e.g., at iteration 94, after combination modification, band 12 has a winner in it. Band 12 has not had a winner since iteration 78. At that iteration, 8 _g_-points were left in the band. That number perpetuates at iteration 94 because we have not done any additional combining of points -- we've only _changed_ how the 8 points were combined (with weights and scales to the weights). I'm not sure how this will affect future iterations where a new set of combinations is generated...I believe we'll have _x_ trials that need to be recomputed, but only _x_-1 combinations, so i'll just have to use `pop` or `totalCost`, `dCost`, etc. filters for NaNs to calibrate the trial numbers for the current iteration."
   ]
  },
  {
   "cell_type": "code",
   "execution_count": null,
   "metadata": {},
   "outputs": [],
   "source": [
    "# TO DO: verify *setupNextIter() (did we preserve what we wanted and add what we wanted?)\n",
    "# possible verification code snippet?\n",
    "# for i, fia in enumerate(coObj.fluxInputsAll):\n",
    "#     print(i, fia['bandID'], coObjMod.optBand, coObj.totalCost[i], coObj.dCost[i], coObjMod.totalCost[i], coObjMod.dCost[i], len(coObjMod.fluxInputsAll[i].keys()))\n",
    "\n",
    "# also compare initial modified trial costs to subsequent winners for verification\n",
    "metric = coObjMod.totalCost-coObj.winnerCost\n",
    "iSort = np.argsort(np.abs(metric))\n",
    "dcmi = dCostMod['init']\n",
    "dcm1 = dCostMod['plus']\n",
    "dcm2 = dCostMod['2plus']\n",
    "import pandas as PD\n",
    "temp = []\n",
    "for iisort, isort in enumerate(iSort): temp.append([iisort, isort, coObjMod.fluxInputsAll[isort]['bandID']+1, newScales[isort], dcmi[isort], dcm1[isort], dcm2[isort], metric[isort]])"
   ]
  },
  {
   "cell_type": "code",
   "execution_count": null,
   "metadata": {},
   "outputs": [],
   "source": [
    "PD.DataFrame(temp, columns=('index', 'trial', 'band', 'weight scale', 'dCost 0', 'dCost 1', 'dCost 2', 'dCost')).to_csv('dCost_mods_iter094_corrected2.csv')"
   ]
  },
  {
   "cell_type": "code",
   "execution_count": null,
   "metadata": {},
   "outputs": [],
   "source": [
    "RESTORE = False\n",
    "\n",
    "if RESTORE:\n",
    "    costModPickle = 'LW_mod-cost-optimize.pickle'\n",
    "    with open(costModPickle, 'rb') as fp: coObjMod = pickle.load(fp)\n",
    "    iniWgt = 0.05\n",
    "    kBandDict = MODRED.kModInit(coObjMod.distBands, coObjMod.iCombine, \n",
    "        doLW=DOLW, weight=iniWgt, kDir=BANDSPLITDIR, fluxDir=FULLBANDFLUXDIR)\n",
    "else:\n",
    "    MODRED.trialConsolidate(coObjMod, coObjRep, np.where(cross)[0], coObj.winnerCost)\n",
    "    coObjMod.iCombine = coObj.iCombine\n",
    "# endif RESTORE"
   ]
  },
  {
   "cell_type": "code",
   "execution_count": null,
   "metadata": {},
   "outputs": [],
   "source": [
    "# with open('LW_cost-optimize_iter094.pickle', 'rb') as fp: coObj = pickle.load(fp)\n",
    "\n",
    "# need to recalculate the fluxes and costs with new winner\n",
    "# recalibrated object will contain all trials\n",
    "# should only need to be used in subsequent winner choices\n",
    "coObjRC = MODRED.recalibrate(coObjMod)"
   ]
  },
  {
   "cell_type": "code",
   "execution_count": null,
   "metadata": {},
   "outputs": [],
   "source": [
    "from copy import deepcopy as DCP\n",
    "\n",
    "# kFiles will likely just contain plus and 2plus (no init), because we're always doing \n",
    "# the modified combination at this point\n",
    "kFiles = {}\n",
    "for sWgt in ['plus', '2plus']:\n",
    "    objModCP = DCP(coObjMod)\n",
    "    bandStr = 'band{:02d}'.format(coObjMod.optBand+1)\n",
    "    kBandDict[sWgt][bandStr], kFiles[sWgt] = MODRED.kModSetupNextIter(\n",
    "      objModCP, iniWgt, scaleWeight=sWgt)\n",
    "    coObjMod.distBands[bandStr] = kBandDict[sWgt][bandStr]\n",
    "# end scaleWeight loop"
   ]
  },
  {
   "cell_type": "code",
   "execution_count": null,
   "metadata": {},
   "outputs": [],
   "source": [
    "prevWinCost = coObjRC.winnerCost\n",
    "# coObj0 = DCP(coObjMOd)\n",
    "coObjNew, bandCosts, idModTrial = MODRED.coModSetupNextIter(coObjMod, list(idModTrial))"
   ]
  },
  {
   "cell_type": "code",
   "execution_count": null,
   "metadata": {},
   "outputs": [],
   "source": [
    "for i, dc in enumerate(dCostNew['init']): print(i+1, dCostMod['init'][i], dc)\n",
    "# dCostMod, coObjMod = MODRED.costModInit(coObj, kBandDict)\n"
   ]
  },
  {
   "cell_type": "code",
   "execution_count": null,
   "metadata": {},
   "outputs": [],
   "source": [
    "# TO DO: allow restart with modified reduction\n",
    "\n",
    "# save necessary variables we haven't already pickled so we don't have to run previous steps every time\n",
    "# this iteration\n",
    "modParamsPickle = 'modified_reduction_parameters_iter{:03d}.pickle'.format(coObjNew.iCombine-1)\n",
    "modParams = {\n",
    "    'dcost_dict': dCostMod, 'scale_factors': newScales, \n",
    "    'zero_cross': cross, 'k_files': kFiles, 'k_objects': kBandDict, \n",
    "    'band_costs': bandCosts}\n",
    "with open(modParamsPickle, 'wb') as fp: pickle.dump(modParams, fp)\n",
    "\n",
    "with open('LW_mod-cost-optimize_for_iter{:03d}.pickle'.format(coObjNew.iCombine), 'wb') as fp: pickle.dump(coObjNew, fp)\n",
    "with open('LW_mod-cost-optimize_recal_iter{:03d}.pickle'.format(coObjNew.iCombine-1), 'wb') as fp: pickle.dump(coObjRC, fp)"
   ]
  },
  {
   "cell_type": "code",
   "execution_count": null,
   "metadata": {},
   "outputs": [],
   "source": [
    "#### restore the variables\n",
    "RESTOREMODPARAMS = True\n",
    "if RESTOREMODPARAMS:\n",
    "    modParamsPickle = 'modified_reduction_parameters_iter094.pickle'\n",
    "    with open(modParamsPickle, 'rb') as fp:\n",
    "        modParams = pickle.load(fp)\n",
    "        dCostMod = modParams['dcost_dict']\n",
    "        newScales = modParams['scale_factors']\n",
    "        cross = modParams['zero_cross']\n",
    "        kFiles = modParams['k_files']\n",
    "        kBandDict = modParams['k_objects']\n",
    "        bandCosts = modParams['band_costs']\n",
    "    # endwith\n",
    "    with open('LW_mod-cost-optimize_for_iter095.pickle', 'rb') as fp: coObjNew = pickle.load(fp)\n",
    "    with open('LW_mod-cost-optimize_recal_iter094.pickle', 'rb') as fp: coObjRC = pickle.load(fp)\n",
    "    with open('LW_cost-optimize_iter094.pickle', 'rb') as fp: coObj = pickle.load(fp)\n",
    "    prevWinCost = coObjRC.winnerCost\n",
    "    iniWgt = 0.05\n",
    "# endif RESTORE MODPARAMS"
   ]
  },
  {
   "cell_type": "code",
   "execution_count": null,
   "metadata": {},
   "outputs": [],
   "source": [
    "from copy import deepcopy as DCP\n",
    "\n",
    "RESTOREMODPARAMS = True\n",
    "if RESTOREMODPARAMS:\n",
    "    modParamsPickle = 'modified_reduction_parameters_iter095.pickle'\n",
    "    with open(modParamsPickle, 'rb') as fp:\n",
    "        # modParams = {'k_files': kFiles, 'k_objects': kBandDict, 'band_costs': bandCosts, 'dcost_dict_next': dCostNew}\n",
    "        modParams = pickle.load(fp)\n",
    "        kFiles = modParams['k_files']\n",
    "        kBandDict = modParams['k_objects']\n",
    "        bandCosts = modParams['band_costs']\n",
    "        dCostMod = modParams['dCost_mod']\n",
    "    # endwith\n",
    "    with open('LW_mod-cost-optimize_for_iter096.pickle', 'rb') as fp: coObjNew = pickle.load(fp)\n",
    "\n",
    "    prevWinCost = coObjNew.winnerCost\n",
    "    iniWgt = 0.05\n",
    "\n",
    "    with open('LW_cost-optimize_iter094.pickle', 'rb') as fp: coObj = pickle.load(fp)\n",
    "# endif RESTORE MODPARAMS\n",
    "\n",
    "for i in tqdm(range(coObjNew.iCombine, coObjNew.iCombine+2)):\n",
    "    print('Iteration {}'.format(i))\n",
    "\n",
    "    iBandTrials, bandObj, dCostMod = MODRED.doBandTrials(coObjNew, kFiles, bandCosts, dict(dCostMod))\n",
    "    MODRED.trialConsolidate(coObjNew, bandObj, iBandTrials, prevWinCost)\n",
    "    # TO DO: coObj.winnerCost is the wrong offset after a band contains a winner\n",
    "    coObjRC, dCostMod = MODRED.rootUpdate(coObjNew, dCostMod, coObj.winnerCost, iBandTrials)\n",
    "\n",
    "    with open('LW_cost-optimize_iter{:03d}.pickle'.format(i), 'wb') as fp: pickle.dump(coObjRC, fp)\n",
    "\n",
    "    kFiles = {}\n",
    "    for sWgt in ['plus', '2plus']:\n",
    "        objModCP = DCP(coObjRC)\n",
    "        bandStr = 'band{:02d}'.format(coObjRC.optBand+1)\n",
    "        print(sWgt, bandStr)\n",
    "        kBandDict[sWgt][bandStr], kFiles[sWgt] = MODRED.kModSetupNextIter(\n",
    "          objModCP, iniWgt, scaleWeight=sWgt)\n",
    "        coObjRC.distBands[bandStr] = kBandDict[sWgt][bandStr]\n",
    "    # end scaleWeight loop\n",
    "\n",
    "    coObj0 = DCP(coObjRC)\n",
    "    coObjNew, bandCosts, dCostMod = MODRED.coModSetupNextIter(coObj0, dCostMod)\n",
    "    prevWinCost = coObjNew.winnerCost\n",
    "\n",
    "    with open('LW_mod-cost-optimize_for_iter{:03d}.pickle'.format(coObjNew.iCombine), 'wb') as fp: pickle.dump(coObjNew, fp)\n",
    "\n",
    "    modParamsPickle = 'modified_reduction_parameters_iter{:03d}.pickle'.format(coObjNew.iCombine-1)\n",
    "    modParams = {'k_files': kFiles, 'k_objects': kBandDict, 'band_costs': bandCosts, 'dCost_mod': dCostMod}\n",
    "    with open(modParamsPickle, 'wb') as fp: pickle.dump(modParams, fp)    \n",
    "# end combination loop"
   ]
  },
  {
   "cell_type": "code",
   "execution_count": null,
   "metadata": {},
   "outputs": [],
   "source": [
    "coeffs = np.polyfit([0, 1, 2], [-1.41312198e-03,  1.72157582e+00,  3.55118931e-01], 2)\n",
    "coeffs"
   ]
  },
  {
   "cell_type": "code",
   "execution_count": null,
   "metadata": {},
   "outputs": [],
   "source": [
    "roots = np.roots(coeffs)\n",
    "roots"
   ]
  },
  {
   "cell_type": "code",
   "execution_count": 280,
   "metadata": {},
   "outputs": [
    {
     "name": "stderr",
     "output_type": "stream",
     "text": [
      "  0%|          | 0/26 [00:00<?, ?it/s]"
     ]
    },
    {
     "name": "stdout",
     "output_type": "stream",
     "text": [
      "\n",
      "band13_coefficients_LW_g03-04_iter151_2p151.nc, Trial: 86, Cost: 105.125170, Delta-Cost: 0.7632\n",
      "\tflux_net, band_flux_net, heating_rate, heating_rate_7, flux_net_forcing_5, flux_net_forcing_6, flux_net_forcing_7, flux_net_forcing_9, flux_net_forcing_10, flux_net_forcing_11, flux_net_forcing_12, flux_net_forcing_13, flux_net_forcing_14, flux_net_forcing_15, flux_net_forcing_16, flux_net_forcing_17, flux_net_forcing_18 = 106.8802, 104.0238, 97.5369, 103.7645, 102.9103, 98.3291, 119.1113, 97.8040, 82.7138, 100.8565, 101.0959, 101.2410, 99.9596, 98.3183, 98.2247, 101.6861, 102.0614\n"
     ]
    },
    {
     "name": "stderr",
     "output_type": "stream",
     "text": [
      "  4%|▍         | 1/26 [07:58<3:19:17, 478.31s/it]"
     ]
    },
    {
     "name": "stdout",
     "output_type": "stream",
     "text": [
      "\n",
      "band01_coefficients_LW_g02-03_iter152_2p152.nc, Trial: 2, Cost: 104.266787, Delta-Cost: -0.8584\n",
      "\tflux_net, band_flux_net, heating_rate, heating_rate_7, flux_net_forcing_5, flux_net_forcing_6, flux_net_forcing_7, flux_net_forcing_9, flux_net_forcing_10, flux_net_forcing_11, flux_net_forcing_12, flux_net_forcing_13, flux_net_forcing_14, flux_net_forcing_15, flux_net_forcing_16, flux_net_forcing_17, flux_net_forcing_18 = 105.1257, 102.0804, 98.5763, 104.9921, 102.9103, 98.3291, 119.1118, 97.8040, 82.7138, 100.8565, 101.0959, 101.2410, 99.9596, 98.3183, 98.2247, 101.6861, 102.0614\n"
     ]
    },
    {
     "name": "stderr",
     "output_type": "stream",
     "text": [
      "  8%|▊         | 2/26 [16:50<3:23:54, 509.75s/it]"
     ]
    },
    {
     "name": "stdout",
     "output_type": "stream",
     "text": [
      "\n",
      "band07_coefficients_LW_g01-02_iter153_2p153.nc, Trial: 48, Cost: 103.519969, Delta-Cost: -0.7468\n",
      "\tflux_net, band_flux_net, heating_rate, heating_rate_7, flux_net_forcing_5, flux_net_forcing_6, flux_net_forcing_7, flux_net_forcing_9, flux_net_forcing_10, flux_net_forcing_11, flux_net_forcing_12, flux_net_forcing_13, flux_net_forcing_14, flux_net_forcing_15, flux_net_forcing_16, flux_net_forcing_17, flux_net_forcing_18 = 103.2441, 105.6427, 99.7353, 105.5078, 102.9103, 98.3291, 120.0781, 97.8040, 82.7138, 100.8565, 101.0959, 101.2410, 99.9596, 98.3183, 98.2247, 101.6861, 102.0614\n"
     ]
    },
    {
     "name": "stderr",
     "output_type": "stream",
     "text": [
      " 12%|█▏        | 3/26 [25:29<3:17:08, 514.30s/it]"
     ]
    },
    {
     "name": "stdout",
     "output_type": "stream",
     "text": [
      "\n",
      "band09_coefficients_LW_g05-06_iter154_2p154.nc, Trial: 65, Cost: 103.546749, Delta-Cost: 0.0268\n",
      "\tflux_net, band_flux_net, heating_rate, heating_rate_7, flux_net_forcing_5, flux_net_forcing_6, flux_net_forcing_7, flux_net_forcing_9, flux_net_forcing_10, flux_net_forcing_11, flux_net_forcing_12, flux_net_forcing_13, flux_net_forcing_14, flux_net_forcing_15, flux_net_forcing_16, flux_net_forcing_17, flux_net_forcing_18 = 103.3802, 104.9370, 99.1839, 105.2428, 107.0453, 100.5275, 120.0781, 97.8040, 82.7138, 100.8565, 101.0959, 98.6493, 99.9860, 98.3183, 98.2247, 102.3461, 101.1630\n"
     ]
    },
    {
     "name": "stderr",
     "output_type": "stream",
     "text": [
      " 15%|█▌        | 4/26 [33:41<3:05:20, 505.46s/it]"
     ]
    },
    {
     "name": "stdout",
     "output_type": "stream",
     "text": [
      "\n",
      "band05_coefficients_LW_g02-03_iter155_2p155.nc, Trial: 34, Cost: 103.152318, Delta-Cost: -0.3944\n",
      "\tflux_net, band_flux_net, heating_rate, heating_rate_7, flux_net_forcing_5, flux_net_forcing_6, flux_net_forcing_7, flux_net_forcing_9, flux_net_forcing_10, flux_net_forcing_11, flux_net_forcing_12, flux_net_forcing_13, flux_net_forcing_14, flux_net_forcing_15, flux_net_forcing_16, flux_net_forcing_17, flux_net_forcing_18 = 102.8003, 106.9301, 99.5334, 105.4052, 107.0453, 100.5275, 113.0077, 116.7654, 82.7138, 100.8565, 101.1769, 98.6493, 99.9860, 98.3183, 98.2247, 102.3461, 101.1630\n"
     ]
    },
    {
     "name": "stderr",
     "output_type": "stream",
     "text": [
      " 19%|█▉        | 5/26 [41:59<2:55:53, 502.54s/it]"
     ]
    },
    {
     "name": "stdout",
     "output_type": "stream",
     "text": [
      "\n",
      "band05_coefficients_LW_g03-04_iter156_2p156.nc, Trial: 35, Cost: 103.349609, Delta-Cost: 0.1973\n",
      "\tflux_net, band_flux_net, heating_rate, heating_rate_7, flux_net_forcing_5, flux_net_forcing_6, flux_net_forcing_7, flux_net_forcing_9, flux_net_forcing_10, flux_net_forcing_11, flux_net_forcing_12, flux_net_forcing_13, flux_net_forcing_14, flux_net_forcing_15, flux_net_forcing_16, flux_net_forcing_17, flux_net_forcing_18 = 98.3140, 107.4574, 99.0940, 104.4097, 107.0453, 100.5275, 192.8489, 88.1032, 82.7138, 100.8565, 99.1445, 98.6493, 99.9860, 98.3183, 98.2247, 102.3461, 101.1630\n"
     ]
    },
    {
     "name": "stderr",
     "output_type": "stream",
     "text": [
      " 23%|██▎       | 6/26 [50:25<2:47:59, 503.95s/it]"
     ]
    },
    {
     "name": "stdout",
     "output_type": "stream",
     "text": [
      "\n",
      "band07_coefficients_LW_g04-05_iter157_regr157.nc, Trial: 49, Cost: 103.295230, Delta-Cost: -0.0544\n",
      "\tflux_net, band_flux_net, heating_rate, heating_rate_7, flux_net_forcing_5, flux_net_forcing_6, flux_net_forcing_7, flux_net_forcing_9, flux_net_forcing_10, flux_net_forcing_11, flux_net_forcing_12, flux_net_forcing_13, flux_net_forcing_14, flux_net_forcing_15, flux_net_forcing_16, flux_net_forcing_17, flux_net_forcing_18 = 99.3568, 103.5927, 96.0869, 102.3948, 107.0453, 100.5275, 194.7781, 88.1032, 82.7138, 100.8565, 99.1445, 98.6493, 99.9860, 98.3183, 98.2247, 102.3461, 101.1630\n"
     ]
    },
    {
     "name": "stderr",
     "output_type": "stream",
     "text": [
      " 27%|██▋       | 7/26 [58:42<2:38:47, 501.45s/it]"
     ]
    },
    {
     "name": "stdout",
     "output_type": "stream",
     "text": [
      "\n",
      "band05_coefficients_LW_g01-02_iter158_regr158.nc, Trial: 33, Cost: 103.103306, Delta-Cost: -0.1919\n",
      "\tflux_net, band_flux_net, heating_rate, heating_rate_7, flux_net_forcing_5, flux_net_forcing_6, flux_net_forcing_7, flux_net_forcing_9, flux_net_forcing_10, flux_net_forcing_11, flux_net_forcing_12, flux_net_forcing_13, flux_net_forcing_14, flux_net_forcing_15, flux_net_forcing_16, flux_net_forcing_17, flux_net_forcing_18 = 99.6972, 106.0005, 96.5794, 102.3959, 107.0453, 100.5275, 179.8221, 113.9464, 82.7138, 100.8565, 82.6038, 98.6493, 99.9860, 98.3183, 98.2247, 102.3461, 101.1630\n"
     ]
    },
    {
     "name": "stderr",
     "output_type": "stream",
     "text": [
      " 31%|███       | 8/26 [1:06:53<2:29:30, 498.34s/it]"
     ]
    },
    {
     "name": "stdout",
     "output_type": "stream",
     "text": [
      "\n",
      "band09_coefficients_LW_g07-08_iter159_2p159.nc, Trial: 63, Cost: 103.145388, Delta-Cost: 0.0421\n",
      "\tflux_net, band_flux_net, heating_rate, heating_rate_7, flux_net_forcing_5, flux_net_forcing_6, flux_net_forcing_7, flux_net_forcing_9, flux_net_forcing_10, flux_net_forcing_11, flux_net_forcing_12, flux_net_forcing_13, flux_net_forcing_14, flux_net_forcing_15, flux_net_forcing_16, flux_net_forcing_17, flux_net_forcing_18 = 99.4104, 106.3334, 97.2757, 104.2859, 103.7200, 96.6367, 179.8221, 113.9464, 82.7138, 100.8565, 82.6038, 98.5827, 100.0021, 98.3183, 98.2247, 102.5580, 101.3109\n"
     ]
    },
    {
     "name": "stderr",
     "output_type": "stream",
     "text": [
      " 35%|███▍      | 9/26 [1:15:14<2:21:23, 499.01s/it]"
     ]
    },
    {
     "name": "stdout",
     "output_type": "stream",
     "text": [
      "\n",
      "band12_coefficients_LW_g02-03_iter160_2p160.nc, Trial: 72, Cost: 103.515040, Delta-Cost: 0.3697\n",
      "\tflux_net, band_flux_net, heating_rate, heating_rate_7, flux_net_forcing_5, flux_net_forcing_6, flux_net_forcing_7, flux_net_forcing_9, flux_net_forcing_10, flux_net_forcing_11, flux_net_forcing_12, flux_net_forcing_13, flux_net_forcing_14, flux_net_forcing_15, flux_net_forcing_16, flux_net_forcing_17, flux_net_forcing_18 = 100.0922, 107.0898, 97.1559, 104.4115, 103.7200, 96.6367, 178.0626, 113.9464, 82.7138, 100.8565, 82.6038, 98.5827, 100.0021, 98.3183, 98.2247, 102.5580, 101.3109\n"
     ]
    },
    {
     "name": "stderr",
     "output_type": "stream",
     "text": [
      " 38%|███▊      | 10/26 [1:23:36<2:13:20, 500.03s/it]"
     ]
    },
    {
     "name": "stdout",
     "output_type": "stream",
     "text": [
      "\n",
      "band03_coefficients_LW_g07-08_iter161_2p161.nc, Trial: 23, Cost: 103.998976, Delta-Cost: 0.4839\n",
      "\tflux_net, band_flux_net, heating_rate, heating_rate_7, flux_net_forcing_5, flux_net_forcing_6, flux_net_forcing_7, flux_net_forcing_9, flux_net_forcing_10, flux_net_forcing_11, flux_net_forcing_12, flux_net_forcing_13, flux_net_forcing_14, flux_net_forcing_15, flux_net_forcing_16, flux_net_forcing_17, flux_net_forcing_18 = 98.3514, 109.1853, 104.5955, 110.2917, 103.7472, 96.6367, 174.2123, 113.9464, 82.7138, 100.8565, 82.6038, 98.5827, 100.0021, 98.3183, 98.2247, 102.5580, 101.3109\n"
     ]
    },
    {
     "name": "stderr",
     "output_type": "stream",
     "text": [
      " 42%|████▏     | 11/26 [1:31:52<2:04:42, 498.86s/it]"
     ]
    },
    {
     "name": "stdout",
     "output_type": "stream",
     "text": [
      "\n",
      "band11_coefficients_LW_g04-05_iter162_regr162.nc, Trial: 69, Cost: 103.986740, Delta-Cost: -0.0122\n",
      "\tflux_net, band_flux_net, heating_rate, heating_rate_7, flux_net_forcing_5, flux_net_forcing_6, flux_net_forcing_7, flux_net_forcing_9, flux_net_forcing_10, flux_net_forcing_11, flux_net_forcing_12, flux_net_forcing_13, flux_net_forcing_14, flux_net_forcing_15, flux_net_forcing_16, flux_net_forcing_17, flux_net_forcing_18 = 99.2268, 110.3605, 101.8924, 108.1241, 103.7472, 96.6367, 174.2123, 113.9464, 82.7138, 100.8565, 82.6038, 98.5827, 100.0021, 98.3183, 98.2247, 102.5580, 101.3109\n"
     ]
    },
    {
     "name": "stderr",
     "output_type": "stream",
     "text": [
      " 46%|████▌     | 12/26 [1:39:32<1:53:38, 487.05s/it]"
     ]
    },
    {
     "name": "stdout",
     "output_type": "stream",
     "text": [
      "\n",
      "band08_coefficients_LW_g07-08_iter163_2p163.nc, Trial: 55, Cost: 104.327036, Delta-Cost: 0.3403\n",
      "\tflux_net, band_flux_net, heating_rate, heating_rate_7, flux_net_forcing_5, flux_net_forcing_6, flux_net_forcing_7, flux_net_forcing_9, flux_net_forcing_10, flux_net_forcing_11, flux_net_forcing_12, flux_net_forcing_13, flux_net_forcing_14, flux_net_forcing_15, flux_net_forcing_16, flux_net_forcing_17, flux_net_forcing_18 = 100.5167, 108.6995, 99.8038, 107.5279, 104.0124, 96.6367, 173.8001, 113.9464, 82.7138, 99.5223, 81.4322, 98.5827, 99.1745, 94.3430, 98.5921, 103.2506, 101.3109\n"
     ]
    },
    {
     "name": "stderr",
     "output_type": "stream",
     "text": [
      " 50%|█████     | 13/26 [1:47:30<1:44:54, 484.17s/it]"
     ]
    },
    {
     "name": "stdout",
     "output_type": "stream",
     "text": [
      "\n",
      "band07_coefficients_LW_g01-02_iter164_regr164.nc, Trial: 44, Cost: 105.059802, Delta-Cost: 0.7328\n",
      "\tflux_net, band_flux_net, heating_rate, heating_rate_7, flux_net_forcing_5, flux_net_forcing_6, flux_net_forcing_7, flux_net_forcing_9, flux_net_forcing_10, flux_net_forcing_11, flux_net_forcing_12, flux_net_forcing_13, flux_net_forcing_14, flux_net_forcing_15, flux_net_forcing_16, flux_net_forcing_17, flux_net_forcing_18 = 102.0850, 107.4696, 98.4864, 107.0775, 104.0124, 96.6367, 175.1293, 113.9464, 82.7138, 99.5223, 81.4322, 98.5827, 99.1745, 94.3430, 98.5921, 103.2506, 101.3109\n"
     ]
    },
    {
     "name": "stderr",
     "output_type": "stream",
     "text": [
      " 54%|█████▍    | 14/26 [1:55:25<1:36:16, 481.39s/it]"
     ]
    },
    {
     "name": "stdout",
     "output_type": "stream",
     "text": [
      "\n",
      "band03_coefficients_LW_g01-02_iter165_2p165.nc, Trial: 17, Cost: 105.182491, Delta-Cost: 0.1227\n",
      "\tflux_net, band_flux_net, heating_rate, heating_rate_7, flux_net_forcing_5, flux_net_forcing_6, flux_net_forcing_7, flux_net_forcing_9, flux_net_forcing_10, flux_net_forcing_11, flux_net_forcing_12, flux_net_forcing_13, flux_net_forcing_14, flux_net_forcing_15, flux_net_forcing_16, flux_net_forcing_17, flux_net_forcing_18 = 98.5422, 117.1838, 102.4428, 111.5132, 102.4431, 96.6367, 196.8404, 113.9464, 82.7138, 99.5223, 81.4322, 98.5827, 99.1745, 94.3430, 98.5921, 103.2506, 101.3109\n"
     ]
    },
    {
     "name": "stderr",
     "output_type": "stream",
     "text": [
      " 58%|█████▊    | 15/26 [2:03:45<1:29:16, 486.92s/it]"
     ]
    },
    {
     "name": "stdout",
     "output_type": "stream",
     "text": [
      "\n",
      "band02_coefficients_LW_g02-03_iter166_regr166.nc, Trial: 9, Cost: 105.112573, Delta-Cost: -0.0699\n",
      "\tflux_net, band_flux_net, heating_rate, heating_rate_7, flux_net_forcing_5, flux_net_forcing_6, flux_net_forcing_7, flux_net_forcing_9, flux_net_forcing_10, flux_net_forcing_11, flux_net_forcing_12, flux_net_forcing_13, flux_net_forcing_14, flux_net_forcing_15, flux_net_forcing_16, flux_net_forcing_17, flux_net_forcing_18 = 97.3482, 125.2466, 105.6777, 110.9781, 102.4431, 96.6367, 196.8398, 113.9464, 82.7138, 99.5223, 81.4322, 98.5827, 99.1745, 94.3430, 98.5921, 103.2506, 101.3109\n"
     ]
    },
    {
     "name": "stderr",
     "output_type": "stream",
     "text": [
      " 62%|██████▏   | 16/26 [2:12:17<1:22:24, 494.47s/it]"
     ]
    },
    {
     "name": "stdout",
     "output_type": "stream",
     "text": [
      "\n",
      "band08_coefficients_LW_g05-06_iter167_2p167.nc, Trial: 50, Cost: 105.795132, Delta-Cost: 0.6826\n",
      "\tflux_net, band_flux_net, heating_rate, heating_rate_7, flux_net_forcing_5, flux_net_forcing_6, flux_net_forcing_7, flux_net_forcing_9, flux_net_forcing_10, flux_net_forcing_11, flux_net_forcing_12, flux_net_forcing_13, flux_net_forcing_14, flux_net_forcing_15, flux_net_forcing_16, flux_net_forcing_17, flux_net_forcing_18 = 98.4894, 125.6057, 105.6485, 110.9446, 102.8106, 96.6367, 196.9433, 113.9464, 82.7138, 99.1905, 80.2843, 98.5827, 97.7004, 92.2225, 100.5964, 102.9494, 101.3109\n"
     ]
    },
    {
     "name": "stderr",
     "output_type": "stream",
     "text": [
      " 65%|██████▌   | 17/26 [2:20:43<1:14:43, 498.17s/it]"
     ]
    },
    {
     "name": "stdout",
     "output_type": "stream",
     "text": [
      "\n",
      "band08_coefficients_LW_g04-05_iter168_2p168.nc, Trial: 49, Cost: 105.626231, Delta-Cost: -0.1689\n",
      "\tflux_net, band_flux_net, heating_rate, heating_rate_7, flux_net_forcing_5, flux_net_forcing_6, flux_net_forcing_7, flux_net_forcing_9, flux_net_forcing_10, flux_net_forcing_11, flux_net_forcing_12, flux_net_forcing_13, flux_net_forcing_14, flux_net_forcing_15, flux_net_forcing_16, flux_net_forcing_17, flux_net_forcing_18 = 97.9088, 126.6786, 106.0954, 111.2188, 103.7692, 96.6367, 197.7012, 113.9464, 82.7138, 98.8966, 80.5235, 98.5827, 97.6952, 92.6580, 102.7254, 102.4701, 101.3109\n"
     ]
    },
    {
     "name": "stderr",
     "output_type": "stream",
     "text": [
      " 69%|██████▉   | 18/26 [2:28:45<1:05:45, 493.24s/it]"
     ]
    },
    {
     "name": "stdout",
     "output_type": "stream",
     "text": [
      "\n",
      "band10_coefficients_LW_g03-04_iter169_2p169.nc, Trial: 58, Cost: 106.535664, Delta-Cost: 0.9094\n",
      "\tflux_net, band_flux_net, heating_rate, heating_rate_7, flux_net_forcing_5, flux_net_forcing_6, flux_net_forcing_7, flux_net_forcing_9, flux_net_forcing_10, flux_net_forcing_11, flux_net_forcing_12, flux_net_forcing_13, flux_net_forcing_14, flux_net_forcing_15, flux_net_forcing_16, flux_net_forcing_17, flux_net_forcing_18 = 99.3197, 127.4774, 106.2160, 111.3562, 103.7692, 96.6367, 197.7012, 113.9464, 82.7138, 98.8966, 80.5235, 98.5827, 97.6952, 92.6580, 102.7254, 102.4701, 101.3109\n"
     ]
    },
    {
     "name": "stderr",
     "output_type": "stream",
     "text": [
      " 73%|███████▎  | 19/26 [2:36:43<56:59, 488.50s/it]  "
     ]
    },
    {
     "name": "stdout",
     "output_type": "stream",
     "text": [
      "\n",
      "band08_coefficients_LW_g02-03_iter170_2p170.nc, Trial: 47, Cost: 105.557474, Delta-Cost: -0.9782\n",
      "\tflux_net, band_flux_net, heating_rate, heating_rate_7, flux_net_forcing_5, flux_net_forcing_6, flux_net_forcing_7, flux_net_forcing_9, flux_net_forcing_10, flux_net_forcing_11, flux_net_forcing_12, flux_net_forcing_13, flux_net_forcing_14, flux_net_forcing_15, flux_net_forcing_16, flux_net_forcing_17, flux_net_forcing_18 = 97.6228, 127.8665, 106.2550, 111.3868, 103.9608, 96.6367, 197.7585, 113.9464, 82.7138, 99.3202, 81.8211, 98.5827, 98.0322, 93.6565, 102.2842, 102.2242, 101.3109\n"
     ]
    },
    {
     "name": "stderr",
     "output_type": "stream",
     "text": [
      " 77%|███████▋  | 20/26 [2:44:28<48:09, 481.51s/it]"
     ]
    },
    {
     "name": "stdout",
     "output_type": "stream",
     "text": [
      "\n",
      "band08_coefficients_LW_g02-03_iter171_2p171.nc, Trial: 47, Cost: 105.205075, Delta-Cost: -0.3524\n",
      "\tflux_net, band_flux_net, heating_rate, heating_rate_7, flux_net_forcing_5, flux_net_forcing_6, flux_net_forcing_7, flux_net_forcing_9, flux_net_forcing_10, flux_net_forcing_11, flux_net_forcing_12, flux_net_forcing_13, flux_net_forcing_14, flux_net_forcing_15, flux_net_forcing_16, flux_net_forcing_17, flux_net_forcing_18 = 96.1669, 129.9238, 107.3819, 112.0383, 107.9142, 96.6367, 200.3017, 113.9464, 82.7138, 96.6132, 72.5077, 98.5827, 100.2148, 106.9003, 116.5393, 101.3898, 101.3109\n"
     ]
    },
    {
     "name": "stderr",
     "output_type": "stream",
     "text": [
      " 81%|████████  | 21/26 [2:52:01<39:25, 473.11s/it]"
     ]
    },
    {
     "name": "stdout",
     "output_type": "stream",
     "text": [
      "\n",
      "band05_coefficients_LW_g07-08_iter172_2p172.nc, Trial: 36, Cost: 106.225643, Delta-Cost: 1.0206\n",
      "\tflux_net, band_flux_net, heating_rate, heating_rate_7, flux_net_forcing_5, flux_net_forcing_6, flux_net_forcing_7, flux_net_forcing_9, flux_net_forcing_10, flux_net_forcing_11, flux_net_forcing_12, flux_net_forcing_13, flux_net_forcing_14, flux_net_forcing_15, flux_net_forcing_16, flux_net_forcing_17, flux_net_forcing_18 = 96.2224, 129.8937, 110.4562, 117.0755, 107.9142, 96.6367, 200.6791, 113.9464, 82.7138, 96.6132, 72.5077, 98.5827, 100.2148, 106.9003, 116.5393, 101.3898, 101.3109\n"
     ]
    },
    {
     "name": "stderr",
     "output_type": "stream",
     "text": [
      " 85%|████████▍ | 22/26 [3:00:05<31:44, 476.21s/it]"
     ]
    },
    {
     "name": "stdout",
     "output_type": "stream",
     "text": [
      "\n",
      "band06_coefficients_LW_g01-02_iter173_2p173.nc, Trial: 36, Cost: 105.136911, Delta-Cost: -1.0887\n",
      "\tflux_net, band_flux_net, heating_rate, heating_rate_7, flux_net_forcing_5, flux_net_forcing_6, flux_net_forcing_7, flux_net_forcing_9, flux_net_forcing_10, flux_net_forcing_11, flux_net_forcing_12, flux_net_forcing_13, flux_net_forcing_14, flux_net_forcing_15, flux_net_forcing_16, flux_net_forcing_17, flux_net_forcing_18 = 94.3788, 129.5359, 110.6267, 117.1887, 107.9142, 96.6367, 200.8772, 113.9464, 75.8906, 99.3546, 72.5077, 100.6228, 100.2148, 106.9003, 116.5393, 101.3898, 101.3109\n"
     ]
    },
    {
     "name": "stderr",
     "output_type": "stream",
     "text": [
      " 88%|████████▊ | 23/26 [3:07:53<23:41, 473.96s/it]"
     ]
    },
    {
     "name": "stdout",
     "output_type": "stream",
     "text": [
      "\n",
      "band12_coefficients_LW_g03-04_iter174_2p174.nc, Trial: 60, Cost: 106.196102, Delta-Cost: 1.0592\n",
      "\tflux_net, band_flux_net, heating_rate, heating_rate_7, flux_net_forcing_5, flux_net_forcing_6, flux_net_forcing_7, flux_net_forcing_9, flux_net_forcing_10, flux_net_forcing_11, flux_net_forcing_12, flux_net_forcing_13, flux_net_forcing_14, flux_net_forcing_15, flux_net_forcing_16, flux_net_forcing_17, flux_net_forcing_18 = 95.9604, 130.6470, 111.0462, 117.2626, 107.9142, 96.6367, 201.0422, 113.9464, 75.8906, 99.3546, 72.5077, 100.6228, 100.2148, 106.9003, 116.5393, 101.3898, 101.3109\n"
     ]
    },
    {
     "name": "stderr",
     "output_type": "stream",
     "text": [
      " 92%|█████████▏| 24/26 [3:15:38<15:42, 471.23s/it]"
     ]
    },
    {
     "name": "stdout",
     "output_type": "stream",
     "text": [
      "\n",
      "band07_coefficients_LW_g01-02_iter175_regr175.nc, Trial: 40, Cost: 104.998279, Delta-Cost: -1.1978\n",
      "\tflux_net, band_flux_net, heating_rate, heating_rate_7, flux_net_forcing_5, flux_net_forcing_6, flux_net_forcing_7, flux_net_forcing_9, flux_net_forcing_10, flux_net_forcing_11, flux_net_forcing_12, flux_net_forcing_13, flux_net_forcing_14, flux_net_forcing_15, flux_net_forcing_16, flux_net_forcing_17, flux_net_forcing_18 = 92.1135, 140.7142, 113.3751, 118.4835, 107.9142, 96.6367, 208.0824, 113.9464, 75.8906, 99.3546, 72.5077, 100.6228, 100.2148, 106.9003, 116.5393, 101.3898, 101.3109\n"
     ]
    },
    {
     "name": "stderr",
     "output_type": "stream",
     "text": [
      " 96%|█████████▌| 25/26 [3:23:26<07:50, 470.08s/it]"
     ]
    },
    {
     "name": "stdout",
     "output_type": "stream",
     "text": [
      "\n",
      "band10_coefficients_LW_g03-04_iter176_2p176.nc, Trial: 53, Cost: 105.012555, Delta-Cost: 0.0143\n",
      "\tflux_net, band_flux_net, heating_rate, heating_rate_7, flux_net_forcing_5, flux_net_forcing_6, flux_net_forcing_7, flux_net_forcing_9, flux_net_forcing_10, flux_net_forcing_11, flux_net_forcing_12, flux_net_forcing_13, flux_net_forcing_14, flux_net_forcing_15, flux_net_forcing_16, flux_net_forcing_17, flux_net_forcing_18 = 91.8797, 147.6579, 113.2575, 117.5749, 107.9142, 96.6367, 208.0824, 113.9464, 75.8906, 99.3546, 72.5077, 100.6228, 100.2148, 106.9003, 116.5393, 101.3898, 101.3109\n"
     ]
    },
    {
     "name": "stderr",
     "output_type": "stream",
     "text": [
      "100%|██████████| 26/26 [3:32:10<00:00, 489.62s/it]\n"
     ]
    }
   ],
   "source": [
    "# this process would be more accurate, but it's VERY slow (~10-12 minutes \n",
    "# per iteration), blows up the disk space, and produces a \n",
    "# \"LinAlgError: SVD did not converge in Linear Least Squares\" on iter 95\n",
    "\n",
    "with open('LW_cost-optimize_iter150.pickle', 'rb') as fp: coObjNew = pickle.load(fp)\n",
    "iniWgt = 0.05\n",
    "\n",
    "# FIX THIS ERROR AFTER 150\n",
    "# wanna get up to 176, which would be iCombine + 82, but let's do 10-ish \n",
    "# chunks at a time so we can post results (standard output)\n",
    "for i in tqdm(range(coObjNew.iCombine, coObjNew.iCombine+26)):\n",
    "    print()\n",
    "    coObjNew = MODRED.repeat_mod_redux(coObjNew, doLW=DOLW, iniWgt=iniWgt, \n",
    "      fullBandFluxDir=FULLBANDFLUXDIR, fullBandkDir=BANDSPLITDIR)\n",
    "    # if i % 5 == 0:\n",
    "    #   with open('LW_cost-optimize_iter{:03d}.pickle'.format(i), 'wb') as fp: pickle.dump(coObjNew, fp)\n",
    "    with open('LW_cost-optimize_iter{:03d}.pickle'.format(i), 'wb') as fp: pickle.dump(coObjNew, fp)\n"
   ]
  },
  {
   "cell_type": "code",
   "execution_count": 265,
   "metadata": {},
   "outputs": [],
   "source": [
    "  # with open('LW_cost-optimize_iter151.pickle', 'rb') as fp: inObj = pickle.load(fp)\n",
    "\n",
    "  from copy import deepcopy as DCP\n",
    "  inObj = DCP(coObjNew)\n",
    "\n",
    "  kBand = inObj.distBands\n",
    "\n",
    "  # basically, this is every step that i did after iteration 94\n",
    "  # and before iteration 95\n",
    "  kBandDict = MODRED.kModInit(inObj.distBands, inObj.iCombine, \n",
    "    doLW=DOLW,  weight=iniWgt, \n",
    "    kDir=BANDSPLITDIR, fluxDir=FULLBANDFLUXDIR)\n",
    "\n",
    "  # print(len(inObj.totalCost))\n",
    "  dCostMod, coObjMod = MODRED.costModInit(inObj, kBandDict)\n",
    "  newScales, cross = MODRED.scaleWeightRegress(dCostMod)"
   ]
  },
  {
   "cell_type": "code",
   "execution_count": 266,
   "metadata": {},
   "outputs": [
    {
     "name": "stdout",
     "output_type": "stream",
     "text": [
      "85 None 0 1 ./fullCF_top-layer_redo_abs_parabola/band15_coefficients_LW_g01-02_iter145_2p145.nc\n",
      "band07_coefficients_LW_g01-02_iter153_2p153.nc, Trial: 48, Cost: 103.519969, Delta-Cost: -0.7468\n",
      "\tflux_net, band_flux_net, heating_rate, heating_rate_7, flux_net_forcing_5, flux_net_forcing_6, flux_net_forcing_7, flux_net_forcing_9, flux_net_forcing_10, flux_net_forcing_11, flux_net_forcing_12, flux_net_forcing_13, flux_net_forcing_14, flux_net_forcing_15, flux_net_forcing_16, flux_net_forcing_17, flux_net_forcing_18 = 103.2441, 105.6427, 99.7353, 105.5078, 102.9103, 98.3291, 120.0781, 97.8040, 82.7138, 100.8565, 101.0959, 101.2410, 99.9596, 98.3183, 98.2247, 101.6861, 102.0614\n"
     ]
    }
   ],
   "source": [
    "  coObjMod = MODRED.whereRecompute(\n",
    "    kBand, coObjMod, cross, newScales, weight=iniWgt)\n",
    "  # print(len(coObjMod.totalCost))\n",
    "  coObjRep = MODRED.recompute(inObj, coObjMod, np.where(cross)[0])\n",
    "  coObjMod = MODRED.trialConsolidate(\n",
    "    coObjMod, coObjRep, np.where(cross)[0], inObj.winnerCost)\n",
    "  # print(len(coObjMod.totalCost))\n",
    "\n",
    "  # print(len(coObjMod.totalCost))\n",
    "  coObjMod.iCombine = inObj.iCombine\n",
    "  coObjRC = MODRED.recalibrate(coObjMod)\n",
    "  # print(len(coObjMod.totalCost))\n",
    "\n",
    "  # kFiles will likely just contain plus and 2plus (no init), \n",
    "  # because we're always doing the modified combination at this point\n",
    "  kFiles = {}\n",
    "  for sWgt in ['plus', '2plus']:\n",
    "    objModCP = DCP(coObjMod)\n",
    "    bandStr = 'band{:02d}'.format(coObjMod.optBand+1)\n",
    "    kBandDict[sWgt][bandStr], kFiles[sWgt] = MODRED.kModSetupNextIter(\n",
    "      objModCP, iniWgt, scaleWeight=sWgt)\n",
    "    coObjMod.distBands[bandStr] = kBandDict[sWgt][bandStr]\n",
    "  # end scaleWeight loop\n",
    "\n",
    "  temp, bandCosts, tempDCM = MODRED.coModSetupNextIter(coObjMod, dict(dCostMod))"
   ]
  },
  {
   "cell_type": "code",
   "execution_count": 275,
   "metadata": {},
   "outputs": [
    {
     "data": {
      "text/plain": [
       "array([103.20283264, 102.89373098, 102.57125175, 106.63945285,\n",
       "       115.9818273 , 107.30128503])"
      ]
     },
     "execution_count": 275,
     "metadata": {},
     "output_type": "execute_result"
    }
   ],
   "source": [
    "  temp, bandCosts, tempDCM = MODRED.coModSetupNextIter(coObjMod, dict(dCostMod))\n",
    "bandCosts"
   ]
  },
  {
   "cell_type": "code",
   "execution_count": 279,
   "metadata": {},
   "outputs": [
    {
     "name": "stdout",
     "output_type": "stream",
     "text": [
      "0 6 0 1 ./fullCF_top-layer_redo_abs_parabola/band07_coefficients_LW_g01-02_iter153_2p153.nc\n"
     ]
    },
    {
     "data": {
      "text/plain": [
       "<g_point_reduction.gCombine_Cost at 0x1555006d24d0>"
      ]
     },
     "execution_count": 279,
     "metadata": {},
     "output_type": "execute_result"
    }
   ],
   "source": [
    "  iBandTrials, bandObj, _ = MODRED.doBandTrials(\n",
    "    temp, kFiles, bandCosts, dict(dCostMod))\n",
    "  MODRED.trialConsolidate(temp, bandObj, iBandTrials, temp.winnerCost)"
   ]
  },
  {
   "cell_type": "code",
   "execution_count": null,
   "metadata": {},
   "outputs": [],
   "source": [
    "with open('LW_cost-optimize_iter151.pickle', 'rb') as fp: inObj = pickle.load(fp)\n",
    "inObj.totalCost"
   ]
  },
  {
   "cell_type": "code",
   "execution_count": 220,
   "metadata": {},
   "outputs": [],
   "source": [
    "with open('LW_cost-optimize_iter{:03d}.pickle'.format(i), 'wb') as fp: pickle.dump(temp, fp)"
   ]
  },
  {
   "cell_type": "code",
   "execution_count": 8,
   "metadata": {},
   "outputs": [
    {
     "ename": "FileNotFoundError",
     "evalue": "[Errno 2] No such file or directory: b'/global/project/projectdirs/e3sm/pernak18/reference_netCDF/g-point-reduce/rrtmgp-data-lw-g256-jen-xs.nc'",
     "output_type": "error",
     "traceback": [
      "\u001b[0;31m---------------------------------------------------------------------------\u001b[0m",
      "\u001b[0;31mKeyError\u001b[0m                                  Traceback (most recent call last)",
      "File \u001b[0;32m~/.conda/envs/g-redux/lib/python3.10/site-packages/xarray/backends/file_manager.py:198\u001b[0m, in \u001b[0;36mCachingFileManager._acquire_with_cache_info\u001b[0;34m(self, needs_lock)\u001b[0m\n\u001b[1;32m    197\u001b[0m \u001b[38;5;28;01mtry\u001b[39;00m:\n\u001b[0;32m--> 198\u001b[0m     file \u001b[38;5;241m=\u001b[39m \u001b[38;5;28;43mself\u001b[39;49m\u001b[38;5;241;43m.\u001b[39;49m\u001b[43m_cache\u001b[49m\u001b[43m[\u001b[49m\u001b[38;5;28;43mself\u001b[39;49m\u001b[38;5;241;43m.\u001b[39;49m\u001b[43m_key\u001b[49m\u001b[43m]\u001b[49m\n\u001b[1;32m    199\u001b[0m \u001b[38;5;28;01mexcept\u001b[39;00m \u001b[38;5;167;01mKeyError\u001b[39;00m:\n",
      "File \u001b[0;32m~/.conda/envs/g-redux/lib/python3.10/site-packages/xarray/backends/lru_cache.py:53\u001b[0m, in \u001b[0;36mLRUCache.__getitem__\u001b[0;34m(self, key)\u001b[0m\n\u001b[1;32m     52\u001b[0m \u001b[38;5;28;01mwith\u001b[39;00m \u001b[38;5;28mself\u001b[39m\u001b[38;5;241m.\u001b[39m_lock:\n\u001b[0;32m---> 53\u001b[0m     value \u001b[38;5;241m=\u001b[39m \u001b[38;5;28;43mself\u001b[39;49m\u001b[38;5;241;43m.\u001b[39;49m\u001b[43m_cache\u001b[49m\u001b[43m[\u001b[49m\u001b[43mkey\u001b[49m\u001b[43m]\u001b[49m\n\u001b[1;32m     54\u001b[0m     \u001b[38;5;28mself\u001b[39m\u001b[38;5;241m.\u001b[39m_cache\u001b[38;5;241m.\u001b[39mmove_to_end(key)\n",
      "\u001b[0;31mKeyError\u001b[0m: [<class 'netCDF4._netCDF4.Dataset'>, ('/global/project/projectdirs/e3sm/pernak18/reference_netCDF/g-point-reduce/rrtmgp-data-lw-g256-jen-xs.nc',), 'r', (('clobber', True), ('diskless', False), ('format', 'NETCDF4'), ('persist', False))]",
      "\nDuring handling of the above exception, another exception occurred:\n",
      "\u001b[0;31mFileNotFoundError\u001b[0m                         Traceback (most recent call last)",
      "Input \u001b[0;32mIn [8]\u001b[0m, in \u001b[0;36m<cell line: 3>\u001b[0;34m()\u001b[0m\n\u001b[1;32m      1\u001b[0m \u001b[38;5;28;01mwith\u001b[39;00m \u001b[38;5;28mopen\u001b[39m(\u001b[38;5;124m'\u001b[39m\u001b[38;5;124mLW_cost-optimize_iter176.pickle\u001b[39m\u001b[38;5;124m'\u001b[39m, \u001b[38;5;124m'\u001b[39m\u001b[38;5;124mrb\u001b[39m\u001b[38;5;124m'\u001b[39m) \u001b[38;5;28;01mas\u001b[39;00m fp: coObjNew \u001b[38;5;241m=\u001b[39m pickle\u001b[38;5;241m.\u001b[39mload(fp)\n\u001b[1;32m      2\u001b[0m KOUTNC \u001b[38;5;241m=\u001b[39m \u001b[38;5;124m'\u001b[39m\u001b[38;5;124mrrtmgp-data-\u001b[39m\u001b[38;5;132;01m{}\u001b[39;00m\u001b[38;5;124m-g-red.nc\u001b[39m\u001b[38;5;124m'\u001b[39m\u001b[38;5;241m.\u001b[39mformat(DOMAIN)\n\u001b[0;32m----> 3\u001b[0m \u001b[43mcoObjNew\u001b[49m\u001b[38;5;241;43m.\u001b[39;49m\u001b[43mkDistOpt\u001b[49m\u001b[43m(\u001b[49m\u001b[43mKFULLNC\u001b[49m\u001b[43m,\u001b[49m\u001b[43m \u001b[49m\u001b[43mkOutNC\u001b[49m\u001b[38;5;241;43m=\u001b[39;49m\u001b[43mKOUTNC\u001b[49m\u001b[43m)\u001b[49m\n\u001b[1;32m      5\u001b[0m coObjNew\u001b[38;5;241m.\u001b[39mcalcOptFlux(fluxOutNC\u001b[38;5;241m=\u001b[39m\u001b[38;5;124m'\u001b[39m\u001b[38;5;124moptimized_\u001b[39m\u001b[38;5;132;01m{}\u001b[39;00m\u001b[38;5;124m_fluxes.nc\u001b[39m\u001b[38;5;124m'\u001b[39m\u001b[38;5;241m.\u001b[39mformat(DOMAIN))\n\u001b[1;32m      6\u001b[0m \u001b[38;5;28;01mwith\u001b[39;00m \u001b[38;5;28mopen\u001b[39m(\u001b[38;5;124m'\u001b[39m\u001b[38;5;124mLW_cost-optimize_iter\u001b[39m\u001b[38;5;132;01m{:03d}\u001b[39;00m\u001b[38;5;124m.pickle\u001b[39m\u001b[38;5;124m'\u001b[39m\u001b[38;5;241m.\u001b[39mformat(i), \u001b[38;5;124m'\u001b[39m\u001b[38;5;124mwb\u001b[39m\u001b[38;5;124m'\u001b[39m) \u001b[38;5;28;01mas\u001b[39;00m fp: pickle\u001b[38;5;241m.\u001b[39mdump(coObj, fp)\n",
      "File \u001b[0;32m/global/cscratch1/sd/pernak18/RRTMGP/test_abs_val/g_point_reduction.py:1278\u001b[0m, in \u001b[0;36mgCombine_Cost.kDistOpt\u001b[0;34m(self, kRefNC, kOutNC)\u001b[0m\n\u001b[1;32m   1276\u001b[0m \u001b[38;5;66;03m# extract dimensions from reference LBL netCDF for consistency\u001b[39;00m\n\u001b[1;32m   1277\u001b[0m outDict \u001b[38;5;241m=\u001b[39m {}\n\u001b[0;32m-> 1278\u001b[0m \u001b[38;5;28;01mwith\u001b[39;00m \u001b[43mxa\u001b[49m\u001b[38;5;241;43m.\u001b[39;49m\u001b[43mopen_dataset\u001b[49m\u001b[43m(\u001b[49m\u001b[43mkRefNC\u001b[49m\u001b[43m)\u001b[49m \u001b[38;5;28;01mas\u001b[39;00m refDS:\n\u001b[1;32m   1279\u001b[0m     \u001b[38;5;28;01mfor\u001b[39;00m key \u001b[38;5;129;01min\u001b[39;00m fullDict\u001b[38;5;241m.\u001b[39mkeys():\n\u001b[1;32m   1280\u001b[0m         data \u001b[38;5;241m=\u001b[39m fullDict[key]\n",
      "File \u001b[0;32m~/.conda/envs/g-redux/lib/python3.10/site-packages/xarray/backends/api.py:498\u001b[0m, in \u001b[0;36mopen_dataset\u001b[0;34m(filename_or_obj, group, decode_cf, mask_and_scale, decode_times, autoclose, concat_characters, decode_coords, engine, chunks, lock, cache, drop_variables, backend_kwargs, use_cftime)\u001b[0m\n\u001b[1;32m    496\u001b[0m     engine \u001b[38;5;241m=\u001b[39m _get_default_engine(filename_or_obj, allow_remote\u001b[38;5;241m=\u001b[39m\u001b[38;5;28;01mTrue\u001b[39;00m)\n\u001b[1;32m    497\u001b[0m \u001b[38;5;28;01mif\u001b[39;00m engine \u001b[38;5;241m==\u001b[39m \u001b[38;5;124m\"\u001b[39m\u001b[38;5;124mnetcdf4\u001b[39m\u001b[38;5;124m\"\u001b[39m:\n\u001b[0;32m--> 498\u001b[0m     store \u001b[38;5;241m=\u001b[39m \u001b[43mbackends\u001b[49m\u001b[38;5;241;43m.\u001b[39;49m\u001b[43mNetCDF4DataStore\u001b[49m\u001b[38;5;241;43m.\u001b[39;49m\u001b[43mopen\u001b[49m\u001b[43m(\u001b[49m\n\u001b[1;32m    499\u001b[0m \u001b[43m        \u001b[49m\u001b[43mfilename_or_obj\u001b[49m\u001b[43m,\u001b[49m\u001b[43m \u001b[49m\u001b[43mgroup\u001b[49m\u001b[38;5;241;43m=\u001b[39;49m\u001b[43mgroup\u001b[49m\u001b[43m,\u001b[49m\u001b[43m \u001b[49m\u001b[43mlock\u001b[49m\u001b[38;5;241;43m=\u001b[39;49m\u001b[43mlock\u001b[49m\u001b[43m,\u001b[49m\u001b[43m \u001b[49m\u001b[38;5;241;43m*\u001b[39;49m\u001b[38;5;241;43m*\u001b[39;49m\u001b[43mbackend_kwargs\u001b[49m\n\u001b[1;32m    500\u001b[0m \u001b[43m    \u001b[49m\u001b[43m)\u001b[49m\n\u001b[1;32m    501\u001b[0m \u001b[38;5;28;01melif\u001b[39;00m engine \u001b[38;5;241m==\u001b[39m \u001b[38;5;124m\"\u001b[39m\u001b[38;5;124mscipy\u001b[39m\u001b[38;5;124m\"\u001b[39m:\n\u001b[1;32m    502\u001b[0m     store \u001b[38;5;241m=\u001b[39m backends\u001b[38;5;241m.\u001b[39mScipyDataStore(filename_or_obj, \u001b[38;5;241m*\u001b[39m\u001b[38;5;241m*\u001b[39mbackend_kwargs)\n",
      "File \u001b[0;32m~/.conda/envs/g-redux/lib/python3.10/site-packages/xarray/backends/netCDF4_.py:357\u001b[0m, in \u001b[0;36mNetCDF4DataStore.open\u001b[0;34m(cls, filename, mode, format, group, clobber, diskless, persist, lock, lock_maker, autoclose)\u001b[0m\n\u001b[1;32m    351\u001b[0m kwargs \u001b[38;5;241m=\u001b[39m \u001b[38;5;28mdict\u001b[39m(\n\u001b[1;32m    352\u001b[0m     clobber\u001b[38;5;241m=\u001b[39mclobber, diskless\u001b[38;5;241m=\u001b[39mdiskless, persist\u001b[38;5;241m=\u001b[39mpersist, \u001b[38;5;28mformat\u001b[39m\u001b[38;5;241m=\u001b[39m\u001b[38;5;28mformat\u001b[39m\n\u001b[1;32m    353\u001b[0m )\n\u001b[1;32m    354\u001b[0m manager \u001b[38;5;241m=\u001b[39m CachingFileManager(\n\u001b[1;32m    355\u001b[0m     netCDF4\u001b[38;5;241m.\u001b[39mDataset, filename, mode\u001b[38;5;241m=\u001b[39mmode, kwargs\u001b[38;5;241m=\u001b[39mkwargs\n\u001b[1;32m    356\u001b[0m )\n\u001b[0;32m--> 357\u001b[0m \u001b[38;5;28;01mreturn\u001b[39;00m \u001b[38;5;28;43mcls\u001b[39;49m\u001b[43m(\u001b[49m\u001b[43mmanager\u001b[49m\u001b[43m,\u001b[49m\u001b[43m \u001b[49m\u001b[43mgroup\u001b[49m\u001b[38;5;241;43m=\u001b[39;49m\u001b[43mgroup\u001b[49m\u001b[43m,\u001b[49m\u001b[43m \u001b[49m\u001b[43mmode\u001b[49m\u001b[38;5;241;43m=\u001b[39;49m\u001b[43mmode\u001b[49m\u001b[43m,\u001b[49m\u001b[43m \u001b[49m\u001b[43mlock\u001b[49m\u001b[38;5;241;43m=\u001b[39;49m\u001b[43mlock\u001b[49m\u001b[43m,\u001b[49m\u001b[43m \u001b[49m\u001b[43mautoclose\u001b[49m\u001b[38;5;241;43m=\u001b[39;49m\u001b[43mautoclose\u001b[49m\u001b[43m)\u001b[49m\n",
      "File \u001b[0;32m~/.conda/envs/g-redux/lib/python3.10/site-packages/xarray/backends/netCDF4_.py:313\u001b[0m, in \u001b[0;36mNetCDF4DataStore.__init__\u001b[0;34m(self, manager, group, mode, lock, autoclose)\u001b[0m\n\u001b[1;32m    311\u001b[0m \u001b[38;5;28mself\u001b[39m\u001b[38;5;241m.\u001b[39m_group \u001b[38;5;241m=\u001b[39m group\n\u001b[1;32m    312\u001b[0m \u001b[38;5;28mself\u001b[39m\u001b[38;5;241m.\u001b[39m_mode \u001b[38;5;241m=\u001b[39m mode\n\u001b[0;32m--> 313\u001b[0m \u001b[38;5;28mself\u001b[39m\u001b[38;5;241m.\u001b[39mformat \u001b[38;5;241m=\u001b[39m \u001b[38;5;28;43mself\u001b[39;49m\u001b[38;5;241;43m.\u001b[39;49m\u001b[43mds\u001b[49m\u001b[38;5;241m.\u001b[39mdata_model\n\u001b[1;32m    314\u001b[0m \u001b[38;5;28mself\u001b[39m\u001b[38;5;241m.\u001b[39m_filename \u001b[38;5;241m=\u001b[39m \u001b[38;5;28mself\u001b[39m\u001b[38;5;241m.\u001b[39mds\u001b[38;5;241m.\u001b[39mfilepath()\n\u001b[1;32m    315\u001b[0m \u001b[38;5;28mself\u001b[39m\u001b[38;5;241m.\u001b[39mis_remote \u001b[38;5;241m=\u001b[39m is_remote_uri(\u001b[38;5;28mself\u001b[39m\u001b[38;5;241m.\u001b[39m_filename)\n",
      "File \u001b[0;32m~/.conda/envs/g-redux/lib/python3.10/site-packages/xarray/backends/netCDF4_.py:366\u001b[0m, in \u001b[0;36mNetCDF4DataStore.ds\u001b[0;34m(self)\u001b[0m\n\u001b[1;32m    364\u001b[0m \u001b[38;5;129m@property\u001b[39m\n\u001b[1;32m    365\u001b[0m \u001b[38;5;28;01mdef\u001b[39;00m \u001b[38;5;21mds\u001b[39m(\u001b[38;5;28mself\u001b[39m):\n\u001b[0;32m--> 366\u001b[0m     \u001b[38;5;28;01mreturn\u001b[39;00m \u001b[38;5;28;43mself\u001b[39;49m\u001b[38;5;241;43m.\u001b[39;49m\u001b[43m_acquire\u001b[49m\u001b[43m(\u001b[49m\u001b[43m)\u001b[49m\n",
      "File \u001b[0;32m~/.conda/envs/g-redux/lib/python3.10/site-packages/xarray/backends/netCDF4_.py:360\u001b[0m, in \u001b[0;36mNetCDF4DataStore._acquire\u001b[0;34m(self, needs_lock)\u001b[0m\n\u001b[1;32m    359\u001b[0m \u001b[38;5;28;01mdef\u001b[39;00m \u001b[38;5;21m_acquire\u001b[39m(\u001b[38;5;28mself\u001b[39m, needs_lock\u001b[38;5;241m=\u001b[39m\u001b[38;5;28;01mTrue\u001b[39;00m):\n\u001b[0;32m--> 360\u001b[0m     \u001b[38;5;28;01mwith\u001b[39;00m \u001b[38;5;28mself\u001b[39m\u001b[38;5;241m.\u001b[39m_manager\u001b[38;5;241m.\u001b[39macquire_context(needs_lock) \u001b[38;5;28;01mas\u001b[39;00m root:\n\u001b[1;32m    361\u001b[0m         ds \u001b[38;5;241m=\u001b[39m _nc4_require_group(root, \u001b[38;5;28mself\u001b[39m\u001b[38;5;241m.\u001b[39m_group, \u001b[38;5;28mself\u001b[39m\u001b[38;5;241m.\u001b[39m_mode)\n\u001b[1;32m    362\u001b[0m     \u001b[38;5;28;01mreturn\u001b[39;00m ds\n",
      "File \u001b[0;32m~/.conda/envs/g-redux/lib/python3.10/contextlib.py:135\u001b[0m, in \u001b[0;36m_GeneratorContextManager.__enter__\u001b[0;34m(self)\u001b[0m\n\u001b[1;32m    133\u001b[0m \u001b[38;5;28;01mdel\u001b[39;00m \u001b[38;5;28mself\u001b[39m\u001b[38;5;241m.\u001b[39margs, \u001b[38;5;28mself\u001b[39m\u001b[38;5;241m.\u001b[39mkwds, \u001b[38;5;28mself\u001b[39m\u001b[38;5;241m.\u001b[39mfunc\n\u001b[1;32m    134\u001b[0m \u001b[38;5;28;01mtry\u001b[39;00m:\n\u001b[0;32m--> 135\u001b[0m     \u001b[38;5;28;01mreturn\u001b[39;00m \u001b[38;5;28;43mnext\u001b[39;49m\u001b[43m(\u001b[49m\u001b[38;5;28;43mself\u001b[39;49m\u001b[38;5;241;43m.\u001b[39;49m\u001b[43mgen\u001b[49m\u001b[43m)\u001b[49m\n\u001b[1;32m    136\u001b[0m \u001b[38;5;28;01mexcept\u001b[39;00m \u001b[38;5;167;01mStopIteration\u001b[39;00m:\n\u001b[1;32m    137\u001b[0m     \u001b[38;5;28;01mraise\u001b[39;00m \u001b[38;5;167;01mRuntimeError\u001b[39;00m(\u001b[38;5;124m\"\u001b[39m\u001b[38;5;124mgenerator didn\u001b[39m\u001b[38;5;124m'\u001b[39m\u001b[38;5;124mt yield\u001b[39m\u001b[38;5;124m\"\u001b[39m) \u001b[38;5;28;01mfrom\u001b[39;00m \u001b[38;5;28mNone\u001b[39m\n",
      "File \u001b[0;32m~/.conda/envs/g-redux/lib/python3.10/site-packages/xarray/backends/file_manager.py:186\u001b[0m, in \u001b[0;36mCachingFileManager.acquire_context\u001b[0;34m(self, needs_lock)\u001b[0m\n\u001b[1;32m    183\u001b[0m \u001b[38;5;129m@contextlib\u001b[39m\u001b[38;5;241m.\u001b[39mcontextmanager\n\u001b[1;32m    184\u001b[0m \u001b[38;5;28;01mdef\u001b[39;00m \u001b[38;5;21macquire_context\u001b[39m(\u001b[38;5;28mself\u001b[39m, needs_lock\u001b[38;5;241m=\u001b[39m\u001b[38;5;28;01mTrue\u001b[39;00m):\n\u001b[1;32m    185\u001b[0m     \u001b[38;5;124;03m\"\"\"Context manager for acquiring a file.\"\"\"\u001b[39;00m\n\u001b[0;32m--> 186\u001b[0m     file, cached \u001b[38;5;241m=\u001b[39m \u001b[38;5;28;43mself\u001b[39;49m\u001b[38;5;241;43m.\u001b[39;49m\u001b[43m_acquire_with_cache_info\u001b[49m\u001b[43m(\u001b[49m\u001b[43mneeds_lock\u001b[49m\u001b[43m)\u001b[49m\n\u001b[1;32m    187\u001b[0m     \u001b[38;5;28;01mtry\u001b[39;00m:\n\u001b[1;32m    188\u001b[0m         \u001b[38;5;28;01myield\u001b[39;00m file\n",
      "File \u001b[0;32m~/.conda/envs/g-redux/lib/python3.10/site-packages/xarray/backends/file_manager.py:204\u001b[0m, in \u001b[0;36mCachingFileManager._acquire_with_cache_info\u001b[0;34m(self, needs_lock)\u001b[0m\n\u001b[1;32m    202\u001b[0m     kwargs \u001b[38;5;241m=\u001b[39m kwargs\u001b[38;5;241m.\u001b[39mcopy()\n\u001b[1;32m    203\u001b[0m     kwargs[\u001b[38;5;124m\"\u001b[39m\u001b[38;5;124mmode\u001b[39m\u001b[38;5;124m\"\u001b[39m] \u001b[38;5;241m=\u001b[39m \u001b[38;5;28mself\u001b[39m\u001b[38;5;241m.\u001b[39m_mode\n\u001b[0;32m--> 204\u001b[0m file \u001b[38;5;241m=\u001b[39m \u001b[38;5;28;43mself\u001b[39;49m\u001b[38;5;241;43m.\u001b[39;49m\u001b[43m_opener\u001b[49m\u001b[43m(\u001b[49m\u001b[38;5;241;43m*\u001b[39;49m\u001b[38;5;28;43mself\u001b[39;49m\u001b[38;5;241;43m.\u001b[39;49m\u001b[43m_args\u001b[49m\u001b[43m,\u001b[49m\u001b[43m \u001b[49m\u001b[38;5;241;43m*\u001b[39;49m\u001b[38;5;241;43m*\u001b[39;49m\u001b[43mkwargs\u001b[49m\u001b[43m)\u001b[49m\n\u001b[1;32m    205\u001b[0m \u001b[38;5;28;01mif\u001b[39;00m \u001b[38;5;28mself\u001b[39m\u001b[38;5;241m.\u001b[39m_mode \u001b[38;5;241m==\u001b[39m \u001b[38;5;124m\"\u001b[39m\u001b[38;5;124mw\u001b[39m\u001b[38;5;124m\"\u001b[39m:\n\u001b[1;32m    206\u001b[0m     \u001b[38;5;66;03m# ensure file doesn't get overriden when opened again\u001b[39;00m\n\u001b[1;32m    207\u001b[0m     \u001b[38;5;28mself\u001b[39m\u001b[38;5;241m.\u001b[39m_mode \u001b[38;5;241m=\u001b[39m \u001b[38;5;124m\"\u001b[39m\u001b[38;5;124ma\u001b[39m\u001b[38;5;124m\"\u001b[39m\n",
      "File \u001b[0;32msrc/netCDF4/_netCDF4.pyx:2463\u001b[0m, in \u001b[0;36mnetCDF4._netCDF4.Dataset.__init__\u001b[0;34m()\u001b[0m\n",
      "File \u001b[0;32msrc/netCDF4/_netCDF4.pyx:2026\u001b[0m, in \u001b[0;36mnetCDF4._netCDF4._ensure_nc_success\u001b[0;34m()\u001b[0m\n",
      "\u001b[0;31mFileNotFoundError\u001b[0m: [Errno 2] No such file or directory: b'/global/project/projectdirs/e3sm/pernak18/reference_netCDF/g-point-reduce/rrtmgp-data-lw-g256-jen-xs.nc'"
     ]
    }
   ],
   "source": [
    "with open('LW_cost-optimize_iter176.pickle', 'rb') as fp: coObjNew = pickle.load(fp)\n",
    "KOUTNC = 'rrtmgp-data-{}-g-red.nc'.format(DOMAIN)\n",
    "coObjNew.kDistOpt(KFULLNC, kOutNC=KOUTNC)\n",
    "\n",
    "coObjNew.calcOptFlux(fluxOutNC='optimized_{}_fluxes.nc'.format(DOMAIN))\n",
    "with open('LW_cost-optimize_iter{:03d}.pickle'.format(i), 'wb') as fp: pickle.dump(coObj, fp)"
   ]
  },
  {
   "cell_type": "code",
   "execution_count": null,
   "metadata": {},
   "outputs": [],
   "source": []
  }
 ],
 "metadata": {
  "kernelspec": {
   "display_name": "g-redux-jlab",
   "language": "python",
   "name": "g-redux-jlab"
  },
  "language_info": {
   "codemirror_mode": {
    "name": "ipython",
    "version": 3
   },
   "file_extension": ".py",
   "mimetype": "text/x-python",
   "name": "python",
   "nbconvert_exporter": "python",
   "pygments_lexer": "ipython3",
   "version": "3.10.9"
  },
  "toc-showmarkdowntxt": true
 },
 "nbformat": 4,
 "nbformat_minor": 4
}
