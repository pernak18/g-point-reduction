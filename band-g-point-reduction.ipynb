{
 "cells": [
  {
   "cell_type": "markdown",
   "metadata": {},
   "source": [
    "# By-Band _g_-Point Reduction"
   ]
  },
  {
   "cell_type": "code",
   "execution_count": 2,
   "metadata": {},
   "outputs": [],
   "source": [
    "%load_ext autoreload\n",
    "%autoreload 2"
   ]
  },
  {
   "cell_type": "markdown",
   "metadata": {},
   "source": [
    "# Dependencies\n",
    "\n",
    "`numpy` is installed in the Python environment at NERSC (`module load python`), but `xarray` is not, so the user must install the package on their own. `PIPPATH` is the assumed location. This notebook depends heavily on `xarray`."
   ]
  },
  {
   "cell_type": "code",
   "execution_count": 3,
   "metadata": {},
   "outputs": [],
   "source": [
    "# standard libraries\n",
    "import os, sys, shutil, glob, pickle\n",
    "from multiprocessing import Pool\n",
    "\n",
    "# \"standard\" conda install (NERSC already provides this without user \n",
    "# having to install it)\n",
    "import numpy as np\n",
    "\n",
    "# conda installs\n",
    "from tqdm import tqdm\n",
    "\n",
    "# directory in which libraries installed with conda are saved\n",
    "PIPPATH = '{}/.local/'.format(os.path.expanduser('~')) + \\\n",
    "    'cori/3.7-anaconda-2019.10/lib/python3.7/site-packages'\n",
    "PIPPATH = '/global/homes/e/emlawer/.local/cori/3.8-anaconda-2020.11/' + \\\n",
    "     'lib/python3.8/site-packages'\n",
    "PIPPATH = '/global/homes/p/pernak18/.local/cori/3.9-anaconda-2021.11/lib/python3.9/site-packages'\n",
    "PIPPATH = '/global/common/software/nersc/cori-2022q1/sw/python/3.9-anaconda-2021.11'\n",
    "PATHS = ['common']\n",
    "for path in PATHS: sys.path.append(path)\n",
    "\n",
    "# needed at AER unless i update `pandas`\n",
    "import warnings\n",
    "#warnings.simplefilter(action='ignore', category=FutureWarning)\n",
    "warnings.simplefilter(action='ignore', category=Warning)\n",
    "\n",
    "# user must do `pip install xarray` on cori (or other NERSC machines)\n",
    "import xarray as xa\n",
    "\n",
    "# local modules\n",
    "import g_point_reduction as REDUX\n",
    "import modified_reduction as MODRED\n",
    "from rrtmgp_cost_compute import flux_cost_compute as FCC"
   ]
  },
  {
   "cell_type": "markdown",
   "metadata": {},
   "source": [
    "# Static Inputs"
   ]
  },
  {
   "cell_type": "code",
   "execution_count": 4,
   "metadata": {},
   "outputs": [],
   "source": [
    "# only do one domain or the other\n",
    "DOLW = True\n",
    "DOMAIN = 'LW' if DOLW else 'SW'\n",
    "NBANDS = 16 if DOLW else 14\n",
    "\n",
    "# does band-splitting need to be done, or are there existing files \n",
    "# that have divided up the full k-distribution?\n",
    "BANDSPLIT = False"
   ]
  },
  {
   "cell_type": "markdown",
   "metadata": {},
   "source": [
    "# Paths"
   ]
  },
  {
   "cell_type": "code",
   "execution_count": 5,
   "metadata": {},
   "outputs": [],
   "source": [
    "PROJECT = '/global/project/projectdirs/e3sm/pernak18/'\n",
    "EXE = '{}/g-point-reduction/garand_atmos/rrtmgp_garand_atmos'.format(\n",
    "    PROJECT)\n",
    "REFDIR = '{}/reference_netCDF/g-point-reduce'.format(PROJECT)\n",
    "\n",
    "# test (RRTMGP) and reference (LBL) flux netCDF files, full k-distributions, \n",
    "# and by-band Garand input file\n",
    "fluxSuffix = 'flux-inputs-outputs-garandANDpreind.nc'\n",
    "if DOLW:\n",
    "    GARAND = '{}/multi_garand_template_single_band.nc'.format(REFDIR)\n",
    "    KFULLNC = '{}/rrtmgp-data-lw-g256-2018-12-04.nc'.format(REFDIR)\n",
    "    KFULLNC = '{}/rrtmgp-data-lw-g256-jen-xs.nc'.format(REFDIR)\n",
    "    REFNC = '{}/lblrtm-lw-{}'.format(REFDIR, fluxSuffix)\n",
    "    TESTNC = '{}/rrtmgp-lw-{}'.format(REFDIR, fluxSuffix)\n",
    "    #TESTNC = 'rrtmgp-lw-flux-inputs-outputs-garand-all.nc'\n",
    "else:\n",
    "    GARAND = '{}/charts_multi_garand_template_single_band.nc'.format(REFDIR)\n",
    "    KFULLNC = '{}/rrtmgp-data-sw-g224-2018-12-04.nc'.format(REFDIR)\n",
    "    REFNC = '{}/charts-sw-{}'.format(REFDIR, fluxSuffix)\n",
    "    TESTNC = '{}/rrtmgp-sw-{}'.format(REFDIR, fluxSuffix)\n",
    "# endif LW\n",
    "\n",
    "BANDSPLITDIR = 'band_k_dist'\n",
    "FULLBANDFLUXDIR = 'full_band_flux'\n",
    "\n",
    "for PATH in PATHS: FCC.pathCheck(PATH)\n",
    "\n",
    "CWD = os.getcwd()\n",
    "\n",
    "KPICKLE = '{}_k-dist.pickle'.format(DOMAIN)\n",
    "pickleCost = '{}_cost-optimize.pickle'.format(DOMAIN)"
   ]
  },
  {
   "cell_type": "markdown",
   "metadata": {},
   "source": [
    "# Band Splitting\n",
    "\n",
    "Break up full _k_-distribution file into separate distributions for each band, then calculate the corresponding fluxes. This should only need to be run once.\n",
    "\n",
    "After some clarifications from Robert (30-Nov-2020), I believe the plan of action is:\n",
    "\n",
    "1. create Nbands k-distribution files\n",
    "2. drive the Fortran executable Nbands times to produce Nbands flux results\n",
    "3. the trial g-point combinations then loop over bands and the possible g-point combinations within each band, creating k-distribution and band-wise flux files for each possible combination\n",
    "4. The Python code assembles broadband fluxes from the band-wise flux files in order to compute the cost functions"
   ]
  },
  {
   "cell_type": "code",
   "execution_count": 6,
   "metadata": {},
   "outputs": [],
   "source": [
    "if BANDSPLIT:\n",
    "    print('Band splitting commenced')\n",
    "    FCC.pathCheck(BANDSPLITDIR, mkdir=True)\n",
    "    FCC.pathCheck(FULLBANDFLUXDIR, mkdir=True)\n",
    "    kFiles, fullBandFluxes = [], []\n",
    "    for iBand in tqdm(range(NBANDS)):\n",
    "        # divide full k-distribution into subsets for each band\n",
    "        kObj = REDUX.gCombine_kDist(KFULLNC, iBand, DOLW, 1, \n",
    "            fullBandKDir=BANDSPLITDIR, fullBandFluxDir=FULLBANDFLUXDIR, \n",
    "            profilesNC=GARAND)\n",
    "        kFiles.append(kObj.kBandNC)\n",
    "        kObj.kDistBand()\n",
    "\n",
    "        # quick, non-parallelized flux calculations (because the \n",
    "        # executable is run in one directory)\n",
    "        FCC.fluxCompute(kObj.kBandNC, kObj.profiles, kObj.exe, \n",
    "                           kObj.fullBandFluxDir, kObj.fluxBandNC)\n",
    "        fullBandFluxes.append(kObj.fluxBandNC)\n",
    "    # end band loop\n",
    "    print('Band splitting completed')\n",
    "else:\n",
    "    kFiles = sorted(glob.glob('{}/coefficients_{}_band??.nc'.format(\n",
    "        BANDSPLITDIR, DOMAIN)))\n",
    "    fullBandFluxes = sorted(glob.glob('{}/flux_{}_band??.nc'.format(\n",
    "        FULLBANDFLUXDIR, DOMAIN)))\n",
    "\n",
    "    if len(kFiles) == 0 or len(fullBandFluxes) == 0:\n",
    "        print('WARNING: set `BANDSPLIT` to `True` and run this cell again')\n",
    "# endif BANDSPLIT\n"
   ]
  },
  {
   "cell_type": "markdown",
   "metadata": {},
   "source": [
    "# Pressure Levels for Cost Function\n",
    "\n",
    "Pressure levels [Pa] for the Garand atmospheres are printed to standard output with indices that can be used in the cost function:"
   ]
  },
  {
   "cell_type": "code",
   "execution_count": null,
   "metadata": {},
   "outputs": [],
   "source": [
    "with xa.open_dataset(REFNC) as refDS:\n",
    "    pLev = refDS['p_lev'].isel(record=0)\n",
    "for iLev, pLev in enumerate(pLev.isel(col=0).values): print(iLev, pLev)"
   ]
  },
  {
   "cell_type": "markdown",
   "metadata": {},
   "source": [
    "# _g_-Point Combining\n",
    "\n",
    "Combine _g_-point reduced for bands with full-band fluxes from other bands, find optimal _g_-point combination for given iteration, proceed to next iteration.\n",
    "\n",
    "First, find all _g_-point combinations for each band. Store the band object in a dictionary for use in flux computation. This cell only needs to be run once, and to save time in development, the dictionary is saved in a `pickle` file and can be loaded in the next cell."
   ]
  },
  {
   "cell_type": "code",
   "execution_count": null,
   "metadata": {},
   "outputs": [],
   "source": [
    "# this should be parallelized; also is part of preprocessing so we \n",
    "# shouldn't have to run it multiple times\n",
    "kBandDict = {}\n",
    "for iBand, kFile in tqdm(enumerate(kFiles)):\n",
    "    #if iBand != 0: continue\n",
    "    band = iBand + 1\n",
    "    kObj = REDUX.gCombine_kDist(kFile, iBand, DOLW, 1, \n",
    "        fullBandKDir=BANDSPLITDIR, \n",
    "        fullBandFluxDir=FULLBANDFLUXDIR)\n",
    "    kObj.gPointCombine()\n",
    "    kBandDict['band{:02d}'.format(band)] = kObj\n",
    "\n",
    "    print('Band {} complete'.format(band))\n",
    "# end kFile loop\n",
    "\n",
    "import pickle\n",
    "with open(KPICKLE, 'wb') as fp: pickle.dump(kBandDict, fp)"
   ]
  },
  {
   "cell_type": "markdown",
   "metadata": {},
   "source": [
    "Now compute fluxes in parallel for every _g_-point combination -- merging occurs in each band, and these combinations in a given band are used with broadband fluxes from other bands. These concatenations each have an associated `xarray` dataset assigned to it. Cost function components are then calculated based for each dataset, and the one that minimizes the error in the cost function will have its associated netCDF saved to disk.\n",
    "\n",
    "Uncomment pickling block to restore dictionary from previous cell."
   ]
  },
  {
   "cell_type": "markdown",
   "metadata": {},
   "source": [
    "# Reduction and Optimization\n",
    "\n",
    "Test and reference netCDF files have flux and heating rate arrays of dimension `record` x `col` x `lay`/`lev` and `band` if the array is broken down by band. `record` represents atmospheric specifications that can be used in [forcing scenarios](https://github.com/pernak18/g-point-reduction/wiki/LW-Forcing-Number-Convention#g-point-reduction-convention-).\n",
    "\n",
    "Alternatively, the atmospheric specifications from any scenario can also be used. \"Bare\" parameters like `heating_rate` and `flux_net` will be treated as PD specifications, so the user will have to specify explicitly if they want the fluxes or heating rates from other scenarios by using the `flux_*_N` and `heating_rate_N` convention, where `N` is the scenario index as listed in the above list. The same convention applies to band fluxes and HRs. `N` = 0 will work just like `heating_rate` and `flux_net`.\n",
    "\n",
    "Forcing for this exercise is defined as PI subtracted from scenario (2-6). The convention for these quantities is `*_forcing_N`, where `*` is the typical flux or heating rate (band or broadband) string, and `N` again is the forcing scenario (`N` of 2 would be forcing due to doubling methane).\n",
    "\n",
    "First, let's define the cost function (component names, levels/layers, and weights):"
   ]
  },
  {
   "cell_type": "code",
   "execution_count": null,
   "metadata": {},
   "outputs": [],
   "source": [
    "# pickling for developement purposes so this dictionary doesn't need \n",
    "# to be regenerated for every code change.\n",
    "with open(KPICKLE, 'rb') as fp: kBandDict = pickle.load(fp)\n",
    "\n",
    "# components used in cost function computation\n",
    "# variable names in RRTMGP and LBL flux netCDF file, except for \n",
    "# forcing, which has to be specifed with \"_forcing\" appended to \n",
    "# the appropriate array. e.g., \"flux_net_forcing\" for net flux forcing\n",
    "# netCDF arrays ('heating_rate', 'flux_net', 'band_flux_net', etc.)\n",
    "# or forcing scenarios: convention is  ('flux_net_forcing_3') for \n",
    "#CFCOMPS = ['flux_dif_net', 'flux_dir_dn', 'heating_rate']\n",
    "CFCOMPS = ['flux_net','band_flux_net','heating_rate','heating_rate_7',\n",
    "           'flux_net_forcing_5','flux_net_forcing_6','flux_net_forcing_7',\n",
    "           'flux_net_forcing_9','flux_net_forcing_10','flux_net_forcing_11',\n",
    "           'flux_net_forcing_12','flux_net_forcing_13','flux_net_forcing_14',\n",
    "           'flux_net_forcing_15','flux_net_forcing_16','flux_net_forcing_17',\n",
    "           'flux_net_forcing_18']\n",
    "# level indices for each component \n",
    "# (e.g., 0 for surface, 41 for Garand TOA)\n",
    "# one dictionary key per component so each component\n",
    "# can have its own set of level indices\n",
    "CFLEVS = {}\n",
    "CFLEVS['flux_net'] = [0, 26, 42]\n",
    "CFLEVS['band_flux_net'] = [42]\n",
    "CFLEVS['heating_rate'] = range(42)\n",
    "CFLEVS['heating_rate_7'] = range(42)\n",
    "CFLEVS['flux_net_forcing_5'] = [0, 26, 42]\n",
    "CFLEVS['flux_net_forcing_6'] = [0, 26, 42]\n",
    "CFLEVS['flux_net_forcing_7'] = [0, 26, 42]\n",
    "CFLEVS['flux_net_forcing_9'] = [0, 26, 42]\n",
    "CFLEVS['flux_net_forcing_10'] = [0, 26, 42]\n",
    "CFLEVS['flux_net_forcing_11'] = [0, 26, 42]\n",
    "CFLEVS['flux_net_forcing_12'] = [0, 26, 42]\n",
    "CFLEVS['flux_net_forcing_13'] = [0, 26, 42]\n",
    "CFLEVS['flux_net_forcing_14'] = [0, 26, 42]\n",
    "CFLEVS['flux_net_forcing_15'] = [0, 26, 42]\n",
    "CFLEVS['flux_net_forcing_16'] = [0, 26, 42]\n",
    "CFLEVS['flux_net_forcing_17'] = [0, 26, 42]\n",
    "CFLEVS['flux_net_forcing_18'] = [0, 26, 42]\n",
    "\n",
    "# weights for each cost function component\n",
    "CFWGT = [0.6, 0.04, 0.12, 0.12,\n",
    "         0.01, 0.02, 0.04,\n",
    "        0.005, 0.005, 0.005,\n",
    "        0.005, 0.005, 0.005, \n",
    "        0.005, 0.005, 0.005,\n",
    "        0.005]\n",
    "\n",
    "# directory under which to store k-distribution files that optimize \n",
    "# the cost function for each iteration and diagnistics (if necessary)\n",
    "CFDIR = 'fullCF_top-layer_redo_abs_parabola'\n",
    "FCC.pathCheck(CFDIR, mkdir=True)"
   ]
  },
  {
   "cell_type": "markdown",
   "metadata": {},
   "source": [
    "Now we starting combining _g_-points and calculating costs for all combinations, then select the trial that minimizes the cost for a given iteration. Rinse and repeat."
   ]
  },
  {
   "cell_type": "code",
   "execution_count": null,
   "metadata": {},
   "outputs": [],
   "source": [
    "### write diagnostic netCDFs with cost function components\n",
    "DIAGNOSTICS = True\n",
    "\n",
    "RESTORE = True\n",
    "\n",
    "if RESTORE:\n",
    "    assert os.path.exists(pickleCost), 'Cannot find {}'.format(pickleCost)\n",
    "    print('Restoring {}'.format(pickleCost))\n",
    "    with open(pickleCost, 'rb') as fp: coObj = pickle.load(fp)\n",
    "else:\n",
    "    # instantiate object for computing cost\n",
    "    coObj = REDUX.gCombine_Cost(\n",
    "        kBandDict, fullBandFluxes, REFNC, TESTNC, 1, \n",
    "        DOLW, profilesNC=GARAND, exeRRTMGP=EXE, \n",
    "        costFuncComp=CFCOMPS, costFuncLevs=CFLEVS, \n",
    "        costWeights=CFWGT, optDir='./{}'.format(CFDIR))\n",
    "# endif RESTORE\n",
    "\n",
    "# number of iterations for the optimization\n",
    "NITER = 94\n",
    "\n",
    "COSTCUT = 0.1\n",
    "\n",
    "for i in range(coObj.iCombine, NITER+1):\n",
    "    print('Iteration {}'.format(i))\n",
    "    coObj.kMap()\n",
    "    coObj.fluxComputePool()\n",
    "    coObj.fluxCombine()\n",
    "    if i == 1: coObj.costFuncComp(init=True)\n",
    "    coObj.costFuncComp()\n",
    "    coObj.findOptimal()\n",
    "    if coObj.optimized: break\n",
    "    if DIAGNOSTICS: coObj.costDiagnostics()\n",
    "\n",
    "    # Start of special g-point combination branch\n",
    "    dCostIter = np.abs(coObj.totalCost[coObj.iOpt]-coObj.winnerCost)\n",
    "    if dCostIter > COSTCUT: break\n",
    "\n",
    "    # coObj = REDUX.modCombine(coObj, i, coObj.optBand, \n",
    "    #     diagnostics=DIAGNOSTICS, \n",
    "    #     kDirIn=BANDSPLITDIR, fluxDirIn=FULLBANDFLUXDIR)\n",
    "\n",
    "    coObj.setupNextIter()\n",
    "    with open(pickleCost, 'wb') as fp: pickle.dump(coObj, fp)\n",
    "    if i in [90, 93, 100, 114]:\n",
    "        with open('LW_cost-optimize_iter{:03d}.pickle'.format(i), 'wb') as fp: pickle.dump(coObj, fp)\n",
    "    coObj.calcOptFlux(\n",
    "        fluxOutNC='optimized_{}_fluxes_iter{:03d}.nc'.format(DOMAIN, i))\n",
    "# end iteration loop\n",
    "\n",
    "KOUTNC = 'rrtmgp-data-{}-g-red.nc'.format(DOMAIN)\n",
    "\n",
    "# TO DO: getting this error:\n",
    "# `Using a DataArray object to construct a variable is ambiguous, please extract the data using the .data property.`\n",
    "# but not sure how to fix -- downgrading xarray didn't work\n",
    "# it's not vital, though, for now -- we have all the information to RESTORE then try building this \n",
    "# again when we think we have a fix, as long as the files are not deleted\n",
    "# coObj.kDistOpt(KFULLNC, kOutNC=KOUTNC)\n",
    "\n",
    "coObj.calcOptFlux(fluxOutNC='optimized_{}_fluxes.nc'.format(DOMAIN))\n",
    "with open('LW_cost-optimize_iter{:03d}.pickle'.format(i), 'wb') as fp: pickle.dump(coObj, fp)"
   ]
  },
  {
   "cell_type": "markdown",
   "metadata": {},
   "source": [
    "# Modified _g_-Point Combining\n",
    "\n",
    "At this point, we have reached large enough delta-costs -- i.e., the cost difference with respect to the **previous** iteration -- such that we would like to implement the modified _g_-point combining [described](https://github.com/pernak18/g-point-reduction/wiki/Modified-g-Point-Combining) by Eli. [Issue 19](https://github.com/pernak18/g-point-reduction/issues/19) details the refinements on this modified combination approach, namely:\n",
    "\n",
    "- parabolas are not necessary used in finding the zero crossing anymore; Eli found that the trends of scaling the weights and their associated delta-costs were approximately linear\n",
    "- we need to focus on all remaining trials, not just the \"winner\" of a given iteration as we did in Karen's implementation of the modified combining (methods with `sgl` in their names)\n",
    "\n",
    "The latter item is the stickler because we have to calculate fluxes and associated costs for all remaining trials over a few more \"weight scales\" that are the abscissa to go along with their delta-cost ordinates, which will be used in determining zero crossings and thus the scale weight that minimizes the delta-cost. Currently, we scale the _g_-point weights with `iniWgt` scaled with 0 (\"init\"), 1 (\"plus\"), and 2 (\"2plus\"), which is the naming convention used by Karen. We may revisit how many data points we use, given that a) the flux and cost computations are expensive (time), and b) delta-costs are linear with weight. \n",
    "\n",
    "First, we define some variables that are exclusive to modified combining:"
   ]
  },
  {
   "cell_type": "code",
   "execution_count": 18,
   "metadata": {},
   "outputs": [],
   "source": [
    "with open('LW_cost-optimize_iter094.pickle', 'rb') as fp: coObj = pickle.load(fp)\n",
    "\n",
    "iniWgt = 0.05\n",
    "kModPickle = 'LW_mod-k-dist.pickle'\n",
    "costModPickle = 'LW_mod-cost-optimize.pickle'\n",
    "kBand = coObj.distBands"
   ]
  },
  {
   "cell_type": "markdown",
   "metadata": {},
   "source": [
    "Then we have to apply the modified combinations and generate their corresponding _k_-distribution file:"
   ]
  },
  {
   "cell_type": "code",
   "execution_count": 19,
   "metadata": {},
   "outputs": [
    {
     "name": "stdout",
     "output_type": "stream",
     "text": [
      "plus\n",
      "2plus\n",
      "Wrote modified k-dist objects to LW_mod-k-dist.pickle\n"
     ]
    }
   ],
   "source": [
    "kBandDict = MODRED.kModInit(coObj.distBands, coObj.iCombine, doLW=DOLW, \n",
    "    weight=iniWgt, kDir=BANDSPLITDIR, fluxDir=FULLBANDFLUXDIR)\n",
    "\n",
    "with open(kModPickle, 'wb') as fp: pickle.dump(kBandDict, fp)\n",
    "print('Wrote modified k-dist objects to {}'.format(kModPickle))"
   ]
  },
  {
   "cell_type": "markdown",
   "metadata": {},
   "source": [
    "Now, we continue with those _k_-distributions in flux and cost computation, which is done exactly like we did with the original combinations. Note for diagnostics, we need to sync the modified cost optimization object (`coObjMod`) with original cost-optimization object (`coObj`) up to the current iteration where modification is first applied. Then we save the delta-costs for all trials in all weight scales to be used in the zero-crossing calculation."
   ]
  },
  {
   "cell_type": "code",
   "execution_count": 22,
   "metadata": {},
   "outputs": [],
   "source": [
    "dCostMod, coObjMod, idModTrial = MODRED.costModInit(coObj, kBandDict)\n",
    "with open(costModPickle, 'wb') as fp: pickle.dump(coObjMod, fp)"
   ]
  },
  {
   "cell_type": "code",
   "execution_count": 23,
   "metadata": {},
   "outputs": [],
   "source": [
    "newScales, cross = MODRED.scaleWeightRegress(dCostMod)"
   ]
  },
  {
   "cell_type": "markdown",
   "metadata": {},
   "source": [
    "Another round of _k_-distribution modifications to create the netCDFs with the zero-crossing scale weights that were found in the linear regression:"
   ]
  },
  {
   "cell_type": "code",
   "execution_count": 24,
   "metadata": {},
   "outputs": [
    {
     "name": "stderr",
     "output_type": "stream",
     "text": [
      "100%|██████████| 52/52 [00:06<00:00,  7.48it/s]\n"
     ]
    }
   ],
   "source": [
    "coObjMod = MODRED.whereRecompute(kBand, coObjMod, cross, newScales, weight=iniWgt)\n",
    "coObjRep = MODRED.recompute(coObj, coObjMod, np.where(cross)[0])"
   ]
  },
  {
   "cell_type": "markdown",
   "metadata": {},
   "source": [
    "Now we need to consolidate the reprocessed costs with modified-but-not-reprocessed (i.e., no zero crossing) trials. Then we can find the optimal solution after the full suite of _g_-point modification has been applied."
   ]
  },
  {
   "cell_type": "code",
   "execution_count": null,
   "metadata": {},
   "outputs": [],
   "source": [
    "coObjMod = MODRED.trialConsolidate(coObjMod, coObjRep, np.where(cross)[0], coObj.winnerCost)\n",
    "\n",
    "# save modified object WITH reprocessed results\n",
    "costRepPickle = costModPickle.replace('mod', 'rep')\n",
    "with open(costRepPickle, 'wb') as fp: pickle.dump(coObjMod, fp)"
   ]
  },
  {
   "cell_type": "markdown",
   "metadata": {},
   "source": [
    "Now that one iteration with modified combining is complete, we can proceed similarly to more iterations. This has the potentially to be **very** time consuming, even parallelized on a supercomputer (because of I/O? Python parallelization overhead? unsure why...), so from here on out, we'll try to use the _k_-distribution and cost optimization objects we've already taken the time to generate and only replace trials for the band that contained the winner in the previous iteration. While we're doing this only with modified combining, there is no reason this logic cannot be applied to iterations where the modified combining is not applied.\n",
    "\n",
    "While code snippets that follow work, they are poorly organized. In the future, one task may be to streamline the snippets a little more."
   ]
  },
  {
   "cell_type": "markdown",
   "metadata": {},
   "source": [
    "A note on the number of _g_-points that should exist at this point: e.g., at iteration 94, after combination modification, band 12 has a winner in it. Band 12 has not had a winner since iteration 78. At that iteration, 8 _g_-points were left in the band. That number perpetuates at iteration 94 because we have not done any additional combining of points -- we've only _changed_ how the 8 points were combined (with weights and scales to the weights). I'm not sure how this will affect future iterations where a new set of combinations is generated...I believe we'll have _x_ trials that need to be recomputed, but only _x_-1 combinations, so i'll just have to use `pop` or `totalCost`, `dCost`, etc. filters for NaNs to calibrate the trial numbers for the current iteration."
   ]
  },
  {
   "cell_type": "code",
   "execution_count": null,
   "metadata": {},
   "outputs": [],
   "source": [
    "# TO DO: verify *setupNextIter() (did we preserve what we wanted and add what we wanted?)\n",
    "# possible verification code snippet?\n",
    "# for i, fia in enumerate(coObj.fluxInputsAll):\n",
    "#     print(i, fia['bandID'], coObjMod.optBand, coObj.totalCost[i], coObj.dCost[i], coObjMod.totalCost[i], coObjMod.dCost[i], len(coObjMod.fluxInputsAll[i].keys()))\n",
    "\n",
    "# also compare initial modified trial costs to subsequent winners for verification\n",
    "metric = coObjMod.totalCost-coObj.winnerCost\n",
    "iSort = np.argsort(np.abs(metric))\n",
    "dcmi = dCostMod['init']\n",
    "dcm1 = dCostMod['plus']\n",
    "dcm2 = dCostMod['2plus']\n",
    "import pandas as PD\n",
    "temp = []\n",
    "for iisort, isort in enumerate(iSort): temp.append([iisort, isort, coObjMod.fluxInputsAll[isort]['bandID']+1, newScales[isort], dcmi[isort], dcm1[isort], dcm2[isort], metric[isort]])"
   ]
  },
  {
   "cell_type": "code",
   "execution_count": null,
   "metadata": {},
   "outputs": [],
   "source": [
    "PD.DataFrame(temp, columns=('index', 'trial', 'band', 'weight scale', 'dCost 0', 'dCost 1', 'dCost 2', 'dCost')).to_csv('dCost_mods_iter094_corrected2.csv')"
   ]
  },
  {
   "cell_type": "code",
   "execution_count": 63,
   "metadata": {},
   "outputs": [
    {
     "name": "stdout",
     "output_type": "stream",
     "text": [
      "plus\n",
      "2plus\n"
     ]
    }
   ],
   "source": [
    "RESTORE = True\n",
    "\n",
    "if RESTORE:\n",
    "    costModPickle = 'LW_mod-cost-optimize.pickle'\n",
    "    with open(costModPickle, 'rb') as fp: coObjMod = pickle.load(fp)\n",
    "    iniWgt = 0.05\n",
    "    kBandDict = MODRED.kModInit(coObjMod.distBands, coObjMod.iCombine, \n",
    "        doLW=DOLW, weight=iniWgt, kDir=BANDSPLITDIR, fluxDir=FULLBANDFLUXDIR)\n",
    "else:\n",
    "    # MODRED.trialConsolidate(coObjMod, coObjRep, np.where(cross)[0], coObj.winnerCost)\n",
    "    coObjMod.iCombine = coObj.iCombine\n",
    "# endif RESTORE"
   ]
  },
  {
   "cell_type": "code",
   "execution_count": 64,
   "metadata": {},
   "outputs": [
    {
     "data": {
      "text/plain": [
       "array([2.        , 1.11811965, 1.84992039, 0.61075584, 2.        ,\n",
       "       1.35402594, 1.65046475, 2.        , 2.        , 1.14972026,\n",
       "       2.        , 2.        , 2.        , 2.        , 2.        ,\n",
       "       2.        , 1.65000562, 1.23748081, 2.        , 2.        ,\n",
       "       2.        , 0.73291609, 2.        , 2.        , 1.73390766,\n",
       "       1.71782979, 2.        , 2.        , 1.        , 2.        ,\n",
       "       0.        , 0.49147592, 1.60363985, 2.        , 2.        ,\n",
       "       2.        , 0.77976319, 2.        , 2.        , 1.50688558,\n",
       "       2.        , 2.        , 2.        , 2.        , 1.56522876,\n",
       "       2.        , 2.        , 2.        , 1.        , 1.50300287,\n",
       "       2.        , 2.        , 2.        , 1.38240856, 2.        ,\n",
       "       2.        , 2.        , 1.34822996, 1.84890043, 2.        ,\n",
       "       2.        , 1.83466667, 0.5427279 , 1.38858746, 2.        ,\n",
       "       2.        , 2.        , 0.39995309, 0.58851759, 0.33805621,\n",
       "       1.01634512, 2.        , 2.        , 2.        , 1.4331268 ,\n",
       "       2.        , 0.        , 0.10943982, 0.74803742, 1.63529117,\n",
       "       2.        , 0.66603183, 1.83780556, 2.        , 0.27352521,\n",
       "       0.3050454 , 0.71586331, 1.20529574, 2.        , 2.        ,\n",
       "       1.37172525, 1.40866223, 0.80343911, 2.        , 2.        ,\n",
       "       2.        , 2.        , 2.        , 2.        , 2.        ,\n",
       "       2.        , 1.72451744, 2.        , 1.65147655, 2.        ,\n",
       "       2.        , 2.        , 1.        , 2.        , 2.        ,\n",
       "       1.13685847, 1.4733748 , 1.92458775, 2.        , 2.        ,\n",
       "       2.        , 2.        , 2.        , 1.21736847, 2.        ,\n",
       "       2.        , 2.        , 2.        , 1.89226218, 2.        ,\n",
       "       2.        , 2.        , 2.        , 1.23643611, 1.66556082,\n",
       "       1.81398614, 2.        , 2.        , 2.        , 2.        ,\n",
       "       0.53332809, 2.        , 2.        , 0.        , 0.60805227,\n",
       "       2.        , 2.        , 2.        , 2.        , 2.        ,\n",
       "       2.        , 2.        ])"
      ]
     },
     "execution_count": 64,
     "metadata": {},
     "output_type": "execute_result"
    }
   ],
   "source": [
    "newScales"
   ]
  },
  {
   "cell_type": "code",
   "execution_count": 31,
   "metadata": {},
   "outputs": [],
   "source": [
    "# with open('LW_cost-optimize_iter094.pickle', 'rb') as fp: coObj = pickle.load(fp)\n",
    "\n",
    "# need to recalculate the fluxes and costs with new winner\n",
    "# recalibrated object will contain all trials\n",
    "# should only need to be used in subsequent winner choices\n",
    "# coObjRC = MODRED.recalibrate(coObjMod, dCostMod, coObj.winnerCost, idModTrial)\n",
    "from copy import deepcopy as DCP\n",
    "\n",
    "# kFiles will likely just contain plus and 2plus (no init), because we're always doing \n",
    "# the modified combination at this point\n",
    "kFiles = {}\n",
    "for sWgt in ['plus', '2plus']:\n",
    "    objModCP = DCP(coObjMod)\n",
    "    bandStr = 'band{:02d}'.format(coObjMod.optBand+1)\n",
    "    kBandDict[sWgt][bandStr], kFiles[sWgt] = MODRED.kModSetupNextIter(\n",
    "      objModCP, iniWgt, scaleWeight=sWgt)\n",
    "    coObjMod.distBands[bandStr] = kBandDict[sWgt][bandStr]\n",
    "# end scaleWeight loop"
   ]
  },
  {
   "cell_type": "code",
   "execution_count": 34,
   "metadata": {},
   "outputs": [],
   "source": [
    "prevWinCost = coObjRC.winnerCost\n",
    "# coObj0 = DCP(coObjMOd)\n",
    "coObjNew, bandCosts, idModTrial = MODRED.coModSetupNextIter(coObjMod, list(idModTrial))"
   ]
  },
  {
   "cell_type": "code",
   "execution_count": null,
   "metadata": {},
   "outputs": [],
   "source": [
    "# TO DO: allow restart with modified reduction\n",
    "\n",
    "# save necessary variables we haven't already pickled so we don't have to run previous steps every time\n",
    "# this iteration\n",
    "modParamsPickle = 'modified_reduction_parameters_iter{:03d}.pickle'.format(coObjNew.iCombine-1)\n",
    "modParams = {\n",
    "    'dcost_dict': dCostMod, 'scale_factors': newScales, \n",
    "    'zero_cross': cross, 'k_files': kFiles, 'k_objects': kBandDict, \n",
    "    'band_costs': bandCosts, 'dcost_offset': coObj.winnerCost}\n",
    "with open(modParamsPickle, 'wb') as fp: pickle.dump(modParams, fp)\n",
    "\n",
    "with open('LW_mod-cost-optimize_for_iter{:03d}.pickle'.format(coObjNew.iCombine), 'wb') as fp: pickle.dump(coObjNew, fp)\n",
    "with open('LW_mod-cost-optimize_recal_iter{:03d}.pickle'.format(coObjNew.iCombine-1), 'wb') as fp: pickle.dump(coObjRC, fp)"
   ]
  },
  {
   "cell_type": "code",
   "execution_count": 105,
   "metadata": {},
   "outputs": [],
   "source": [
    "#### restore the variables\n",
    "RESTOREMODPARAMS = True\n",
    "if RESTOREMODPARAMS:\n",
    "    import pickle\n",
    "    modParamsPickle = 'modified_reduction_parameters_iter094.pickle'\n",
    "    with open(modParamsPickle, 'rb') as fp:\n",
    "        modParams = pickle.load(fp)\n",
    "        dCostMod = modParams['dcost_dict']\n",
    "        newScales = modParams['scale_factors']\n",
    "        cross = modParams['zero_cross']\n",
    "        kFiles = modParams['k_files']\n",
    "        kBandDict = modParams['k_objects']\n",
    "        bandCosts = modParams['band_costs']\n",
    "        # dCostOffset = modParams['dcost_offset']\n",
    "    # endwith\n",
    "    with open('LW_mod-cost-optimize_for_iter095.pickle', 'rb') as fp: coObjNew = pickle.load(fp)\n",
    "    with open('LW_mod-cost-optimize_recal_iter094.pickle', 'rb') as fp: coObjRC = pickle.load(fp)\n",
    "    prevWinCost = coObjRC.winnerCost\n",
    "    iniWgt = 0.05\n",
    "# endif RESTORE MODPARAMS"
   ]
  },
  {
   "cell_type": "code",
   "execution_count": 106,
   "metadata": {},
   "outputs": [
    {
     "name": "stderr",
     "output_type": "stream",
     "text": [
      "  0%|          | 0/1 [00:00<?, ?it/s]"
     ]
    },
    {
     "name": "stdout",
     "output_type": "stream",
     "text": [
      "Iteration 95\n"
     ]
    },
    {
     "name": "stderr",
     "output_type": "stream",
     "text": [
      "  0%|          | 0/1 [00:49<?, ?it/s]"
     ]
    },
    {
     "name": "stdout",
     "output_type": "stream",
     "text": [
      "Refitting parabolas and recalibrating fluxes\n",
      "[ 3.02076577e-02  8.54830179e-03  6.12923841e-05  2.75587993e-02\n",
      "  1.71883521e-02  3.53059891e-02  1.76448484e-01 -2.25491339e-01\n",
      "  9.54301637e-02  5.12464952e-02  8.37459753e-03 -1.10398863e-01\n",
      " -1.03340669e-01  1.02523670e+00  1.39737969e+00  3.82940586e-01\n",
      "  2.97235516e-01  3.02213463e-01  6.03204265e-02  9.56057127e-02\n",
      "  5.13453459e-01  1.80596821e+00 -3.70391986e-03 -3.19836905e-03\n",
      "  5.58588804e-03  1.65580357e-02 -1.46637426e-01 -3.88465035e-01\n",
      "  1.84223340e+00  3.76433118e-01  5.34381372e-01  6.39279613e-01\n",
      "  3.48907670e-01  1.83242604e-01  1.27595316e-01  6.22049099e-02\n",
      "  2.02400890e-01  4.61613757e-02 -8.78915157e-02 -3.16419091e-03\n",
      "  1.06906285e-01  7.78746150e-02  6.47331334e-02  9.12364151e-02\n",
      "  1.71742171e-01  3.42651689e-01  1.11482320e+00  2.21595214e+00\n",
      "  5.87425066e+00  3.24378173e-03  3.75917651e-02 -3.64045607e-02\n",
      " -6.44271406e-04  1.16809145e-01  5.92890802e-01  2.22486561e+00\n",
      "  1.62151267e+00  9.03425065e-01  4.15613784e-01  1.48103256e-01\n",
      " -5.24727357e-02  3.00894947e-01  4.18415869e-02 -3.04824938e-02\n",
      " -3.68428554e-02  5.81858209e-04  6.11144440e-03  1.58415896e-01\n",
      "  1.72350548e-01  3.14880522e-01  8.33093361e-02 -4.02066943e-03\n",
      "  6.44337670e-01  4.48941518e-01  4.14727062e-01  3.66689703e-01\n",
      "  1.53426017e-01  5.28885787e-02  2.80333036e-01  1.02016327e+00\n",
      "  1.13520430e-02  2.23282681e-02  1.54763963e-02  3.77873318e-03\n",
      "  1.98479611e-02  5.42483856e-02  2.64533761e-02  7.30308174e-02\n",
      "  4.81301749e-03 -1.61437321e-04  9.57026914e-02  5.40603160e-01\n",
      "  1.04234446e-01  3.15383800e-01  2.80043011e-01  1.70908726e-01\n",
      "  2.26047711e-02 -1.26307476e-02 -8.94946869e-03  4.81861174e-02\n",
      "  9.17840329e-03 -1.77172700e-02 -6.89943493e-03  1.64814423e-01\n",
      " -4.70408383e-03  3.83381631e-02  7.03947771e-03  2.95082786e-04\n",
      " -7.28559087e-03 -7.14010106e-03 -6.52370330e-03 -7.40963479e-03\n",
      " -5.59124411e-05  1.77276347e-02 -4.06609423e-03 -8.87475406e-03\n",
      " -1.25132626e-02 -1.19082418e-02 -1.93174134e-02 -6.02944881e-03\n",
      " -7.11830669e-03 -8.14387260e-03 -8.42941225e-03  8.94781875e-03\n",
      "  1.81878096e-03 -3.86758207e-04 -1.51212228e-03 -2.96588700e-03\n",
      " -7.59498383e-03  2.45090554e-03  2.40003324e-01 -5.70498785e-03\n",
      " -6.16663749e-03 -2.20581322e-04  1.17447554e-05 -1.00320892e-03\n",
      " -1.72233990e-03  8.34559091e-04 -1.98948418e-04 -8.40892558e-04\n",
      " -1.48104311e-03 -2.87598661e-03]\n",
      "2.0\n",
      "[-7.77207682e-01 -7.09856516e-01 -5.56030325e-01 -6.28323465e-01\n",
      " -8.47512141e-01 -1.05026674e+00 -2.26231386e+00 -3.18998365e+00\n",
      " -1.64447865e+00 -6.89862194e-01 -2.22583732e-01 -7.71581536e-01\n",
      "  5.39921497e-02 -7.24946941e+00 -9.90094670e+00 -4.74797315e+00\n",
      " -2.59009113e+00 -2.85968029e+00 -3.53626611e+00 -2.89289650e+00\n",
      " -5.14973829e+00 -5.41790463e+00 -1.72430957e-01 -1.03189548e-01\n",
      " -1.03615728e-01 -3.85310197e-01 -2.10018419e+00 -1.83813803e+00\n",
      " -4.11958875e+00 -5.56435612e-01 -1.71767144e+00 -3.47729643e+00\n",
      " -4.48292757e+00 -4.19742546e+00 -6.75479167e+00 -5.53363646e+00\n",
      " -1.74711999e+00 -1.21447305e+00 -8.12655419e-01 -1.95028483e-01\n",
      " -4.11451921e+00 -1.22737052e+00 -6.15946601e-01 -4.74696419e-01\n",
      " -6.98622223e-01 -1.76480457e+00 -5.18158915e+00 -1.81129209e+01\n",
      " -1.76227520e+01 -5.01198553e-01 -6.67753194e-01 -4.12168625e-01\n",
      " -4.95820899e-03 -9.79072453e-01 -2.83821940e+00 -8.48641540e+00\n",
      " -8.43931373e+00 -5.92091352e+00 -5.97386647e+00 -4.28112895e+00\n",
      " -4.57840320e+00 -2.14282596e+00 -4.90859672e-01 -4.55569222e-01\n",
      " -1.52851449e-01 -5.16704265e-01 -2.93444096e-01 -1.30368522e+00\n",
      " -1.88435147e+00 -3.22861597e+00 -1.23606718e+00 -9.76410409e-02\n",
      " -4.04101816e-01 -7.11938661e-01 -1.02679943e+00 -1.72865868e+00\n",
      " -2.16050432e+00 -2.28344591e+00 -3.55942996e+00 -3.06048982e+00\n",
      " -1.81683198e-01 -2.90046638e-01 -8.67429093e-01 -4.29955349e-01\n",
      " -6.60064965e-01 -1.10630056e+00 -1.48523496e+00 -1.26756738e+00\n",
      " -3.93449089e-01 -9.27722630e-02 -2.87108074e-01 -7.99190675e+00\n",
      " -6.92157324e+00 -3.50886984e+00 -4.00476209e+00 -4.31677257e+00\n",
      " -1.09989814e+00 -6.52827540e-01 -3.82477561e-01 -1.17446437e+00\n",
      " -4.78558348e-01 -5.51594430e-01 -1.24005832e-01 -4.94443268e-01\n",
      " -1.88196281e-01 -7.21821276e-01 -3.46999119e-01 -3.48285395e-01\n",
      " -2.82247795e-01 -2.25368371e-01 -1.75690635e-01 -1.61463101e-01\n",
      " -1.70372779e-01 -3.07540740e-01 -7.20503198e-02 -7.37055749e-01\n",
      " -4.45296602e-01 -4.85441181e-01 -6.11300631e-01 -2.35303195e-01\n",
      " -1.91512725e-01 -1.27035972e-01 -4.53958449e-02 -4.07673410e-01\n",
      " -2.18506375e-01 -2.00205095e-01 -1.27476984e-01 -9.07164137e-02\n",
      " -4.30004995e-02 -3.05093372e-02 -7.20009971e-01 -2.69216559e-02\n",
      " -1.51084160e-02 -9.90269126e-02 -2.74577066e-01 -5.83726328e-02\n",
      " -3.52048149e-02 -1.49520179e-01 -5.81522213e-02 -4.02184517e-02\n",
      " -3.25743009e-02 -2.16658000e-02]\n",
      "1.1181415755410755\n",
      "[ 2.69030939  0.78303265  1.02841722  0.37348732  1.86184726  1.35737404\n",
      "  3.25323277 21.37841624  4.87353298  0.72542316  0.5367954   5.07714087\n",
      "  0.60870469 16.29587338 19.18218459 12.18915372  3.46445086  3.0760174\n",
      "  9.07029694  8.04879399 13.15286222  3.00077992  0.3835998   0.40308856\n",
      "  0.16288164  0.61305072  7.99080515  6.00114412  4.35191808 -0.39750346\n",
      " -0.25962187  1.55460552  6.29174428  8.71632233 24.81091478 18.40356021\n",
      "  1.23928906  4.28962284  4.46981783  0.3010857  14.33546522  2.99463709\n",
      "  1.35197122  1.20091005  0.67276054  2.23815642  8.71465221 64.27461694\n",
      " 15.53139877  0.74599025  1.58481775  3.03270279  0.33540344  1.13026477\n",
      "  3.4959609  13.0555796  12.19462878  6.3405907   9.62435166 10.23258147\n",
      " 22.95430137  2.91857359  0.2540938   1.73295901  0.48691678  0.20657954\n",
      "  0.17059544  0.42262995  1.73713578  7.54345573  2.43624204  0.45771098\n",
      " -0.7442302  -0.62426884 -0.41459284  0.18480737  1.53030217  3.59268064\n",
      "  7.10902673  1.58585598  0.29557168  0.60838953  0.23612099  0.13081942\n",
      "  0.46236015  1.25462581  4.47866975  5.45630352  0.53066288  0.13102027\n",
      "  0.16891154 18.81139261 29.34152836  9.10920201 11.61184815  8.68367146\n",
      "  3.16466155  3.209062    1.26608081  2.94056073  1.7964566   1.90132741\n",
      "  0.87816209  0.4088412   0.8697828   1.59939199  0.38540588  0.51252949\n",
      "  0.66109975  0.64965871  0.6445907   0.7314501   0.46927836  0.34813344\n",
      "  0.62691209  2.22973695  1.6265694   1.7875198   1.22592523  0.54273781\n",
      "  0.67601614  0.72515517  0.50086096  0.49039807  0.35890533  0.36445706\n",
      "  0.35886622  0.7907584   0.82353341  0.44549287  0.31575042  0.62405427\n",
      "  0.61541671 -0.1658346   0.16696801  0.13881553  0.12060243  0.30783749\n",
      "  0.29206823  0.11960757  0.25540708  0.42939276]\n",
      "1.849947636260123\n",
      "1.163752239854507e+41\n",
      "-112046295.0583861\n",
      "1.9250642022675828e+38\n"
     ]
    },
    {
     "name": "stderr",
     "output_type": "stream",
     "text": [
      "\n"
     ]
    },
    {
     "ename": "SystemExit",
     "evalue": "",
     "output_type": "error",
     "traceback": [
      "An exception has occurred, use %tb to see the full traceback.\n",
      "\u001b[0;31mSystemExit\u001b[0m\n"
     ]
    }
   ],
   "source": [
    "from copy import deepcopy as DCP\n",
    "\n",
    "RESTOREMODPARAMS = False\n",
    "if RESTOREMODPARAMS:\n",
    "    modParamsPickle = 'modified_reduction_parameters_iter140.pickle'\n",
    "    with open(modParamsPickle, 'rb') as fp:\n",
    "        # modParams = {'k_files': kFiles, 'k_objects': kBandDict, 'band_costs': bandCosts, 'dcost_dict_next': dCostNew}\n",
    "        modParams = pickle.load(fp)\n",
    "        kFiles = modParams['k_files']\n",
    "        kBandDict = modParams['k_objects']\n",
    "        bandCosts = modParams['band_costs']\n",
    "        dCostOffset = modParams['dcost_offset']\n",
    "    # endwith\n",
    "    with open('LW_mod-cost-optimize_for_iter141.pickle', 'rb') as fp: coObjNew = pickle.load(fp)\n",
    "# endif RESTORE MODPARAMS\n",
    "\n",
    "dCostOffset = coObj.winnerCost\n",
    "\n",
    "for i in tqdm(range(coObjNew.iCombine, coObjNew.iCombine+1)):\n",
    "    print('Iteration {}'.format(i))\n",
    "\n",
    "    iBandTrials, bandObj = MODRED.doBandTrials(coObjNew, kFiles, bandCosts)\n",
    "    # dCostRC = MODRED.dCostTrialConsolidate(dCostNew, dCostBand, iBandTrials)\n",
    "    MODRED.trialConsolidate(coObjNew, bandObj, iBandTrials, prevWinCost)\n",
    "    coObjRC = MODRED.recalibrate(coObjNew, dCostMod, dCostOffset, idModTrial)\n",
    "\n",
    "    with open('LW_cost-optimize_iter{:03d}.pickle'.format(i), 'wb') as fp: pickle.dump(coObjNew, fp)\n",
    "\n",
    "    kFiles = {}\n",
    "    for sWgt in ['plus', '2plus']:\n",
    "        objModCP = DCP(coObjNew)\n",
    "        bandStr = 'band{:02d}'.format(coObjNew.optBand+1)\n",
    "        print(sWgt, bandStr)\n",
    "        kBandDict[sWgt][bandStr], kFiles[sWgt] = MODRED.kModSetupNextIter(\n",
    "          objModCP, iniWgt, scaleWeight=sWgt)\n",
    "        coObjNew.distBands[bandStr] = kBandDict[sWgt][bandStr]\n",
    "    # end scaleWeight loop\n",
    "\n",
    "    coObj0 = DCP(coObjNew)\n",
    "    fiaOpt = coObjNew.fluxInputsAll[coObjNew.iOpt]\n",
    "    coObj0.distBands[bandStr].kInNC = fiaOpt['kNC']\n",
    "    coObj0.fullBandFluxes[coObjNew.optBand] = fiaOpt['fluxNC']\n",
    "    coObjNew, bandCosts, idModTrial = MODRED.coModSetupNextIter(coObj0, idModTrial)\n",
    "    prevWinCost = coObjNew.winnerCost\n",
    "\n",
    "    with open('LW_mod-cost-optimize_for_iter{:03d}.pickle'.format(coObjNew.iCombine), 'wb') as fp: pickle.dump(coObjNew, fp)\n",
    "\n",
    "    modParamsPickle = 'modified_reduction_parameters_iter{:03d}.pickle'.format(coObjNew.iCombine-1)\n",
    "    modParams = {'k_files': kFiles, 'k_objects': kBandDict, 'band_costs': bandCosts, 'dcost_offset': coObjNew.winnerCost}\n",
    "    with open(modParamsPickle, 'wb') as fp: pickle.dump(modParams, fp)    \n",
    "# end combination loop"
   ]
  },
  {
   "cell_type": "code",
   "execution_count": 16,
   "metadata": {},
   "outputs": [
    {
     "name": "stdout",
     "output_type": "stream",
     "text": [
      "[70 -2 46]\n",
      "   2\n",
      "7 x - 4 x - 5 [ 1.17785686 -0.60642829]\n",
      "   2\n",
      "7 x - 4 x - 8.5 [ 1.42409839 -0.85266982]\n"
     ]
    }
   ],
   "source": [
    "import numpy as np\n",
    "\n",
    "x = np.array([-3, 1, 3])\n",
    "y = 7*x**2 - 4*x - 5\n",
    "print(y)\n",
    "\n",
    "coeffs = np.polyfit(x, y, 2)\n",
    "poly = np.poly1d(coeffs)\n",
    "roots = np.roots(coeffs)\n",
    "\n",
    "print(poly, roots)\n",
    "\n",
    "y = y - 3.5\n",
    "coeffs = np.polyfit(x, y, 2)\n",
    "poly = np.poly1d(coeffs)\n",
    "roots = np.roots(coeffs)\n",
    "\n",
    "print(poly, roots)\n"
   ]
  },
  {
   "cell_type": "code",
   "execution_count": 49,
   "metadata": {},
   "outputs": [
    {
     "data": {
      "text/plain": [
       "'/global/u1/p/pernak18/RRTMGP/test_abs_val/band_k_dist/coefficients_LW_band16.nc'"
      ]
     },
     "execution_count": 49,
     "metadata": {},
     "output_type": "execute_result"
    }
   ],
   "source": [
    "coObjNew.distBands['band16'].kBandNC"
   ]
  },
  {
   "cell_type": "code",
   "execution_count": 84,
   "metadata": {},
   "outputs": [
    {
     "name": "stdout",
     "output_type": "stream",
     "text": [
      "{'kNC': '/global/u1/p/pernak18/RRTMGP/test_abs_val/workdir_band_1/coefficients_LW_g01-02_iter094_2plus.nc', 'fluxNC': '/global/u1/p/pernak18/RRTMGP/test_abs_val/workdir_band_1/coefficients_LW_g01-02_iter094_2plus/flux_LW_g01-02_iter094_2plus.nc', 'profiles': '/global/project/projectdirs/e3sm/pernak18//reference_netCDF/g-point-reduce/multi_garand_template_single_band.nc', 'exe': '/global/project/projectdirs/e3sm/pernak18//g-point-reduction/garand_atmos/rrtmgp_garand_atmos', 'fluxDir': PosixPath('/global/u1/p/pernak18/RRTMGP/test_abs_val/workdir_band_1/coefficients_LW_g01-02_iter094_2plus'), 'bandID': 0}\n"
     ]
    }
   ],
   "source": [
    "# for key in coObjNew.distBands.keys(): print(coObjNew.distBands[key].kBandNC, coObjNew.distBands[key].kInNC)\n",
    "# for fia in coObjNew.fluxInputsAll: print(fia['kNC'])\n",
    "# for fbf in coObjNew.fullBandFluxes: print(fbf)\n",
    "print(coObj0.fluxInputsAll[0])"
   ]
  },
  {
   "cell_type": "code",
   "execution_count": null,
   "metadata": {},
   "outputs": [],
   "source": []
  }
 ],
 "metadata": {
  "kernelspec": {
   "display_name": "g-redux-jlab",
   "language": "python",
   "name": "g-redux-jlab"
  },
  "language_info": {
   "codemirror_mode": {
    "name": "ipython",
    "version": 3
   },
   "file_extension": ".py",
   "mimetype": "text/x-python",
   "name": "python",
   "nbconvert_exporter": "python",
   "pygments_lexer": "ipython3",
   "version": "3.10.9"
  },
  "toc-showmarkdowntxt": true
 },
 "nbformat": 4,
 "nbformat_minor": 4
}
