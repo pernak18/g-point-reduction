{
 "cells": [
  {
   "cell_type": "markdown",
   "metadata": {},
   "source": [
    "# By-Band _g_-Point Reduction"
   ]
  },
  {
   "cell_type": "markdown",
   "metadata": {},
   "source": [
    "# Dependencies\n",
    "\n",
    "`numpy` is installed in the Python environment at NERSC (`module load python`), but `xarray` is not, so the user must install the package on their own. `PIPPATH` is the assumed location. This notebook depends heavily on `xarray`."
   ]
  },
  {
   "cell_type": "code",
   "execution_count": 1,
   "metadata": {},
   "outputs": [],
   "source": [
    "import os, sys, shutil, glob\n",
    "\n",
    "# \"standard\" install\n",
    "import numpy as np\n",
    "\n",
    "from multiprocessing import Pool\n",
    "\n",
    "# directory in which libraries installed with conda are saved\n",
    "PIPPATH = '{}/.local/'.format(os.path.expanduser('~')) + \\\n",
    "    'cori/3.7-anaconda-2019.10/lib/python3.7/site-packages'\n",
    "PATHS = ['common', PIPPATH]\n",
    "for path in PATHS: sys.path.append(path)\n",
    "\n",
    "# user must do `pip install xarray` on cori (or other NERSC machines)\n",
    "import xarray as xa\n",
    "\n",
    "# local module\n",
    "import by_band_lib as BYBAND"
   ]
  },
  {
   "cell_type": "markdown",
   "metadata": {},
   "source": [
    "# Static Inputs"
   ]
  },
  {
   "cell_type": "code",
   "execution_count": 2,
   "metadata": {},
   "outputs": [],
   "source": [
    "# only do one domain or the other\n",
    "DOLW = True\n",
    "DOSW = not DOLW\n",
    "DOMAIN = 'LW' if DOLW else 'SW'\n",
    "NBANDS = 16 if DOLW else 14\n",
    "\n",
    "# forcing scenario (0 is no forcing...need a more comprehensive list)\n",
    "IFORCING = 0\n",
    "\n",
    "# does band-splitting need to be done, or are there existing files \n",
    "# that have divided up the full k-distribution?\n",
    "BANDSPLIT = True\n",
    "\n",
    "# remove the netCDFs that are generated for all of the combinations \n",
    "# and iterations of combinations in bandOptimize()\n",
    "CLEANUP = True"
   ]
  },
  {
   "cell_type": "markdown",
   "metadata": {},
   "source": [
    "# Paths"
   ]
  },
  {
   "cell_type": "code",
   "execution_count": 3,
   "metadata": {},
   "outputs": [],
   "source": [
    "PROJECT = '/global/project/projectdirs/e3sm/pernak18/'\n",
    "KFULLNC = '{}/reference_netCDF/g-point-reduce/'.format(PROJECT) + \\\n",
    "  'rrtmgp-data-lw-g256-2018-12-04.nc'\n",
    "EXE = '{}/g-point-reduction/garand_atmos/rrtmgp_garand_atmos'.format(\n",
    "    PROJECT)\n",
    "GARAND = '{}/reference_netCDF/g-point-reduce/'.format(PROJECT) + \\\n",
    "  'multi_garand_template_single_band.nc'\n",
    "\n",
    "# test (RRTMGP) and reference (LBL) flux netCDF files\n",
    "TESTNC = '{}/reference_netCDF/g-point-reduce/'.format(PROJECT) + \\\n",
    "    'lblrtm-lw-flux-inputs-outputs-garandANDpreind.nc'\n",
    "REFNC = '{}/reference_netCDF/g-point-reduce/'.format(PROJECT) + \\\n",
    "    'lblrtm-lw-flux-inputs-outputs-garandANDpreind.nc'\n",
    "PATHS = [KFULLNC, EXE, TESTNC, REFNC]\n",
    "\n",
    "BANDSPLITDIR = 'band_k_dist'\n",
    "FULLBANDFLUXDIR = 'full_band_flux'\n",
    "\n",
    "for PATH in PATHS: BYBAND.pathCheck(PATH)\n",
    "\n",
    "CWD = os.getcwd()"
   ]
  },
  {
   "cell_type": "markdown",
   "metadata": {},
   "source": [
    "# Band Splitting\n",
    "\n",
    "Break up full _k_-distribution file into separate distributions for each band, then calculate the corresponding fluxes. This should only need to be run once.\n",
    "\n",
    "After some clarifications from Robert (30-Nov-2020), I believe the plan of action is:\n",
    "\n",
    "1. Perform _g_-point combination for 1 band at a time\n",
    "2. Combine condensed _k_-distribution for a given band with the full distributions from the rest of the bands\n",
    "3. Run RRTMGP on output from item 2\n",
    "4. Compute cost function for broadband fluxes, not by-band\n",
    "\n",
    "Original Plan of Action:\n",
    "\n",
    "- [] We would create Nbands k-distribution files\n",
    "- [] We’d use Python to drive the Fortran executable Nbands times to produce Nbands flux results\n",
    "- [] The trial g-point combinations then loop over bands and the possible g-point combinations within each band, creating k-distribution and band-wise flux files for each possible combination\n",
    "- [] The Python code assembles broadband fluxes from the band-wise flux files in order to compute the cost functions"
   ]
  },
  {
   "cell_type": "code",
   "execution_count": 4,
   "metadata": {},
   "outputs": [
    {
     "name": "stdout",
     "output_type": "stream",
     "text": [
      "Band splitting commenced\n",
      "Band splitting completed\n"
     ]
    }
   ],
   "source": [
    "if BANDSPLIT:\n",
    "    print('Band splitting commenced')\n",
    "    BYBAND.pathCheck(BANDSPLITDIR, mkdir=True)\n",
    "    BYBAND.pathCheck(FULLBANDFLUXDIR, mkdir=True)\n",
    "    kFiles, fullBandFluxes = [], []\n",
    "    for iBand in range(NBANDS):\n",
    "        # divide full k-distribution into subsets for each band\n",
    "        kObj = BYBAND.kDistOptBand(KFULLNC, REFNC, TESTNC, iBand, DOLW, \n",
    "            IFORCING, 1, \n",
    "            fullBandKDir=BANDSPLITDIR, fullBandFluxDir=FULLBANDFLUXDIR, \n",
    "            cleanup=CLEANUP)\n",
    "        kFiles.append(kObj.kBandNC)\n",
    "        kObj.kDistBand()\n",
    "\n",
    "        # quick, non-parallelized flux calculations (because the \n",
    "        # executable is run in one directory)\n",
    "        kObj.fluxCompute(kObj.kBandNC)\n",
    "        fullBandFluxes.append(kObj.fluxBandNC)\n",
    "    # end band loop\n",
    "    print('Band splitting completed')\n",
    "else:\n",
    "    kFiles = sorted(glob.glob('{}/coefficients_{}_band??.nc'.format(\n",
    "        BANDSPLITDIR, DOMAIN)))\n",
    "    fullBandFluxes = sorted(glob.glob('{}/flux_{}_band??.nc'.format(\n",
    "        FULLBANDFLUXDIR, DOMAIN)))\n",
    "\n",
    "    if len(kFiles) == 0 or len(fullBandFluxes) == 0:\n",
    "        print('WARNING: set `BANDSPLIT` to `True` and run this cell again')\n",
    "# endif BANDSPLIT\n"
   ]
  },
  {
   "cell_type": "markdown",
   "metadata": {},
   "source": [
    "# _g_-Point Combining\n",
    "\n",
    "Loop over bands and combine their respective _g_-points. For each combination in a band, compute fluxes, then concatenate these fluxes with the full-band fluxes from other bands, then compute broadband fluxes and corresponding cost function."
   ]
  },
  {
   "cell_type": "code",
   "execution_count": 5,
   "metadata": {},
   "outputs": [
    {
     "name": "stdout",
     "output_type": "stream",
     "text": [
      "Starting Band 1, iteration 1\n",
      "1+2\n",
      "Starting Band 1, iteration 2\n",
      "1+2\n",
      "Starting Band 1, iteration 3\n",
      "1+2\n",
      "Starting Band 1, iteration 4\n",
      "1+2\n",
      "Starting Band 1, iteration 5\n",
      "1+2\n",
      "Starting Band 1, iteration 6\n",
      "1+2\n",
      "Starting Band 1, iteration 7\n",
      "1+2\n",
      "Starting Band 1, iteration 8\n",
      "1+2\n",
      "Starting Band 1, iteration 9\n",
      "1+2\n",
      "Starting Band 1, iteration 10\n",
      "1+2\n",
      "Starting Band 1, iteration 11\n",
      "1+2\n",
      "Starting Band 1, iteration 12\n",
      "1+2\n",
      "Starting Band 1, iteration 13\n"
     ]
    },
    {
     "ename": "KeyError",
     "evalue": "'flux_up'",
     "output_type": "error",
     "traceback": [
      "\u001b[0;31m---------------------------------------------------------------------------\u001b[0m",
      "\u001b[0;31mKeyError\u001b[0m                                  Traceback (most recent call last)",
      "\u001b[0;32m~/.local/cori/3.7-anaconda-2019.10/lib/python3.7/site-packages/xarray/core/dataset.py\u001b[0m in \u001b[0;36m_construct_dataarray\u001b[0;34m(self, name)\u001b[0m\n\u001b[1;32m   1171\u001b[0m         \u001b[0;32mtry\u001b[0m\u001b[0;34m:\u001b[0m\u001b[0;34m\u001b[0m\u001b[0;34m\u001b[0m\u001b[0m\n\u001b[0;32m-> 1172\u001b[0;31m             \u001b[0mvariable\u001b[0m \u001b[0;34m=\u001b[0m \u001b[0mself\u001b[0m\u001b[0;34m.\u001b[0m\u001b[0m_variables\u001b[0m\u001b[0;34m[\u001b[0m\u001b[0mname\u001b[0m\u001b[0;34m]\u001b[0m\u001b[0;34m\u001b[0m\u001b[0;34m\u001b[0m\u001b[0m\n\u001b[0m\u001b[1;32m   1173\u001b[0m         \u001b[0;32mexcept\u001b[0m \u001b[0mKeyError\u001b[0m\u001b[0;34m:\u001b[0m\u001b[0;34m\u001b[0m\u001b[0;34m\u001b[0m\u001b[0m\n",
      "\u001b[0;31mKeyError\u001b[0m: 'flux_up'",
      "\nDuring handling of the above exception, another exception occurred:\n",
      "\u001b[0;31mKeyError\u001b[0m                                  Traceback (most recent call last)",
      "\u001b[0;32m<ipython-input-5-e6a2e7f4454d>\u001b[0m in \u001b[0;36m<module>\u001b[0;34m\u001b[0m\n\u001b[1;32m     82\u001b[0m     \u001b[0;31m#    cleanup=CLEANUP)\u001b[0m\u001b[0;34m\u001b[0m\u001b[0;34m\u001b[0m\u001b[0;34m\u001b[0m\u001b[0m\n\u001b[1;32m     83\u001b[0m     bandOptimize(kFile, iBand, DOLW, IFORCING, fullBandFluxes, \n\u001b[0;32m---> 84\u001b[0;31m                         cleanup=False)\n\u001b[0m\u001b[1;32m     85\u001b[0m \u001b[0;34m\u001b[0m\u001b[0m\n\u001b[1;32m     86\u001b[0m     \u001b[0mprint\u001b[0m\u001b[0;34m(\u001b[0m\u001b[0;34m'Band {} complete'\u001b[0m\u001b[0;34m.\u001b[0m\u001b[0mformat\u001b[0m\u001b[0;34m(\u001b[0m\u001b[0mband\u001b[0m\u001b[0;34m)\u001b[0m\u001b[0;34m)\u001b[0m\u001b[0;34m\u001b[0m\u001b[0;34m\u001b[0m\u001b[0m\n",
      "\u001b[0;32m<ipython-input-5-e6a2e7f4454d>\u001b[0m in \u001b[0;36mbandOptimize\u001b[0;34m(kBandFile, iBand, doLW, iForce, fluxFiles, cleanup)\u001b[0m\n\u001b[1;32m     37\u001b[0m         \u001b[0mpoolMap\u001b[0m \u001b[0;34m=\u001b[0m \u001b[0mfluxPool\u001b[0m\u001b[0;34m.\u001b[0m\u001b[0mmap\u001b[0m\u001b[0;34m(\u001b[0m\u001b[0mkObj\u001b[0m\u001b[0;34m.\u001b[0m\u001b[0mfluxComputePool\u001b[0m\u001b[0;34m,\u001b[0m \u001b[0mkObj\u001b[0m\u001b[0;34m.\u001b[0m\u001b[0mfluxInputs\u001b[0m\u001b[0;34m)\u001b[0m\u001b[0;34m\u001b[0m\u001b[0;34m\u001b[0m\u001b[0m\n\u001b[1;32m     38\u001b[0m \u001b[0;34m\u001b[0m\u001b[0m\n\u001b[0;32m---> 39\u001b[0;31m         \u001b[0mkObj\u001b[0m\u001b[0;34m.\u001b[0m\u001b[0mfluxCombine\u001b[0m\u001b[0;34m(\u001b[0m\u001b[0;34m)\u001b[0m\u001b[0;34m\u001b[0m\u001b[0;34m\u001b[0m\u001b[0m\n\u001b[0m\u001b[1;32m     40\u001b[0m \u001b[0;34m\u001b[0m\u001b[0m\n\u001b[1;32m     41\u001b[0m         \u001b[0;31m# find normalization factors based on full RRTMGP k-distribution\u001b[0m\u001b[0;34m\u001b[0m\u001b[0;34m\u001b[0m\u001b[0;34m\u001b[0m\u001b[0m\n",
      "\u001b[0;32m/global/u1/p/pernak18/RRTMGP/g-point-reduction/by_band_lib.py\u001b[0m in \u001b[0;36mfluxCombine\u001b[0;34m(self)\u001b[0m\n\u001b[1;32m    612\u001b[0m                 \u001b[0;32mfor\u001b[0m \u001b[0mfluxVar\u001b[0m \u001b[0;32min\u001b[0m \u001b[0mfluxVars\u001b[0m\u001b[0;34m:\u001b[0m\u001b[0;34m\u001b[0m\u001b[0;34m\u001b[0m\u001b[0m\n\u001b[1;32m    613\u001b[0m                     \u001b[0mbandFlux\u001b[0m \u001b[0;34m=\u001b[0m \u001b[0;34m'band_{}'\u001b[0m\u001b[0;34m.\u001b[0m\u001b[0mformat\u001b[0m\u001b[0;34m(\u001b[0m\u001b[0mfluxVar\u001b[0m\u001b[0;34m)\u001b[0m\u001b[0;34m\u001b[0m\u001b[0;34m\u001b[0m\u001b[0m\n\u001b[0;32m--> 614\u001b[0;31m                     \u001b[0mbroadband\u001b[0m \u001b[0;34m=\u001b[0m \u001b[0moutDS\u001b[0m\u001b[0;34m[\u001b[0m\u001b[0mfluxVar\u001b[0m\u001b[0;34m]\u001b[0m\u001b[0;34m.\u001b[0m\u001b[0msum\u001b[0m\u001b[0;34m(\u001b[0m\u001b[0mdim\u001b[0m\u001b[0;34m=\u001b[0m\u001b[0;34m'band'\u001b[0m\u001b[0;34m)\u001b[0m\u001b[0;34m\u001b[0m\u001b[0;34m\u001b[0m\u001b[0m\n\u001b[0m\u001b[1;32m    615\u001b[0m                     \u001b[0moutDS\u001b[0m \u001b[0;34m=\u001b[0m \u001b[0moutDS\u001b[0m\u001b[0;34m.\u001b[0m\u001b[0mrename_vars\u001b[0m\u001b[0;34m(\u001b[0m\u001b[0;34m{\u001b[0m\u001b[0mfluxVar\u001b[0m\u001b[0;34m:\u001b[0m \u001b[0mbandFlux\u001b[0m\u001b[0;34m}\u001b[0m\u001b[0;34m)\u001b[0m\u001b[0;34m\u001b[0m\u001b[0;34m\u001b[0m\u001b[0m\n\u001b[1;32m    616\u001b[0m                     \u001b[0moutDS\u001b[0m\u001b[0;34m[\u001b[0m\u001b[0mfluxVar\u001b[0m\u001b[0;34m]\u001b[0m \u001b[0;34m=\u001b[0m \u001b[0mxa\u001b[0m\u001b[0;34m.\u001b[0m\u001b[0mDataArray\u001b[0m\u001b[0;34m(\u001b[0m\u001b[0mbroadband\u001b[0m\u001b[0;34m)\u001b[0m\u001b[0;34m\u001b[0m\u001b[0;34m\u001b[0m\u001b[0m\n",
      "\u001b[0;32m~/.local/cori/3.7-anaconda-2019.10/lib/python3.7/site-packages/xarray/core/dataset.py\u001b[0m in \u001b[0;36m__getitem__\u001b[0;34m(self, key)\u001b[0m\n\u001b[1;32m   1270\u001b[0m \u001b[0;34m\u001b[0m\u001b[0m\n\u001b[1;32m   1271\u001b[0m         \u001b[0;32mif\u001b[0m \u001b[0mhashable\u001b[0m\u001b[0;34m(\u001b[0m\u001b[0mkey\u001b[0m\u001b[0;34m)\u001b[0m\u001b[0;34m:\u001b[0m\u001b[0;34m\u001b[0m\u001b[0;34m\u001b[0m\u001b[0m\n\u001b[0;32m-> 1272\u001b[0;31m             \u001b[0;32mreturn\u001b[0m \u001b[0mself\u001b[0m\u001b[0;34m.\u001b[0m\u001b[0m_construct_dataarray\u001b[0m\u001b[0;34m(\u001b[0m\u001b[0mkey\u001b[0m\u001b[0;34m)\u001b[0m\u001b[0;34m\u001b[0m\u001b[0;34m\u001b[0m\u001b[0m\n\u001b[0m\u001b[1;32m   1273\u001b[0m         \u001b[0;32melse\u001b[0m\u001b[0;34m:\u001b[0m\u001b[0;34m\u001b[0m\u001b[0;34m\u001b[0m\u001b[0m\n\u001b[1;32m   1274\u001b[0m             \u001b[0;32mreturn\u001b[0m \u001b[0mself\u001b[0m\u001b[0;34m.\u001b[0m\u001b[0m_copy_listed\u001b[0m\u001b[0;34m(\u001b[0m\u001b[0mnp\u001b[0m\u001b[0;34m.\u001b[0m\u001b[0masarray\u001b[0m\u001b[0;34m(\u001b[0m\u001b[0mkey\u001b[0m\u001b[0;34m)\u001b[0m\u001b[0;34m)\u001b[0m\u001b[0;34m\u001b[0m\u001b[0;34m\u001b[0m\u001b[0m\n",
      "\u001b[0;32m~/.local/cori/3.7-anaconda-2019.10/lib/python3.7/site-packages/xarray/core/dataset.py\u001b[0m in \u001b[0;36m_construct_dataarray\u001b[0;34m(self, name)\u001b[0m\n\u001b[1;32m   1173\u001b[0m         \u001b[0;32mexcept\u001b[0m \u001b[0mKeyError\u001b[0m\u001b[0;34m:\u001b[0m\u001b[0;34m\u001b[0m\u001b[0;34m\u001b[0m\u001b[0m\n\u001b[1;32m   1174\u001b[0m             _, name, variable = _get_virtual_variable(\n\u001b[0;32m-> 1175\u001b[0;31m                 \u001b[0mself\u001b[0m\u001b[0;34m.\u001b[0m\u001b[0m_variables\u001b[0m\u001b[0;34m,\u001b[0m \u001b[0mname\u001b[0m\u001b[0;34m,\u001b[0m \u001b[0mself\u001b[0m\u001b[0;34m.\u001b[0m\u001b[0m_level_coords\u001b[0m\u001b[0;34m,\u001b[0m \u001b[0mself\u001b[0m\u001b[0;34m.\u001b[0m\u001b[0mdims\u001b[0m\u001b[0;34m\u001b[0m\u001b[0;34m\u001b[0m\u001b[0m\n\u001b[0m\u001b[1;32m   1176\u001b[0m             )\n\u001b[1;32m   1177\u001b[0m \u001b[0;34m\u001b[0m\u001b[0m\n",
      "\u001b[0;32m~/.local/cori/3.7-anaconda-2019.10/lib/python3.7/site-packages/xarray/core/dataset.py\u001b[0m in \u001b[0;36m_get_virtual_variable\u001b[0;34m(variables, key, level_vars, dim_sizes)\u001b[0m\n\u001b[1;32m    169\u001b[0m         \u001b[0mref_var\u001b[0m \u001b[0;34m=\u001b[0m \u001b[0mdim_var\u001b[0m\u001b[0;34m.\u001b[0m\u001b[0mto_index_variable\u001b[0m\u001b[0;34m(\u001b[0m\u001b[0;34m)\u001b[0m\u001b[0;34m.\u001b[0m\u001b[0mget_level_variable\u001b[0m\u001b[0;34m(\u001b[0m\u001b[0mref_name\u001b[0m\u001b[0;34m)\u001b[0m\u001b[0;34m\u001b[0m\u001b[0;34m\u001b[0m\u001b[0m\n\u001b[1;32m    170\u001b[0m     \u001b[0;32melse\u001b[0m\u001b[0;34m:\u001b[0m\u001b[0;34m\u001b[0m\u001b[0;34m\u001b[0m\u001b[0m\n\u001b[0;32m--> 171\u001b[0;31m         \u001b[0mref_var\u001b[0m \u001b[0;34m=\u001b[0m \u001b[0mvariables\u001b[0m\u001b[0;34m[\u001b[0m\u001b[0mref_name\u001b[0m\u001b[0;34m]\u001b[0m\u001b[0;34m\u001b[0m\u001b[0;34m\u001b[0m\u001b[0m\n\u001b[0m\u001b[1;32m    172\u001b[0m \u001b[0;34m\u001b[0m\u001b[0m\n\u001b[1;32m    173\u001b[0m     \u001b[0;32mif\u001b[0m \u001b[0mvar_name\u001b[0m \u001b[0;32mis\u001b[0m \u001b[0;32mNone\u001b[0m\u001b[0;34m:\u001b[0m\u001b[0;34m\u001b[0m\u001b[0;34m\u001b[0m\u001b[0m\n",
      "\u001b[0;31mKeyError\u001b[0m: 'flux_up'"
     ]
    }
   ],
   "source": [
    "def bandOptimize(kBandFile, iBand, doLW, iForce, fluxFiles, cleanup=False):\n",
    "    \"\"\"\n",
    "    needs a lot of work -- just spitballin\n",
    "\n",
    "    single-band optimization, to be combined with broadband fluxes \n",
    "    from other bands before cost function optimization \n",
    "    \"\"\"\n",
    "\n",
    "    band = iBand + 1\n",
    "    iterBand = 1\n",
    "    while True:\n",
    "        print('Starting Band {}, iteration {}'.format(band, iterBand))\n",
    "        # start with `kFile` with no g-point combinations for a given band\n",
    "        kObj = BYBAND.kDistOptBand(kBandFile, REFNC, TESTNC, \n",
    "            iBand, doLW, iForce, iterBand, \n",
    "            fullBandKDir=BANDSPLITDIR, fullBandFluxDir=FULLBANDFLUXDIR, \n",
    "            costFuncComp=['flux_net', 'band_flux_net'], \n",
    "            cleanup=CLEANUP)\n",
    "\n",
    "        # combine g-points in band and generate corresponding netCDF\n",
    "        kObj.gPointCombine()\n",
    "\n",
    "        # if there are not enough g-points to combine, stop iterating\n",
    "        if kObj.nGpt == 1: break\n",
    "\n",
    "        # run RRTMGP on all files self.trialNC (each g-point combination)\n",
    "        # generate input dictionaries for fluxComputePool()\n",
    "        kObj.configParallel()\n",
    "\n",
    "        # replace `kFile` with netCDF that corresponds to g-point combination\n",
    "        # that minimizes the cost function\n",
    "        kBandFile = kObj.trialNC[0]\n",
    "\n",
    "        # calculate fluxes corresponding to every g-point combination\n",
    "        # break out of kDistOptBand object for \n",
    "        fluxPool = Pool(kObj.nGpt)\n",
    "        poolMap = fluxPool.map(kObj.fluxComputePool, kObj.fluxInputs)\n",
    "\n",
    "        kObj.fluxCombine()\n",
    "\n",
    "        # find normalization factors based on full RRTMGP k-distribution \n",
    "        # and LBLRTM fluxes\n",
    "        kObj.costFuncComp(kObj.rrtmgpDS)\n",
    "        for trialDS in kObj.trialDS:\n",
    "            # now calculate normalized cost for each trial\n",
    "            # TO DO: NOT NORMALIZING YET BECAUSE ERRORS WERE 0\n",
    "            kObj.costFuncComp(trialDS)\n",
    "        # end trial loop\n",
    "\n",
    "        # determine optimal combination\n",
    "        kObj.findOptimal(kObj.iCombine)\n",
    "\n",
    "        # keep a copy of the optimal netCDF\n",
    "        shutil.copy2(kObj.optNC, '{}/{}'.format(\n",
    "            kObj.optDir, os.path.basename(kObj.optNC)))\n",
    "        \n",
    "        # replace `kFile` with netCDF that corresponds to g-point combination\n",
    "        # that minimizes the cost function\n",
    "        kBandFile = kObj.optNC\n",
    "        \n",
    "        # REASSIGN everything in constructor that is expected to change!\n",
    "\n",
    "        # next iteration\n",
    "        iterBand += 1\n",
    "    # end while\n",
    "\n",
    "    # cleanup\n",
    "    if cleanup: shutil.rmtree(kObj.workDir)\n",
    "# end bandOptimize\n",
    "\n",
    "# leave `bands` empty if all bands should be processed\n",
    "bands = [1]\n",
    "if not bands: bands = range(1, NBANDS+1)\n",
    "\n",
    "# loop over bands and instantiate a band optimization object\n",
    "# optimizing each band\n",
    "for iBand, kFile in enumerate(kFiles):\n",
    "    band = iBand + 1\n",
    "    if band not in bands: continue\n",
    "\n",
    "    #kObj = BYBAND.kDistOptBand(kFile, iBand, DOLW, IFORCING, 1, \n",
    "    #    fullBandKDir=BANDSPLITDIR, fullBandFluxDir=FULLBANDFLUXDIR, \n",
    "    #    cleanup=CLEANUP)\n",
    "    bandOptimize(kFile, iBand, DOLW, IFORCING, fullBandFluxes, \n",
    "                        cleanup=False)\n",
    "\n",
    "    print('Band {} complete'.format(band))\n",
    "# end kFile loop\n"
   ]
  },
  {
   "cell_type": "code",
   "execution_count": null,
   "metadata": {},
   "outputs": [],
   "source": []
  }
 ],
 "metadata": {
  "kernelspec": {
   "display_name": "Python 3",
   "language": "python",
   "name": "python3"
  },
  "language_info": {
   "codemirror_mode": {
    "name": "ipython",
    "version": 3
   },
   "file_extension": ".py",
   "mimetype": "text/x-python",
   "name": "python",
   "nbconvert_exporter": "python",
   "pygments_lexer": "ipython3",
   "version": "3.7.4"
  }
 },
 "nbformat": 4,
 "nbformat_minor": 4
}
