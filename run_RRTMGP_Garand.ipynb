{
 "cells": [
  {
   "cell_type": "markdown",
   "metadata": {},
   "source": [
    "# Running RRTMGP on Garand Atmospheres"
   ]
  },
  {
   "cell_type": "markdown",
   "metadata": {},
   "source": [
    "## Import Libraries and Modules"
   ]
  },
  {
   "cell_type": "code",
   "execution_count": null,
   "metadata": {},
   "outputs": [],
   "source": [
    "import os, sys, shutil\n",
    "import subprocess as sub\n",
    "import netCDF4 as nc\n",
    "import numpy as np\n",
    "\n",
    "sys.path.append('common')\n",
    "import utils"
   ]
  },
  {
   "cell_type": "markdown",
   "metadata": {},
   "source": [
    "## Running the Model on Garand Atmospheres\n",
    "\n",
    "1. Set some runtime variables that tell us about our configuration -- what spectral domain are we plotting, what cost function and normalization technique are we using, what _g_-points are we combining (only adjacent _g_-points are combined in a given iteration, so only the first _g_-point needs to be assigned)\n",
    "2. Grab corresponding _k_-distribution file (provided by Menno and stored in Rick's scratch space) and stage it for RRTMGP\n",
    "3. Link to the RRTMGP driver for Garand atmospheres (stored in E3SM project space)\n",
    "4. Copy the LBLRTM reference netCDF into the working directory (its gas optics parameters will be used in the model). Also, apparently Menno and I have been modeling with a non-optimized diffusivity angle. One angle is used in RRMTGP, but for this exercise we should be using the 3 from Gaussian Quadrature. So we have to replace the `angle` parameter before running RRTMGP.\n",
    "5. Use items 2 and 4 as input into the driver and run the it. Fluxes and heating rate variables in 4 will be overwritten."
   ]
  },
  {
   "cell_type": "code",
   "execution_count": null,
   "metadata": {},
   "outputs": [],
   "source": [
    "sw = False\n",
    "iCost = 1\n",
    "iNorm = 1\n",
    "iteration = 0\n",
    "gpt1 = 0\n",
    "\n",
    "domain = 'sw' if sw else 'lw'\n",
    "costStr = '{}.cost{:02d}.norm{:1d}'.format(domain, iCost, iNorm)\n",
    "scratch = '/global/cscratch1/sd/pernak18/RRTMGP/g-point-reduction/data'\n",
    "project = '/project/projectdirs/e3sm/pernak18/g-point-reduction/k-distribution-opt'\n",
    "coeffNC = '{}/{}/coefficients_iter{:03d}.{:03d}.{:03d}.nc'.format(\n",
    "    scratch, costStr, iteration, gpt1, gpt1+1)\n",
    "\n",
    "exe = '{}/rrtmgp_garand_atmos'.format(project)\n",
    "\n",
    "paths = [coeffNC, exe]\n",
    "\n",
    "# link to k-distribution for this iteration/g-point combination\n",
    "kDistNC = 'coefficients_{}.nc'.format(domain)\n",
    "if os.path.islink(kDistNC): os.unlink(kDistNC)\n",
    "os.symlink(coeffNC, kDistNC)\n",
    "\n",
    "# copy LBLRTM reference netCDF with Garand specs\n",
    "# 'test_RRTMGP_fluxes.nc' will be overwritten if it already exists\n",
    "garandNC = '/project/projectdirs/e3sm/pernak18/inputs/g-point-reduce/' + \\\n",
    "    'lblrtm-lw-flux-inputs-outputs-garandANDpreind.nc'\n",
    "outNC = 'test_RRTMGP_fluxes.nc'\n",
    "shutil.copyfile(garandNC, outNC)\n",
    "\n",
    "# link to Garand atmosphere driver for RRTMGP\n",
    "baseExe = os.path.basename(exe)\n",
    "if os.path.islink(baseExe): os.unlink(baseExe)\n",
    "os.symlink(exe, baseExe)\n",
    "\n",
    "# run RRTMGP on Garand atmospheres and provide full path to output file\n",
    "status = sub.call(['./{}'.format(baseExe), outNC, kDistNC])\n",
    "if status == 0: print('RRTMGP fluxes have been written to {}'.format(\n",
    "    os.path.abspath(outNC)))"
   ]
  },
  {
   "cell_type": "markdown",
   "metadata": {},
   "source": [
    "The new flux file can be used in `LW_profile_stats_plots.ipynb`"
   ]
  },
  {
   "cell_type": "markdown",
   "metadata": {},
   "source": [
    "## Heating Rates\n",
    "\n",
    "Heating rates are not calculated in RRTMGP, so we will calculate them here and store them in the netCDF file we just modified with the RRTMGP Garand driver run.\n",
    "\n",
    "What I have found is that:\n",
    "\n",
    "  - the broadband HRs for LBL and RRTMGP match pretty well, but they are not identical\n",
    "  - by-band HRs do not match well (the 30-40% differences we see in the profile plots)\n",
    "  - broadband HRs in the profile plots look as bad as the by-band HRs, but that's because we do not use the broadband arrays in the netCDF; rather, we integrate the by-band HRs band plot these as broadband\n",
    "\n",
    "So I should just replace the by-band heating rates, and comparing their sum with the \"original\" RRTMGP broadband would be a good form of verification."
   ]
  },
  {
   "cell_type": "code",
   "execution_count": null,
   "metadata": {},
   "outputs": [],
   "source": [
    "bandNet = 'band_flux_net'\n",
    "broadNet = 'flux_net'\n",
    "with nc.Dataset(garandNC, 'r') as refNC, nc.Dataset(outNC, 'r') as testNC:\n",
    "    netBandLBL = np.array(refNC.variables[bandNet])\n",
    "    netBandGP = np.array(testNC.variables[bandNet])\n",
    "    refHR = np.array(refNC.variables['band_heating_rate'])\n",
    "    testHR = np.array(testNC.variables['band_heating_rate'])\n",
    "\n",
    "    # pressures should be the same for LBL and RRTMGP\n",
    "    pLev = np.array(refNC.variables['p_lev']) / 100\n",
    "\n",
    "# deltas along the `lev` axis\n",
    "iLev = 1\n",
    "\n",
    "# for easier arithmetic, make the dP array the same dimension as \n",
    "# the dNet arrays, repeating the dP 3-D array nBand times\n",
    "dP = -np.diff(pLev, axis=iLev)\n",
    "dP = dP[:, :, :, np.newaxis]\n",
    "dP = np.repeat(dP, 16, axis=3)\n",
    "\n",
    "hrBandLBL = 8.4391 * np.diff(netBandLBL, axis=iLev) / dP\n",
    "hrBandGP = 8.4391 * np.diff(netBandGP, axis=iLev) / dP\n",
    "\n",
    "# sanity checks\n",
    "#diff = hrBandLBL-hrBandGP\n",
    "#print(hrBandLBL[0,:,0,3])\n",
    "#print(refHR[0,:,0,3]*86400)\n",
    "#print(hrBandLBL[0,:,0,3])\n",
    "#print(hrBandGP[0,:,1,3])\n",
    "#print(diff[0,:,0,3])\n",
    "\n",
    "# replace by-band heating rates in RRTMGP netCDF\n",
    "# want it back in K/day to be consistent with what plotting scripts expect\n",
    "with nc.Dataset(outNC, 'r+') as testNC:\n",
    "    hr = testNC.variables['band_heating_rate']\n",
    "    hr[:] = hrBandGP / 86400\n",
    "\n",
    "print('`band_heating_rate` replaced in {}'.format(outNC))"
   ]
  },
  {
   "cell_type": "code",
   "execution_count": null,
   "metadata": {},
   "outputs": [],
   "source": []
  }
 ],
 "metadata": {
  "kernelspec": {
   "display_name": "Python 3",
   "language": "python",
   "name": "python3"
  },
  "language_info": {
   "codemirror_mode": {
    "name": "ipython",
    "version": 3
   },
   "file_extension": ".py",
   "mimetype": "text/x-python",
   "name": "python",
   "nbconvert_exporter": "python",
   "pygments_lexer": "ipython3",
   "version": "3.7.4"
  }
 },
 "nbformat": 4,
 "nbformat_minor": 4
}
