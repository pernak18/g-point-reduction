{
 "cells": [
  {
   "cell_type": "markdown",
   "metadata": {},
   "source": [
    "# Running RRTMGP on Garand Atmospheres"
   ]
  },
  {
   "cell_type": "markdown",
   "metadata": {},
   "source": [
    "## File Staging"
   ]
  },
  {
   "cell_type": "code",
   "execution_count": 7,
   "metadata": {},
   "outputs": [],
   "source": [
    "import os, sys, shutil\n",
    "import subprocess as sub\n",
    "\n",
    "sys.path.append('common')\n",
    "import utils"
   ]
  },
  {
   "cell_type": "code",
   "execution_count": 13,
   "metadata": {},
   "outputs": [
    {
     "name": "stdout",
     "output_type": "stream",
     "text": [
      "RRTMGP fluxes have been written to test_RRTMGP_fluxes.nc\n"
     ]
    }
   ],
   "source": [
    "sw = False\n",
    "iCost = 1\n",
    "iNorm = 1\n",
    "iteration = 1\n",
    "gpt1 = 54\n",
    "\n",
    "domain = 'sw' if sw else 'lw'\n",
    "costStr = '{}.cost{:02d}.norm{:1d}'.format(domain, iCost, iNorm)\n",
    "pScratch = '/global/cscratch1/sd/pernak18/RRTMGP/g-point-reduction/data'\n",
    "project = '/project/projectdirs/e3sm/pernak18/g-point-reduction/k-distribution-opt'\n",
    "coeffNC = '{}/{}/coefficients_iter{:03d}.{:03d}.{:03d}.nc'.format(\n",
    "    pScratch, costStr, iteration, gpt1, gpt1+1)\n",
    "\n",
    "exe = '{}/rrtmgp_garand_atmos'.format(project)\n",
    "\n",
    "paths = [coeffNC, exe]\n",
    "\n",
    "# link to k-distribution for this iteration/g-point combination\n",
    "kDistNC = 'coefficients_{}.nc'.format(domain)\n",
    "if os.path.islink(kDistNC): os.unlink(kDistNC)\n",
    "os.symlink(coeffNC, kDistNC)\n",
    "\n",
    "# copy LBLRTM reference netCDF with Garand specs\n",
    "# 'test_RRTMGP_fluxes.nc' will be overwritten if it already exists\n",
    "garandNC = '/project/projectdirs/e3sm/pernak18/inputs/g-point-reduce/' + \\\n",
    "    'lblrtm-lw-flux-inputs-outputs-garandANDpreind.nc'\n",
    "outNC = 'test_RRTMGP_fluxes.nc'\n",
    "shutil.copyfile(garandNC, outNC)\n",
    "\n",
    "# link to Garand atmosphere driver for RRTMGP\n",
    "baseExe = os.path.basename(exe)\n",
    "if os.path.islink(baseExe): os.unlink(baseExe)\n",
    "os.symlink(exe, baseExe)\n",
    "\n",
    "status = sub.call(['./{}'.format(baseExe), garandNC, kDistNC])\n",
    "if status == 0: print('RRTMGP fluxes have been written to {}'.format(\n",
    "    os.path.abspath(outNC)))"
   ]
  },
  {
   "cell_type": "code",
   "execution_count": null,
   "metadata": {},
   "outputs": [],
   "source": []
  }
 ],
 "metadata": {
  "kernelspec": {
   "display_name": "Python 3",
   "language": "python",
   "name": "python3"
  },
  "language_info": {
   "codemirror_mode": {
    "name": "ipython",
    "version": 3
   },
   "file_extension": ".py",
   "mimetype": "text/x-python",
   "name": "python",
   "nbconvert_exporter": "python",
   "pygments_lexer": "ipython3",
   "version": "3.7.4"
  }
 },
 "nbformat": 4,
 "nbformat_minor": 4
}
