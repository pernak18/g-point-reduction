{
 "cells": [
  {
   "cell_type": "markdown",
   "metadata": {},
   "source": [
    "# Running RRTMGP on Garand Atmospheres"
   ]
  },
  {
   "cell_type": "markdown",
   "metadata": {},
   "source": [
    "## Import Libraries and Modules"
   ]
  },
  {
   "cell_type": "code",
   "execution_count": 22,
   "metadata": {},
   "outputs": [],
   "source": [
    "import os, sys, shutil\n",
    "import subprocess as sub\n",
    "import netCDF4 as nc\n",
    "import numpy as np\n",
    "\n",
    "sys.path.append('common')\n",
    "import utils"
   ]
  },
  {
   "cell_type": "markdown",
   "metadata": {},
   "source": [
    "## Running the Model on Garand Atmospheres\n",
    "\n",
    "1. Set some runtime variables that tell us about our configuration -- what spectral domain are we plotting, what cost function and normalization technique are we using, what _g_-points are we combining (only adjacent _g_-points are combined in a given iteration, so only the first _g_-point needs to be assigned)\n",
    "2. Grab corresponding _k_-distribution file (provided by Menno and stored in Rick's scratch space) and stage it for RRTMGP\n",
    "3. Link to the RRTMGP driver for Garand atmospheres (stored in E3SM project space)\n",
    "4. Copy the LBLRTM reference netCDF into the working directory (gas optics parameters will be used in the model)\n",
    "5. Use items 2 and 4 as input into the driver and run the it. Fluxes and heating rate variables in 4 will be overwritten."
   ]
  },
  {
   "cell_type": "code",
   "execution_count": 18,
   "metadata": {},
   "outputs": [
    {
     "name": "stdout",
     "output_type": "stream",
     "text": [
      "RRTMGP fluxes have been written to /global/u1/p/pernak18/RRTMGP/g-point-reduction/test_RRTMGP_fluxes.nc\n"
     ]
    }
   ],
   "source": [
    "sw = False\n",
    "iCost = 1\n",
    "iNorm = 1\n",
    "iteration = 1\n",
    "gpt1 = 54\n",
    "\n",
    "domain = 'sw' if sw else 'lw'\n",
    "costStr = '{}.cost{:02d}.norm{:1d}'.format(domain, iCost, iNorm)\n",
    "scratch = '/global/cscratch1/sd/pernak18/RRTMGP/g-point-reduction/data'\n",
    "project = '/project/projectdirs/e3sm/pernak18/g-point-reduction/k-distribution-opt'\n",
    "coeffNC = '{}/{}/coefficients_iter{:03d}.{:03d}.{:03d}.nc'.format(\n",
    "    scratch, costStr, iteration, gpt1, gpt1+1)\n",
    "\n",
    "exe = '{}/rrtmgp_garand_atmos'.format(project)\n",
    "\n",
    "paths = [coeffNC, exe]\n",
    "\n",
    "# link to k-distribution for this iteration/g-point combination\n",
    "kDistNC = 'coefficients_{}.nc'.format(domain)\n",
    "if os.path.islink(kDistNC): os.unlink(kDistNC)\n",
    "os.symlink(coeffNC, kDistNC)\n",
    "\n",
    "# copy LBLRTM reference netCDF with Garand specs\n",
    "# 'test_RRTMGP_fluxes.nc' will be overwritten if it already exists\n",
    "garandNC = '/project/projectdirs/e3sm/pernak18/inputs/g-point-reduce/' + \\\n",
    "    'lblrtm-lw-flux-inputs-outputs-garandANDpreind.nc'\n",
    "outNC = 'test_RRTMGP_fluxes.nc'\n",
    "shutil.copyfile(garandNC, outNC)\n",
    "\n",
    "# link to Garand atmosphere driver for RRTMGP\n",
    "baseExe = os.path.basename(exe)\n",
    "if os.path.islink(baseExe): os.unlink(baseExe)\n",
    "os.symlink(exe, baseExe)\n",
    "\n",
    "status = sub.call(['./{}'.format(baseExe), outNC, kDistNC])\n",
    "if status == 0: print('RRTMGP fluxes have been written to {}'.format(\n",
    "    os.path.abspath(outNC)))"
   ]
  },
  {
   "cell_type": "markdown",
   "metadata": {},
   "source": [
    "The new flux file can be used in `LW_profile_stats_plots.ipynb`"
   ]
  },
  {
   "cell_type": "markdown",
   "metadata": {},
   "source": [
    "## Heating Rates\n",
    "\n",
    "Heating rates are not calculated in RRTMGP, so we will calculate them here and store them in the netCDF file we just modified with the RRTMGP Garand driver run."
   ]
  },
  {
   "cell_type": "code",
   "execution_count": 33,
   "metadata": {},
   "outputs": [
    {
     "ename": "ValueError",
     "evalue": "operands could not be broadcast together with shapes (7,42,42,16) (7,42,42) ",
     "output_type": "error",
     "traceback": [
      "\u001b[0;31m---------------------------------------------------------------------------\u001b[0m",
      "\u001b[0;31mValueError\u001b[0m                                Traceback (most recent call last)",
      "\u001b[0;32m<ipython-input-33-096c19c57979>\u001b[0m in \u001b[0;36m<module>\u001b[0;34m\u001b[0m\n\u001b[1;32m     18\u001b[0m \u001b[0mhrBroadGP\u001b[0m \u001b[0;34m=\u001b[0m \u001b[0mnp\u001b[0m\u001b[0;34m.\u001b[0m\u001b[0mdiff\u001b[0m\u001b[0;34m(\u001b[0m\u001b[0mnetBroadGP\u001b[0m\u001b[0;34m,\u001b[0m \u001b[0maxis\u001b[0m\u001b[0;34m=\u001b[0m\u001b[0miLev\u001b[0m\u001b[0;34m)\u001b[0m\u001b[0;34m\u001b[0m\u001b[0;34m\u001b[0m\u001b[0m\n\u001b[1;32m     19\u001b[0m \u001b[0;34m\u001b[0m\u001b[0m\n\u001b[0;32m---> 20\u001b[0;31m \u001b[0mprint\u001b[0m\u001b[0;34m(\u001b[0m\u001b[0;34m(\u001b[0m\u001b[0mhrBandLBL\u001b[0m\u001b[0;34m/\u001b[0m\u001b[0mdP\u001b[0m\u001b[0;34m*\u001b[0m\u001b[0;36m86400\u001b[0m\u001b[0;34m)\u001b[0m\u001b[0;34m[\u001b[0m\u001b[0;36m0\u001b[0m\u001b[0;34m,\u001b[0m \u001b[0;34m:\u001b[0m\u001b[0;34m,\u001b[0m \u001b[0;36m0\u001b[0m\u001b[0;34m,\u001b[0m \u001b[0;36m3\u001b[0m\u001b[0;34m]\u001b[0m\u001b[0;34m)\u001b[0m\u001b[0;34m\u001b[0m\u001b[0;34m\u001b[0m\u001b[0m\n\u001b[0m\u001b[1;32m     21\u001b[0m \u001b[0mprint\u001b[0m\u001b[0;34m(\u001b[0m\u001b[0;34m(\u001b[0m\u001b[0mhrBandGP\u001b[0m\u001b[0;34m/\u001b[0m\u001b[0mdP\u001b[0m\u001b[0;34m*\u001b[0m\u001b[0;36m86400\u001b[0m\u001b[0;34m)\u001b[0m\u001b[0;34m[\u001b[0m\u001b[0;36m0\u001b[0m\u001b[0;34m,\u001b[0m \u001b[0;34m:\u001b[0m\u001b[0;34m,\u001b[0m \u001b[0;36m0\u001b[0m\u001b[0;34m,\u001b[0m \u001b[0;36m3\u001b[0m\u001b[0;34m]\u001b[0m\u001b[0;34m)\u001b[0m\u001b[0;34m\u001b[0m\u001b[0;34m\u001b[0m\u001b[0m\n",
      "\u001b[0;31mValueError\u001b[0m: operands could not be broadcast together with shapes (7,42,42,16) (7,42,42) "
     ]
    }
   ],
   "source": [
    "bandNet = 'band_flux_net'\n",
    "broadNet = 'flux_net'\n",
    "with nc.Dataset(garandNC, 'r') as refNC, nc.Dataset(outNC, 'r') as testNC:\n",
    "    netBandLBL = np.array(refNC.variables[bandNet])\n",
    "    netBroadLBL = np.array(refNC.variables[broadNet])\n",
    "    netBandGP = np.array(testNC.variables[bandNet])\n",
    "    netBroadGP = np.array(testNC.variables[broadNet])\n",
    "\n",
    "    # pressures should be the same for LBL and RRTMGP\n",
    "    pLev = np.array(refNC.variables['p_lev'])\n",
    "\n",
    "# deltas along the `lev` axis\n",
    "iLev = 1\n",
    "dP = np.diff(pLev, axis=iLev)\n",
    "hrBandLBL = np.diff(netBandLBL, axis=iLev)\n",
    "hrBroadLBL = np.diff(netBroadLBL, axis=iLev)\n",
    "hrBandGP = np.diff(netBandGP, axis=iLev)\n",
    "hrBroadGP = np.diff(netBroadGP, axis=iLev)\n",
    "\n",
    "#print((hrBandLBL/dP*86400)[0, :, 0, 3])\n",
    "#print((hrBandGP/dP*86400)[0, :, 0, 3])\n"
   ]
  },
  {
   "cell_type": "code",
   "execution_count": null,
   "metadata": {},
   "outputs": [],
   "source": []
  }
 ],
 "metadata": {
  "kernelspec": {
   "display_name": "Python 3",
   "language": "python",
   "name": "python3"
  },
  "language_info": {
   "codemirror_mode": {
    "name": "ipython",
    "version": 3
   },
   "file_extension": ".py",
   "mimetype": "text/x-python",
   "name": "python",
   "nbconvert_exporter": "python",
   "pygments_lexer": "ipython3",
   "version": "3.7.4"
  }
 },
 "nbformat": 4,
 "nbformat_minor": 4
}
