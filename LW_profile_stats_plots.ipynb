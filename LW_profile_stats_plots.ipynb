{
 "cells": [
  {
   "cell_type": "markdown",
   "metadata": {},
   "source": [
    "# LW Profile and Statistics Plots for RRTMGP Band Generation"
   ]
  },
  {
   "cell_type": "markdown",
   "metadata": {},
   "source": [
    "## Necessary Libraries"
   ]
  },
  {
   "cell_type": "code",
   "execution_count": null,
   "metadata": {},
   "outputs": [],
   "source": [
    "# standard libraries\n",
    "import os, sys\n",
    "import datetime as DT\n",
    "\n",
    "# pip install\n",
    "import numpy as np\n",
    "import matplotlib.pyplot as plot\n",
    "from matplotlib import rc\n",
    "import matplotlib.font_manager as font\n",
    "import netCDF4 as nc\n",
    "import time # for process_timeing processes\n",
    "\n",
    "# for multi-page PDF files\n",
    "from matplotlib.backends.backend_pdf import PdfPages\n",
    "\n",
    "# Pernak Python module\n",
    "LIBPATHS = ['common', 'RRTMGP-profile-stats-plots']\n",
    "for path in LIBPATHS: sys.path.append(path)\n",
    "import utils\n",
    "from LBLRTM_RRTMGP_compare import *"
   ]
  },
  {
   "cell_type": "markdown",
   "metadata": {},
   "source": [
    "## Global Variables\n",
    "\n",
    "These variables will likely not to be changed for various runs of the `main()` code. So after this cell is run once, it will probably not need to be run again."
   ]
  },
  {
   "cell_type": "code",
   "execution_count": null,
   "metadata": {},
   "outputs": [],
   "source": [
    "# this changes with netCDF template version -- \n",
    "# older versions use 'band_wavenumbers', newer ones use 'band_lims_wvn'\n",
    "# indexing for these arrays may also be reversed depending on version\n",
    "BWVN = 'band_lims_wvn'\n",
    "\n",
    "# default attributes to extract from input netCDFs\n",
    "DEFATTR = ['dimensions', BWVN, 'emis_sfc', 'p_lay', \\\n",
    "  'p_lev', 't_lay', 't_lev', 't_sfc', 'vmr_h2o', 'vmr_co2', \\\n",
    "  'vmr_o3', 'vmr_ch4', 'vmr_co', 'vmr_n2o', 'vmr_o2', 'vmr_n2']\n",
    "\n",
    "# trial and error spacing for subplots\n",
    "HSPACE = 0.5\n",
    "\n",
    "# forcing scenario; dimension 1 in RRTMGP netCDFs\n",
    "IRECORD = 0"
   ]
  },
  {
   "cell_type": "markdown",
   "metadata": {},
   "source": [
    "## main()"
   ]
  },
  {
   "cell_type": "markdown",
   "metadata": {},
   "source": [
    "### Runtime Variables\n",
    "\n",
    "These are variables that will likely need to be reassigned depending on the analysis to be done. We are using the default [plotting](https://github.com/AER-RC/RRTMGP-profile-stats-plots/blob/master/LBLRTM_RRTMGP_config.ini) [configurations](https://github.com/AER-RC/RRTMGP-profile-stats-plots/blob/master/LBLRTM_RRTMGP_compare.py#L1011) as the template for what inputs are passed to the plotting cell. If any of these variables are changed, this code cell will need to be re-run."
   ]
  },
  {
   "cell_type": "code",
   "execution_count": null,
   "metadata": {},
   "outputs": [],
   "source": [
    "# paths to temporary testing files\n",
    "PROJECT = '/project/projectdirs/e3sm/pernak18/reference_netCDF'\n",
    "\n",
    "# input files; NOTE: NO FORCING HAS BEEN IMPLEMENTED IN THIS NOTEBOOK\n",
    "# reference LBL file will likely not change; test RRTMGP file will point \n",
    "# to netCDFs written with g-point-reduction Notebook\n",
    "refDir = '{}/g-point-reduce'.format(PROJECT)\n",
    "testDir = '{}/profile-stats-plots'.format(PROJECT)\n",
    "refFile = '{}/lblrtm-lw-flux-inputs-outputs-garandANDpreind.nc'.format(refDir)\n",
    "testFile = '{}/rrtmgp-lw-flux-inputs-outputs-garand-all.nc'.format(testDir) # reference 256-g-point RRTMGP\n",
    "testFile = '/global/homes/p/pernak18/RRTMGP/g-point-reduction/optimized_fluxes_iter001.nc' # g-point combining solution\n",
    "\n",
    "# make sure paths exist\n",
    "paths = [refFile, testFile]\n",
    "for path in paths: utils.file_check(path)\n",
    "\n",
    "# plotting parameters\n",
    "plot_profiles = True\n",
    "plot_stats = True\n",
    "xt = 'LBLRTM'\n",
    "yt = 'RRTMGP-LBLRTM'\n",
    "aType = 'Garand'\n",
    "log_y = False\n",
    "single_stat = True\n",
    "\n",
    "# g-point reduction cost function, iteration number, and normalization ID\n",
    "iCost = 1\n",
    "iterID = 1\n",
    "normID = 1\n",
    "iterNorm = 'cost{:02d}_iter{:03d}_norm{:1d}'.format(iCost, iterID, normID)\n",
    "iterNorm = os.path.basename(testFile)\n",
    "\n",
    "# prefixes for output files\n",
    "profPrefix = 'PROFS_LBLRTM_RRTMGP_{}'.format(iterNorm)\n",
    "statPrefix = 'stats_lblrtm_rrtmgp_{}'.format(iterNorm)\n",
    "#profPrefix = 'PROFS_LBLRTM_RRTMGP'\n",
    "#statPrefix = 'stats_lblrtm_rrtmgp'\n",
    "\n",
    "# pressure at tropopause (mbar)\n",
    "pTrop = np.exp(4.6)\n",
    "\n",
    "# unit-offset number of band to plot\n",
    "# can also be \"None\" (all bands) or [] (no single bands)\n",
    "bands = [4]\n",
    "\n",
    "# convert to zero-offset band numbers; None ==> all bands\n",
    "#inBand = None if bands is None else np.array(bands)-1\n",
    "doBroadband = True"
   ]
  },
  {
   "cell_type": "markdown",
   "metadata": {},
   "source": [
    "The following code cell should ONLY be run IF FORCING is being investigated."
   ]
  },
  {
   "cell_type": "code",
   "execution_count": null,
   "metadata": {},
   "outputs": [],
   "source": [
    "PIPPATH = '{}/.local/'.format(os.path.expanduser('~')) + \\\n",
    "    'cori/3.7-anaconda-2019.10/lib/python3.7/site-packages'\n",
    "\n",
    "sys.path.append(PIPPATH)\n",
    "import xarray as xa\n",
    "\n",
    "iForce = 2\n",
    "\n",
    "# newer RRTMGP-convention netCDFs for this project have forcing \n",
    "# scenarios consolidated into a single file, but the older plotting \n",
    "# programs expect separate files for each forcing scenario, so we \n",
    "# will create those files in this cell\n",
    "with xa.open_dataset(refFile) as rDS, xa.open_dataset(testFile) as tDS:\n",
    "    # baseline (no forcing) and forcing datasets\n",
    "    allDS = [rDS.isel(record=0), tDS.isel(record=0), \n",
    "             rDS.isel(record=iForce), tDS.isel(record=iForce)]\n",
    "# endwith\n",
    "\n",
    "allNames = ['lblrtm-lw-flux-inputs-outputs-garand.nc', \n",
    "            'rrtmgp-lw-flux-inputs-outputs-garand.nc', \n",
    "            'lblrtm-lw-flux-inputs-outputs-garand-forcing.nc', \n",
    "            'rrtmgp-lw-flux-inputs-outputs-garand-forcing.nc']\n",
    "\n",
    "for ds, name in zip(allDS, allNames):\n",
    "    ds.attrs['model-description'] = ''\n",
    "    ds.to_netcdf(name)\n",
    "    print(name)\n",
    "refFile, testFile = forcingDiff(allNames[0], allNames[1], allNames[2], allNames[3])\n"
   ]
  },
  {
   "cell_type": "markdown",
   "metadata": {},
   "source": [
    "Now we'll proceed with profile plot generation. The process is time consuming, but the progress -- for netCDF reading, band number, column number -- is printed to standard output (i.e., in this notebook, after the code cell). Once the figures are saved, they can be opened in a separate Jupyter tab by clicking on them in the left sidebar (the names follow the convention `plotPrefix_??.pdf`, where `plotPrefix` was defined in the previous \"Runtime Variables\" code cell, and `??` is the zero-padded band number, which can also be `broadband` if `doBroadband` is set to `True`). Additionally, each page of the PDF is rendered in this notebook. Figures can be deleted from the **notebook** by right-clicking on the output and selecting the \"Clear Outputs\" pull down option."
   ]
  },
  {
   "cell_type": "code",
   "execution_count": null,
   "metadata": {},
   "outputs": [],
   "source": [
    "# plot the test and reference upward and downward flux together\n",
    "# with the heating rates (and differences for each)\n",
    "if plot_profiles:\n",
    "    pBands = np.arange(16) if bands is None else np.array(bands)-1\n",
    "\n",
    "    for iBand in pBands:\n",
    "        profPDFs(refFile, testFile, yt, tPauseP=pTrop, \\\n",
    "          prefix=profPrefix, atmType=aType, inBand=iBand, \\\n",
    "          yLog=log_y)\n",
    "    # end iBand loop\n",
    "\n",
    "    # for specified bands AND broadband\n",
    "    if doBroadband:\n",
    "        profPDFs(refFile, testFile, yt, tPauseP=pTrop, \\\n",
    "          prefix=profPrefix, atmType=aType, \\\n",
    "          yLog=log_y, broadOnly=doBroadband)\n",
    "    # end broadband plot\n",
    "# end plot_profiles"
   ]
  },
  {
   "cell_type": "markdown",
   "metadata": {},
   "source": [
    "A similar procedure is performed for the statistics plots, which are less time consuming to produce. Because of the smaller amount of time needed for the statistics, they are calculated for all bands and broadband. Again, status is written to standard output, and files can be accessed in the left sidebar. File names conform to the `statPrefix_??.pdf` convention, where `statPrefix` is defined in the \"Runtime Variables\" code cell, and `??` is the zero-padded band number or `broadband`. Plots are also rendered in standard output. Figures can be deleted from the **notebook** by right-clicking on the output and selecting the \"Clear Outputs\" pull down option."
   ]
  },
  {
   "cell_type": "code",
   "execution_count": null,
   "metadata": {},
   "outputs": [],
   "source": [
    "# plot profile statistics\n",
    "if plot_stats:\n",
    "    statPDF(refFile, testFile, singlePDF=single_stat, \\\n",
    "      tPauseP=pTrop, xTitle=xt, yTitle=yt, prefix=statPrefix, \\\n",
    "      atmType=aType, statCSV='', forcing=False)"
   ]
  },
  {
   "cell_type": "code",
   "execution_count": null,
   "metadata": {},
   "outputs": [],
   "source": []
  }
 ],
 "metadata": {
  "kernelspec": {
   "display_name": "Python 3",
   "language": "python",
   "name": "python3"
  },
  "language_info": {
   "codemirror_mode": {
    "name": "ipython",
    "version": 3
   },
   "file_extension": ".py",
   "mimetype": "text/x-python",
   "name": "python",
   "nbconvert_exporter": "python",
   "pygments_lexer": "ipython3",
   "version": "3.7.4"
  }
 },
 "nbformat": 4,
 "nbformat_minor": 4
}
