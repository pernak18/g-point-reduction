{
 "cells": [
  {
   "cell_type": "markdown",
   "id": "0ed4d7c0-6d2a-4cc5-8828-7769274d8c3d",
   "metadata": {},
   "source": [
    "Generate some easier-to-digest form of the _g_-point-reduction diagnostics (total cost, optimal netCDF, cost components)"
   ]
  },
  {
   "cell_type": "code",
   "execution_count": 10,
   "id": "edaa5400-0293-4b36-bbb7-c9b70a907369",
   "metadata": {},
   "outputs": [],
   "source": [
    "import os, sys\n",
    "import pathlib as pl\n",
    "\n",
    "import xarray as xa\n",
    "import pandas as pd\n",
    "import numpy as np"
   ]
  },
  {
   "cell_type": "code",
   "execution_count": 14,
   "id": "a8637e73-e384-4064-abd7-da9f1b8f1db4",
   "metadata": {},
   "outputs": [
    {
     "name": "stdout",
     "output_type": "stream",
     "text": [
      "137 band02_coefficients_LW_g12-13_iter095_regr095.nc\n",
      "9 band15_coefficients_LW_g02-03_iter096_regr096.nc\n",
      "9 band05_coefficients_LW_g09-10_iter097_2p097.nc\n",
      "16 band01_coefficients_LW_g11-12_iter098_regr098.nc\n",
      "15 band09_coefficients_LW_g09-10_iter099_regr099.nc\n",
      "60 band07_coefficients_LW_g09-10_iter100_regr100.nc\n",
      "60 band08_coefficients_LW_g09-10_iter101_2p101.nc\n",
      "60 band04_coefficients_LW_g11-12_iter102_2p102.nc\n",
      "15 band16_coefficients_LW_g01-02_iter103_2p103.nc\n",
      "15 band08_coefficients_LW_g08-09_iter104_2p104.nc\n",
      "50 band02_coefficients_LW_g10-11_iter105_2p105.nc\n",
      "58 band07_coefficients_LW_g06-07_iter106_2p106.nc\n",
      "63 band10_coefficients_LW_g07-08_iter107_regr107.nc\n",
      "63 band13_coefficients_LW_g03-04_iter108_2p108.nc\n",
      "99 band11_coefficients_LW_g09-10_iter109_regr109.nc\n",
      "99 band05_coefficients_LW_g13-14_iter110_2p110.nc\n",
      "62 band16_coefficients_LW_g02-03_iter111_2p111.nc\n",
      "62 band15_coefficients_LW_g03-04_iter112_2p112.nc\n",
      "123 band12_coefficients_LW_g05-06_iter113_2p113.nc\n",
      "5 band03_coefficients_LW_g12-13_iter114_2p114.nc\n",
      "121 band05_coefficients_LW_g06-07_iter115_2p115.nc\n",
      "2 band02_coefficients_LW_g04-05_iter116_2p116.nc\n",
      "21 band07_coefficients_LW_g08-09_iter117_2p117.nc\n",
      "94 band13_coefficients_LW_g02-03_iter118_2p118.nc\n",
      "117 band10_coefficients_LW_g06-07_iter119_2p119.nc\n",
      "73 band02_coefficients_LW_g10-11_iter120_2p120.nc\n",
      "72 band14_coefficients_LW_g03-04_iter121_regr121.nc\n",
      "72 band03_coefficients_LW_g09-10_iter122_regr122.nc\n",
      "71 band14_coefficients_LW_g02-03_iter123_regr123.nc\n",
      "71 band05_coefficients_LW_g09-10_iter124_2p124.nc\n",
      "6 band06_coefficients_LW_g03-04_iter125_regr125.nc\n",
      "2 band06_coefficients_LW_g06-07_iter126_2p126.nc\n",
      "68 band10_coefficients_LW_g02-03_iter127_2p127.nc\n",
      "2 band11_coefficients_LW_g09-10_iter128_2p128.nc\n",
      "87 band04_coefficients_LW_g10-11_iter129_2p129.nc\n",
      "27 band01_coefficients_LW_g11-12_iter130_2p130.nc\n",
      "26 band11_coefficients_LW_g05-06_iter131_2p131.nc\n",
      "6 band02_coefficients_LW_g11-12_iter132_2p132.nc\n",
      "104 band04_coefficients_LW_g03-04_iter133_2p133.nc\n",
      "3 band11_coefficients_LW_g03-04_iter134_2p134.nc\n",
      "63 band04_coefficients_LW_g10-11_iter135_2p135.nc\n",
      "40 band01_coefficients_LW_g06-07_iter136_2p136.nc\n",
      "62 band01_coefficients_LW_g06-07_iter137_2p137.nc\n",
      "48 band03_coefficients_LW_g05-06_iter138_2p138.nc\n",
      "60 band12_coefficients_LW_g07-08_iter139_2p139.nc\n",
      "1 band12_coefficients_LW_g01-02_iter140_2p140.nc\n",
      "59 band14_coefficients_LW_g01-02_iter141_2p141.nc\n",
      "53 band01_coefficients_LW_g03-04_iter142_2p142.nc\n",
      "58 band16_coefficients_LW_g03-04_iter143_2p143.nc\n",
      "52 band11_coefficients_LW_g05-06_iter144_2p144.nc\n",
      "20 band15_coefficients_LW_g01-02_iter145_2p145.nc\n",
      "52 band04_coefficients_LW_g04-05_iter146_2p146.nc\n",
      "20 band03_coefficients_LW_g01-02_iter147_2p147.nc\n",
      "19 band11_coefficients_LW_g01-02_iter148_2p148.nc\n",
      "46 band02_coefficients_LW_g08-09_iter149_2p149.nc\n",
      "18 band13_coefficients_LW_g02-03_iter150_2p150.nc\n",
      "45 band13_coefficients_LW_g03-04_iter151_2p151.nc\n",
      "45 band01_coefficients_LW_g02-03_iter152_2p152.nc\n",
      "44 band07_coefficients_LW_g01-02_iter153_2p153.nc\n",
      "18 band09_coefficients_LW_g05-06_iter154_2p154.nc\n",
      "44 band05_coefficients_LW_g02-03_iter155_2p155.nc\n",
      "18 band05_coefficients_LW_g03-04_iter156_2p156.nc\n",
      "42 band07_coefficients_LW_g04-05_iter157_regr157.nc\n",
      "42 band05_coefficients_LW_g01-02_iter158_regr158.nc\n",
      "18 band09_coefficients_LW_g07-08_iter159_2p159.nc\n",
      "18 band12_coefficients_LW_g02-03_iter160_2p160.nc\n"
     ]
    }
   ],
   "source": [
    "diagDir = pl.Path('fullCF_top-layer_redo_abs_parabola/diagnostics')\n",
    "ncFiles = sorted(diagDir.rglob('*.nc'))\n",
    "for ncFile in ncFiles: \n",
    "    iterNC = int(ncFile.name[20:23])\n",
    "    # zoom in \n",
    "    if iterNC < 95 or iterNC > 160: continue\n",
    "    with xa.open_dataset(ncFile) as ds: \n",
    "        optNC = ds.attrs['optimal']\n",
    "        totalCost = ds['trial_total_cost'].values\n",
    "        iOpt = np.argmin(np.abs(totalCost-100))\n",
    "        comps = outDS.keys() # filter out cost_*\n",
    "        for comp in comps: costComp = outDS[comp][iOpt]\n",
    "        print(iOpt, optNC)"
   ]
  },
  {
   "cell_type": "code",
   "execution_count": null,
   "id": "b323f0c6-ba02-4de7-bfc6-57bf4a49396f",
   "metadata": {},
   "outputs": [],
   "source": []
  }
 ],
 "metadata": {
  "kernelspec": {
   "display_name": "g-redux-jlab",
   "language": "python",
   "name": "g-redux-jlab"
  },
  "language_info": {
   "codemirror_mode": {
    "name": "ipython",
    "version": 3
   },
   "file_extension": ".py",
   "mimetype": "text/x-python",
   "name": "python",
   "nbconvert_exporter": "python",
   "pygments_lexer": "ipython3",
   "version": "3.10.9"
  }
 },
 "nbformat": 4,
 "nbformat_minor": 5
}
