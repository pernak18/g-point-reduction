{
 "cells": [
  {
   "cell_type": "markdown",
   "metadata": {},
   "source": [
    "# By-band _g_-Point Reduction"
   ]
  },
  {
   "cell_type": "code",
   "execution_count": 56,
   "metadata": {},
   "outputs": [
    {
     "name": "stdout",
     "output_type": "stream",
     "text": [
      "key_species\n",
      "16\n",
      "kmajor\n",
      "plank_fraction\n",
      "totplnk\n",
      "16\n",
      "absorption_coefficient_ref_P\n",
      "absorption_coefficient_ref_T\n",
      "bnd_limits_gpt\n",
      "16\n",
      "bnd_limits_wavenumber\n",
      "16\n",
      "gas_minor\n",
      "gas_names\n",
      "identifier_minor\n",
      "minor_gases_lower\n",
      "minor_gases_upper\n",
      "minor_limits_gpt_lower\n",
      "minor_limits_gpt_upper\n",
      "minor_scales_with_density_lower\n",
      "minor_scales_with_density_upper\n",
      "press_ref\n",
      "press_ref_trop\n",
      "scale_by_complement_lower\n",
      "scale_by_complement_upper\n",
      "scaling_gas_lower\n",
      "scaling_gas_upper\n",
      "temp_ref\n",
      "vmr_ref\n",
      "kminor_lower\n",
      "kminor_start_lower\n",
      "kminor_upper\n",
      "kminor_start_upper\n",
      "optimal_angle_fit\n",
      "16\n"
     ]
    }
   ],
   "source": [
    "import os, sys\n",
    "import getpass\n",
    "\n",
    "# \"standard\" install\n",
    "import numpy as np\n",
    "\n",
    "# directory in which libraries installed with conda are saved\n",
    "PIPPATH = '{}/.local/'.format(os.path.expanduser('~')) + \\\n",
    "    'cori/3.7-anaconda-2019.10/lib/python3.7/site-packages'\n",
    "sys.path.append(PIPPATH)\n",
    "\n",
    "# user must do `conda install xarray` on cori (or other NERSC machines)\n",
    "import xarray as XA\n",
    "\n",
    "PROJECT = '/global/project/projectdirs/e3sm/pernak18/inputs/g-point-reduce'\n",
    "\n",
    "kFileNC = '{}/rrtmgp-data-lw-g256-2018-12-04.nc'.format(PROJECT)\n",
    "\n",
    "with XA.open_dataset(kFileNC) as kAllObj:\n",
    "    gLims = kAllObj.bnd_limits_gpt\n",
    "    kDist = kAllObj.kmajor\n",
    "    ncVars = list(kAllObj.keys())\n",
    "    dimStr = 'bnd'\n",
    "\n",
    "    for iBand in kAllObj.bnd.values:\n",
    "        outNC = 'coefficients_lw_band{:02d}.nc'.format(iBand+1)\n",
    "\n",
    "        # make sure we don't keep appending to an older file\n",
    "        if os.path.exists(outNC): os.remove(outNC)\n",
    "\n",
    "        for ncVar in ncVars:\n",
    "            # append to netCDF if it already exists, start the file if not\n",
    "            modeNC = 'a' if os.path.exists(outNC) else 'w'\n",
    "            print(ncVar)\n",
    "            if dimStr in kAllObj[ncVar].dims:\n",
    "                iGpt = gLims[iBand].values-1\n",
    "                bndGpt = int(np.diff(iGpt))+1\n",
    "                print(bndGpt)\n",
    "                continue\n",
    "                kAllObj[ncVar].to_netcdf(outNC, mode=modeNC)\n",
    "            else:\n",
    "                continue\n",
    "                kAllObj[ncVar].to_netcdf(outNC, mode=modeNC)\n",
    "            # endif\n",
    "        # end ncVar loop\n",
    "        break\n",
    "    # end band loop\n",
    "# endwith read"
   ]
  },
  {
   "cell_type": "code",
   "execution_count": null,
   "metadata": {},
   "outputs": [],
   "source": []
  },
  {
   "cell_type": "code",
   "execution_count": null,
   "metadata": {},
   "outputs": [],
   "source": []
  }
 ],
 "metadata": {
  "kernelspec": {
   "display_name": "Python 3",
   "language": "python",
   "name": "python3"
  },
  "language_info": {
   "codemirror_mode": {
    "name": "ipython",
    "version": 3
   },
   "file_extension": ".py",
   "mimetype": "text/x-python",
   "name": "python",
   "nbconvert_exporter": "python",
   "pygments_lexer": "ipython3",
   "version": "3.7.4"
  }
 },
 "nbformat": 4,
 "nbformat_minor": 4
}
