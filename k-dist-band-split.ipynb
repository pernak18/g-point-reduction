{
 "cells": [
  {
   "cell_type": "markdown",
   "metadata": {},
   "source": [
    "# By-band _k_-Distribution Files"
   ]
  },
  {
   "cell_type": "markdown",
   "metadata": {},
   "source": [
    "## Dependencies\n",
    "\n",
    "`numpy` is installed in the Python environment at NERSC (`module load python`), but `xarray` is not, so the user must install the package on their own. `PIPPATH` is the assumed location. This notebook depends heavily on `xarray`. "
   ]
  },
  {
   "cell_type": "code",
   "execution_count": null,
   "metadata": {},
   "outputs": [],
   "source": [
    "import os, sys\n",
    "\n",
    "# \"standard\" install\n",
    "import numpy as np\n",
    "\n",
    "# directory in which libraries installed with conda are saved\n",
    "PIPPATH = '{}/.local/'.format(os.path.expanduser('~')) + \\\n",
    "    'cori/3.7-anaconda-2019.10/lib/python3.7/site-packages'\n",
    "sys.path.append(PIPPATH)\n",
    "\n",
    "# user must do `pip install xarray` on cori (or other NERSC machines)\n",
    "import xarray as XA"
   ]
  },
  {
   "cell_type": "markdown",
   "metadata": {},
   "source": [
    "## Paths\n",
    "\n",
    "`kFileNC` can point to any netCDF file that contains absorption coefficients for all _g_-points. Initially, we start with the reference _k_-distribution file from 4-Dec-2018, available in the [RTE-RRTMGP GitHub repository](https://github.com/earth-system-radiation/rte-rrtmgp/blob/master/rrtmgp/data/rrtmgp-data-lw-g256-2018-12-04.nc). This was placed in the E3SM project space at NERSC."
   ]
  },
  {
   "cell_type": "code",
   "execution_count": null,
   "metadata": {},
   "outputs": [],
   "source": [
    "PROJECT = '/global/project/projectdirs/e3sm/pernak18/inputs/g-point-reduce'\n",
    "kFileNC = '{}/rrtmgp-data-lw-g256-2018-12-04.nc'.format(PROJECT)"
   ]
  },
  {
   "cell_type": "markdown",
   "metadata": {},
   "source": [
    "## Bandsplitting\n",
    "\n",
    "1. Open the netCDF with the entire _k_-distribution in it\n",
    "2. Loop over all bands and determine what _g_-point indices correspond to it\n",
    "3. Loop over all netCDF variables and determine which ones have the `gpt` dimension, which is the only dimension that is modified\n",
    "4. \"Slice\" the variables with the `gpt` dimensions so they only contain the portions of the _k_-distribution corresponding to a given band\n",
    "5. Write modified **and** unmodified variables to a new output netCDF that specifies the band number\n",
    "\n",
    "The end result is a netCDF for each band that contains only the parts of the variables that depend on _g_-points the correspond to the given band.\n",
    "\n",
    "Note: if files of the same name for a given band exist. This is so we do not append newer data to older files. If the files exist and the user wants to retain them, it is recommended that the files be moved to a subdirectory or somewhere else on the disk."
   ]
  },
  {
   "cell_type": "code",
   "execution_count": null,
   "metadata": {},
   "outputs": [],
   "source": [
    "with XA.open_dataset(kFileNC) as kAllObj:\n",
    "    gLims = kAllObj.bnd_limits_gpt\n",
    "    ncVars = list(kAllObj.keys())\n",
    "    dimStr = 'gpt'\n",
    "\n",
    "    for iBand in kAllObj.bnd.values:\n",
    "        # make a separate netCDF for each band\n",
    "        outNC = 'coefficients_lw_band{:02d}.nc'.format(iBand+1)\n",
    "\n",
    "        # make sure we don't keep appending to an older file\n",
    "        if os.path.exists(outNC): os.remove(outNC)\n",
    "\n",
    "        # determine which variables need to be parsed\n",
    "        for ncVar in ncVars:\n",
    "            # append to netCDF if it already exists, start the file if not\n",
    "            modeNC = 'a' if os.path.exists(outNC) else 'w'\n",
    "\n",
    "            ncDat = kAllObj[ncVar]\n",
    "\n",
    "            if dimStr in kAllObj[ncVar].dims:\n",
    "                # grab only the g-point information for this band\n",
    "                i1, i2 = gLims[iBand].values-1\n",
    "                ncDat = ncDat.isel(gpt=slice(i1, i2+1))\n",
    "            # endif\n",
    "\n",
    "            ncDat.to_netcdf(outNC, mode=modeNC)\n",
    "        # end ncVar loop\n",
    "\n",
    "        print('Completed {}'.format(outNC))\n",
    "    # end band loop\n",
    "# endwith read"
   ]
  },
  {
   "cell_type": "code",
   "execution_count": null,
   "metadata": {},
   "outputs": [],
   "source": []
  }
 ],
 "metadata": {
  "kernelspec": {
   "display_name": "Python 3",
   "language": "python",
   "name": "python3"
  },
  "language_info": {
   "codemirror_mode": {
    "name": "ipython",
    "version": 3
   },
   "file_extension": ".py",
   "mimetype": "text/x-python",
   "name": "python",
   "nbconvert_exporter": "python",
   "pygments_lexer": "ipython3",
   "version": "3.7.4"
  }
 },
 "nbformat": 4,
 "nbformat_minor": 4
}
