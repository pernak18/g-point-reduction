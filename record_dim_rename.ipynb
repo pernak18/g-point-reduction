{
 "cells": [
  {
   "cell_type": "markdown",
   "metadata": {},
   "source": [
    "# Record Rename\n",
    "\n",
    "Get rid of the `record` dimension in the RRTMGP flux netCDF files and replace it with `forcing` (working title) since the dimension represents different forcing scenarios.\n",
    "\n",
    "The only non-standard library is `xarray`, which the user must install in their own Python environment. `PIPPATH` is the assumed location."
   ]
  },
  {
   "cell_type": "code",
   "execution_count": 4,
   "metadata": {},
   "outputs": [],
   "source": [
    "import os, sys\n",
    "\n",
    "# directory in which libraries installed with conda are saved\n",
    "PIPPATH = '{}/.local/'.format(os.path.expanduser('~')) + \\\n",
    "    'cori/3.7-anaconda-2019.10/lib/python3.7/site-packages'\n",
    "sys.path.append(PIPPATH)\n",
    "\n",
    "import xarray as xa"
   ]
  },
  {
   "cell_type": "markdown",
   "metadata": {},
   "source": [
    "## Paths\n",
    "\n",
    "The user should provide an existing RRTMGP (or LBLRTM) netCDF with fluxes and heating rates in it. This is different from the netCDF from which RRTMGP reads absorption coefficients.\n",
    "\n",
    "A name for the data with a `forcing` (working title) dimension should also be provided, but it is not necessary. In any case, the modified dataset is written to a temporary "
   ]
  },
  {
   "cell_type": "code",
   "execution_count": 41,
   "metadata": {},
   "outputs": [],
   "source": [
    "inNC = 'temp-lbl.nc'\n",
    "assert os.path.exists(inNC), 'Could not find {}'.format(inNC)\n",
    "\n",
    "overwrite = True\n",
    "\n",
    "outNC = 'lblrtm-lw-flux-inputs-outputs-forcing.nc'\n",
    "\n",
    "# make sure we don't keep appending to an older file\n",
    "buffNC = 'temp.nc'\n",
    "if os.path.exists(buffNC): os.remove(buffNC)"
   ]
  },
  {
   "cell_type": "markdown",
   "metadata": {},
   "source": [
    "## Dimension Modification\n",
    "\n",
    "We will open up `inNC` and iterate over all of its variables. If a given variable has a `record` dimension, we will rename it to `forcing` (working title). If not, the variable is retained as is. Then we write to the new netCDF. If `overwrite` is set to `True`, the input netCDF is replaced."
   ]
  },
  {
   "cell_type": "code",
   "execution_count": 42,
   "metadata": {},
   "outputs": [
    {
     "name": "stdout",
     "output_type": "stream",
     "text": [
      "Completed temp-lbl.nc\n"
     ]
    }
   ],
   "source": [
    "with xa.open_dataset(inNC) as inObj:\n",
    "    ncVars = list(inObj.keys())\n",
    "\n",
    "    for ncVar in ncVars: \n",
    "        ncDat = inObj[ncVar]\n",
    "\n",
    "        # append to netCDF if it already exists, start the file if not\n",
    "        modeNC = 'a' if os.path.exists(buffNC) else 'w'\n",
    "\n",
    "        if 'record' in ncDat.dims:\n",
    "            # which dimension corresponds to `record`?\n",
    "            dims = list(ncDat.dims)\n",
    "            iRec = dims.index('record')\n",
    "            dims[iRec] = 'forcing'\n",
    "\n",
    "            # save variable with new dimensions\n",
    "            newDat = xa.DataArray(ncDat, dims=dims)\n",
    "        else:\n",
    "            # retain any variables without a record dimension\n",
    "            newDat = xa.DataArray(ncDat)\n",
    "        # endif record\n",
    "\n",
    "        newDat.to_netcdf(buffNC, mode=modeNC)\n",
    "    # end ncVar loop\n",
    "# endwith\n",
    "\n",
    "if overwrite: outNC = str(inNC)\n",
    "    \n",
    "os.rename(buffNC, outNC)\n",
    "print('Completed {}'.format(outNC))"
   ]
  },
  {
   "cell_type": "code",
   "execution_count": null,
   "metadata": {},
   "outputs": [],
   "source": []
  }
 ],
 "metadata": {
  "kernelspec": {
   "display_name": "Python 3",
   "language": "python",
   "name": "python3"
  },
  "language_info": {
   "codemirror_mode": {
    "name": "ipython",
    "version": 3
   },
   "file_extension": ".py",
   "mimetype": "text/x-python",
   "name": "python",
   "nbconvert_exporter": "python",
   "pygments_lexer": "ipython3",
   "version": "3.7.4"
  }
 },
 "nbformat": 4,
 "nbformat_minor": 4
}
